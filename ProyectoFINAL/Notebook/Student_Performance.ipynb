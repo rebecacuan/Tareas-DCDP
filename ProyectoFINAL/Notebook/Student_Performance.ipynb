{
  "cells": [
    {
      "cell_type": "markdown",
      "metadata": {
        "id": "vDQWBY6KiGK2"
      },
      "source": [
        "## Data Acquisition"
      ]
    },
    {
      "cell_type": "code",
      "execution_count": 2,
      "metadata": {
        "id": "xmCvC_9phOwi"
      },
      "outputs": [],
      "source": [
        "# Librerias necesarias\n",
        "import pandas as pd\n",
        "import numpy as np\n",
        "\n",
        "import seaborn as sns\n",
        "import matplotlib.pyplot as plt\n",
        "\n",
        "from sklearn.model_selection import StratifiedShuffleSplit\n",
        "from sklearn.preprocessing import StandardScaler\n",
        "from sklearn.feature_selection import VarianceThreshold\n",
        "from sklearn import metrics\n",
        "from sklearn.metrics import accuracy_score, recall_score, precision_score, confusion_matrix\n",
        "from sklearn.model_selection import GridSearchCV\n",
        "\n",
        "# Clasificadores\n",
        "from sklearn.linear_model import LogisticRegression\n",
        "from sklearn.feature_selection import SelectKBest, chi2, mutual_info_classif, f_classif\n",
        "from sklearn.tree import DecisionTreeClassifier\n",
        "from sklearn.ensemble import RandomForestClassifier\n",
        "from sklearn.svm import SVC\n",
        "import tensorflow as tf\n",
        "from tensorflow.keras.utils import to_categorical"
      ]
    },
    {
      "cell_type": "code",
      "execution_count": 3,
      "metadata": {
        "id": "lpA1d_yAhcXD"
      },
      "outputs": [],
      "source": [
        "# primero subir el archivo csv a drive\n",
        "# Disponible en Kaggle en: https://www.kaggle.com/datasets/rabieelkharoua/students-performance-dataset\n",
        "\n",
        "df = pd.read_csv(\"https://raw.githubusercontent.com/rebecacuan/Tareas-DCDP/main/ProyectoFINAL/Datos/Student_performance_data%20_.csv\",\n",
        "                 dtype={\"Gender\": \"category\",\n",
        "                        \"Ethnicity\": \"category\",\n",
        "                        \"ParentalEducation\": \"category\",\n",
        "                        \"Tutoring\": \"category\",\n",
        "                        \"ParentalSupport\": \"category\",\n",
        "                        \"Extracurricular\": \"category\",\n",
        "                        \"Sports\": \"category\",\n",
        "                        \"Music\": \"category\",\n",
        "                        \"Volunteering\": \"category\"})"
      ]
    },
    {
      "cell_type": "markdown",
      "metadata": {
        "id": "HgamCJYVhz7j"
      },
      "source": [
        "## Data Preprocessing"
      ]
    },
    {
      "cell_type": "markdown",
      "metadata": {
        "id": "slM7Q8Pjh7Bf"
      },
      "source": [
        "### Data Cleaning"
      ]
    },
    {
      "cell_type": "markdown",
      "source": [
        "Revosaremos si es que hay coljumnas que requieren removgerse porque no son importantes para el analisis y/o no entregar informacion relevante"
      ],
      "metadata": {
        "id": "j9XVSesAzngv"
      }
    },
    {
      "cell_type": "code",
      "execution_count": null,
      "metadata": {
        "colab": {
          "base_uri": "https://localhost:8080/",
          "height": 226
        },
        "id": "wG6ApOHahlyd",
        "outputId": "a19e13a5-46c1-4a28-9b0f-8f9f0cc9066a"
      },
      "outputs": [
        {
          "output_type": "execute_result",
          "data": {
            "text/plain": [
              "   StudentID  Age Gender Ethnicity ParentalEducation  StudyTimeWeekly  \\\n",
              "0       1001   17      1         0                 2        19.833723   \n",
              "1       1002   18      0         0                 1        15.408756   \n",
              "2       1003   15      0         2                 3         4.210570   \n",
              "3       1004   17      1         0                 3        10.028829   \n",
              "4       1005   17      1         0                 2         4.672495   \n",
              "\n",
              "   Absences Tutoring ParentalSupport Extracurricular Sports Music  \\\n",
              "0         7        1               2               0      0     1   \n",
              "1         0        0               1               0      0     0   \n",
              "2        26        0               2               0      0     0   \n",
              "3        14        0               3               1      0     0   \n",
              "4        17        1               3               0      0     0   \n",
              "\n",
              "  Volunteering       GPA  GradeClass  \n",
              "0            0  2.929196         2.0  \n",
              "1            0  3.042915         1.0  \n",
              "2            0  0.112602         4.0  \n",
              "3            0  2.054218         3.0  \n",
              "4            0  1.288061         4.0  "
            ],
            "text/html": [
              "\n",
              "  <div id=\"df-fc764a35-bd58-4bd3-8aa8-fe03477d56a5\" class=\"colab-df-container\">\n",
              "    <div>\n",
              "<style scoped>\n",
              "    .dataframe tbody tr th:only-of-type {\n",
              "        vertical-align: middle;\n",
              "    }\n",
              "\n",
              "    .dataframe tbody tr th {\n",
              "        vertical-align: top;\n",
              "    }\n",
              "\n",
              "    .dataframe thead th {\n",
              "        text-align: right;\n",
              "    }\n",
              "</style>\n",
              "<table border=\"1\" class=\"dataframe\">\n",
              "  <thead>\n",
              "    <tr style=\"text-align: right;\">\n",
              "      <th></th>\n",
              "      <th>StudentID</th>\n",
              "      <th>Age</th>\n",
              "      <th>Gender</th>\n",
              "      <th>Ethnicity</th>\n",
              "      <th>ParentalEducation</th>\n",
              "      <th>StudyTimeWeekly</th>\n",
              "      <th>Absences</th>\n",
              "      <th>Tutoring</th>\n",
              "      <th>ParentalSupport</th>\n",
              "      <th>Extracurricular</th>\n",
              "      <th>Sports</th>\n",
              "      <th>Music</th>\n",
              "      <th>Volunteering</th>\n",
              "      <th>GPA</th>\n",
              "      <th>GradeClass</th>\n",
              "    </tr>\n",
              "  </thead>\n",
              "  <tbody>\n",
              "    <tr>\n",
              "      <th>0</th>\n",
              "      <td>1001</td>\n",
              "      <td>17</td>\n",
              "      <td>1</td>\n",
              "      <td>0</td>\n",
              "      <td>2</td>\n",
              "      <td>19.833723</td>\n",
              "      <td>7</td>\n",
              "      <td>1</td>\n",
              "      <td>2</td>\n",
              "      <td>0</td>\n",
              "      <td>0</td>\n",
              "      <td>1</td>\n",
              "      <td>0</td>\n",
              "      <td>2.929196</td>\n",
              "      <td>2.0</td>\n",
              "    </tr>\n",
              "    <tr>\n",
              "      <th>1</th>\n",
              "      <td>1002</td>\n",
              "      <td>18</td>\n",
              "      <td>0</td>\n",
              "      <td>0</td>\n",
              "      <td>1</td>\n",
              "      <td>15.408756</td>\n",
              "      <td>0</td>\n",
              "      <td>0</td>\n",
              "      <td>1</td>\n",
              "      <td>0</td>\n",
              "      <td>0</td>\n",
              "      <td>0</td>\n",
              "      <td>0</td>\n",
              "      <td>3.042915</td>\n",
              "      <td>1.0</td>\n",
              "    </tr>\n",
              "    <tr>\n",
              "      <th>2</th>\n",
              "      <td>1003</td>\n",
              "      <td>15</td>\n",
              "      <td>0</td>\n",
              "      <td>2</td>\n",
              "      <td>3</td>\n",
              "      <td>4.210570</td>\n",
              "      <td>26</td>\n",
              "      <td>0</td>\n",
              "      <td>2</td>\n",
              "      <td>0</td>\n",
              "      <td>0</td>\n",
              "      <td>0</td>\n",
              "      <td>0</td>\n",
              "      <td>0.112602</td>\n",
              "      <td>4.0</td>\n",
              "    </tr>\n",
              "    <tr>\n",
              "      <th>3</th>\n",
              "      <td>1004</td>\n",
              "      <td>17</td>\n",
              "      <td>1</td>\n",
              "      <td>0</td>\n",
              "      <td>3</td>\n",
              "      <td>10.028829</td>\n",
              "      <td>14</td>\n",
              "      <td>0</td>\n",
              "      <td>3</td>\n",
              "      <td>1</td>\n",
              "      <td>0</td>\n",
              "      <td>0</td>\n",
              "      <td>0</td>\n",
              "      <td>2.054218</td>\n",
              "      <td>3.0</td>\n",
              "    </tr>\n",
              "    <tr>\n",
              "      <th>4</th>\n",
              "      <td>1005</td>\n",
              "      <td>17</td>\n",
              "      <td>1</td>\n",
              "      <td>0</td>\n",
              "      <td>2</td>\n",
              "      <td>4.672495</td>\n",
              "      <td>17</td>\n",
              "      <td>1</td>\n",
              "      <td>3</td>\n",
              "      <td>0</td>\n",
              "      <td>0</td>\n",
              "      <td>0</td>\n",
              "      <td>0</td>\n",
              "      <td>1.288061</td>\n",
              "      <td>4.0</td>\n",
              "    </tr>\n",
              "  </tbody>\n",
              "</table>\n",
              "</div>\n",
              "    <div class=\"colab-df-buttons\">\n",
              "\n",
              "  <div class=\"colab-df-container\">\n",
              "    <button class=\"colab-df-convert\" onclick=\"convertToInteractive('df-fc764a35-bd58-4bd3-8aa8-fe03477d56a5')\"\n",
              "            title=\"Convert this dataframe to an interactive table.\"\n",
              "            style=\"display:none;\">\n",
              "\n",
              "  <svg xmlns=\"http://www.w3.org/2000/svg\" height=\"24px\" viewBox=\"0 -960 960 960\">\n",
              "    <path d=\"M120-120v-720h720v720H120Zm60-500h600v-160H180v160Zm220 220h160v-160H400v160Zm0 220h160v-160H400v160ZM180-400h160v-160H180v160Zm440 0h160v-160H620v160ZM180-180h160v-160H180v160Zm440 0h160v-160H620v160Z\"/>\n",
              "  </svg>\n",
              "    </button>\n",
              "\n",
              "  <style>\n",
              "    .colab-df-container {\n",
              "      display:flex;\n",
              "      gap: 12px;\n",
              "    }\n",
              "\n",
              "    .colab-df-convert {\n",
              "      background-color: #E8F0FE;\n",
              "      border: none;\n",
              "      border-radius: 50%;\n",
              "      cursor: pointer;\n",
              "      display: none;\n",
              "      fill: #1967D2;\n",
              "      height: 32px;\n",
              "      padding: 0 0 0 0;\n",
              "      width: 32px;\n",
              "    }\n",
              "\n",
              "    .colab-df-convert:hover {\n",
              "      background-color: #E2EBFA;\n",
              "      box-shadow: 0px 1px 2px rgba(60, 64, 67, 0.3), 0px 1px 3px 1px rgba(60, 64, 67, 0.15);\n",
              "      fill: #174EA6;\n",
              "    }\n",
              "\n",
              "    .colab-df-buttons div {\n",
              "      margin-bottom: 4px;\n",
              "    }\n",
              "\n",
              "    [theme=dark] .colab-df-convert {\n",
              "      background-color: #3B4455;\n",
              "      fill: #D2E3FC;\n",
              "    }\n",
              "\n",
              "    [theme=dark] .colab-df-convert:hover {\n",
              "      background-color: #434B5C;\n",
              "      box-shadow: 0px 1px 3px 1px rgba(0, 0, 0, 0.15);\n",
              "      filter: drop-shadow(0px 1px 2px rgba(0, 0, 0, 0.3));\n",
              "      fill: #FFFFFF;\n",
              "    }\n",
              "  </style>\n",
              "\n",
              "    <script>\n",
              "      const buttonEl =\n",
              "        document.querySelector('#df-fc764a35-bd58-4bd3-8aa8-fe03477d56a5 button.colab-df-convert');\n",
              "      buttonEl.style.display =\n",
              "        google.colab.kernel.accessAllowed ? 'block' : 'none';\n",
              "\n",
              "      async function convertToInteractive(key) {\n",
              "        const element = document.querySelector('#df-fc764a35-bd58-4bd3-8aa8-fe03477d56a5');\n",
              "        const dataTable =\n",
              "          await google.colab.kernel.invokeFunction('convertToInteractive',\n",
              "                                                    [key], {});\n",
              "        if (!dataTable) return;\n",
              "\n",
              "        const docLinkHtml = 'Like what you see? Visit the ' +\n",
              "          '<a target=\"_blank\" href=https://colab.research.google.com/notebooks/data_table.ipynb>data table notebook</a>'\n",
              "          + ' to learn more about interactive tables.';\n",
              "        element.innerHTML = '';\n",
              "        dataTable['output_type'] = 'display_data';\n",
              "        await google.colab.output.renderOutput(dataTable, element);\n",
              "        const docLink = document.createElement('div');\n",
              "        docLink.innerHTML = docLinkHtml;\n",
              "        element.appendChild(docLink);\n",
              "      }\n",
              "    </script>\n",
              "  </div>\n",
              "\n",
              "\n",
              "<div id=\"df-6b3c8309-f76c-4e47-9161-931e389f438d\">\n",
              "  <button class=\"colab-df-quickchart\" onclick=\"quickchart('df-6b3c8309-f76c-4e47-9161-931e389f438d')\"\n",
              "            title=\"Suggest charts\"\n",
              "            style=\"display:none;\">\n",
              "\n",
              "<svg xmlns=\"http://www.w3.org/2000/svg\" height=\"24px\"viewBox=\"0 0 24 24\"\n",
              "     width=\"24px\">\n",
              "    <g>\n",
              "        <path d=\"M19 3H5c-1.1 0-2 .9-2 2v14c0 1.1.9 2 2 2h14c1.1 0 2-.9 2-2V5c0-1.1-.9-2-2-2zM9 17H7v-7h2v7zm4 0h-2V7h2v10zm4 0h-2v-4h2v4z\"/>\n",
              "    </g>\n",
              "</svg>\n",
              "  </button>\n",
              "\n",
              "<style>\n",
              "  .colab-df-quickchart {\n",
              "      --bg-color: #E8F0FE;\n",
              "      --fill-color: #1967D2;\n",
              "      --hover-bg-color: #E2EBFA;\n",
              "      --hover-fill-color: #174EA6;\n",
              "      --disabled-fill-color: #AAA;\n",
              "      --disabled-bg-color: #DDD;\n",
              "  }\n",
              "\n",
              "  [theme=dark] .colab-df-quickchart {\n",
              "      --bg-color: #3B4455;\n",
              "      --fill-color: #D2E3FC;\n",
              "      --hover-bg-color: #434B5C;\n",
              "      --hover-fill-color: #FFFFFF;\n",
              "      --disabled-bg-color: #3B4455;\n",
              "      --disabled-fill-color: #666;\n",
              "  }\n",
              "\n",
              "  .colab-df-quickchart {\n",
              "    background-color: var(--bg-color);\n",
              "    border: none;\n",
              "    border-radius: 50%;\n",
              "    cursor: pointer;\n",
              "    display: none;\n",
              "    fill: var(--fill-color);\n",
              "    height: 32px;\n",
              "    padding: 0;\n",
              "    width: 32px;\n",
              "  }\n",
              "\n",
              "  .colab-df-quickchart:hover {\n",
              "    background-color: var(--hover-bg-color);\n",
              "    box-shadow: 0 1px 2px rgba(60, 64, 67, 0.3), 0 1px 3px 1px rgba(60, 64, 67, 0.15);\n",
              "    fill: var(--button-hover-fill-color);\n",
              "  }\n",
              "\n",
              "  .colab-df-quickchart-complete:disabled,\n",
              "  .colab-df-quickchart-complete:disabled:hover {\n",
              "    background-color: var(--disabled-bg-color);\n",
              "    fill: var(--disabled-fill-color);\n",
              "    box-shadow: none;\n",
              "  }\n",
              "\n",
              "  .colab-df-spinner {\n",
              "    border: 2px solid var(--fill-color);\n",
              "    border-color: transparent;\n",
              "    border-bottom-color: var(--fill-color);\n",
              "    animation:\n",
              "      spin 1s steps(1) infinite;\n",
              "  }\n",
              "\n",
              "  @keyframes spin {\n",
              "    0% {\n",
              "      border-color: transparent;\n",
              "      border-bottom-color: var(--fill-color);\n",
              "      border-left-color: var(--fill-color);\n",
              "    }\n",
              "    20% {\n",
              "      border-color: transparent;\n",
              "      border-left-color: var(--fill-color);\n",
              "      border-top-color: var(--fill-color);\n",
              "    }\n",
              "    30% {\n",
              "      border-color: transparent;\n",
              "      border-left-color: var(--fill-color);\n",
              "      border-top-color: var(--fill-color);\n",
              "      border-right-color: var(--fill-color);\n",
              "    }\n",
              "    40% {\n",
              "      border-color: transparent;\n",
              "      border-right-color: var(--fill-color);\n",
              "      border-top-color: var(--fill-color);\n",
              "    }\n",
              "    60% {\n",
              "      border-color: transparent;\n",
              "      border-right-color: var(--fill-color);\n",
              "    }\n",
              "    80% {\n",
              "      border-color: transparent;\n",
              "      border-right-color: var(--fill-color);\n",
              "      border-bottom-color: var(--fill-color);\n",
              "    }\n",
              "    90% {\n",
              "      border-color: transparent;\n",
              "      border-bottom-color: var(--fill-color);\n",
              "    }\n",
              "  }\n",
              "</style>\n",
              "\n",
              "  <script>\n",
              "    async function quickchart(key) {\n",
              "      const quickchartButtonEl =\n",
              "        document.querySelector('#' + key + ' button');\n",
              "      quickchartButtonEl.disabled = true;  // To prevent multiple clicks.\n",
              "      quickchartButtonEl.classList.add('colab-df-spinner');\n",
              "      try {\n",
              "        const charts = await google.colab.kernel.invokeFunction(\n",
              "            'suggestCharts', [key], {});\n",
              "      } catch (error) {\n",
              "        console.error('Error during call to suggestCharts:', error);\n",
              "      }\n",
              "      quickchartButtonEl.classList.remove('colab-df-spinner');\n",
              "      quickchartButtonEl.classList.add('colab-df-quickchart-complete');\n",
              "    }\n",
              "    (() => {\n",
              "      let quickchartButtonEl =\n",
              "        document.querySelector('#df-6b3c8309-f76c-4e47-9161-931e389f438d button');\n",
              "      quickchartButtonEl.style.display =\n",
              "        google.colab.kernel.accessAllowed ? 'block' : 'none';\n",
              "    })();\n",
              "  </script>\n",
              "</div>\n",
              "\n",
              "    </div>\n",
              "  </div>\n"
            ],
            "application/vnd.google.colaboratory.intrinsic+json": {
              "type": "dataframe",
              "variable_name": "df",
              "summary": "{\n  \"name\": \"df\",\n  \"rows\": 2392,\n  \"fields\": [\n    {\n      \"column\": \"StudentID\",\n      \"properties\": {\n        \"dtype\": \"number\",\n        \"std\": 690,\n        \"min\": 1001,\n        \"max\": 3392,\n        \"num_unique_values\": 2392,\n        \"samples\": [\n          2005,\n          1197,\n          3343\n        ],\n        \"semantic_type\": \"\",\n        \"description\": \"\"\n      }\n    },\n    {\n      \"column\": \"Age\",\n      \"properties\": {\n        \"dtype\": \"number\",\n        \"std\": 1,\n        \"min\": 15,\n        \"max\": 18,\n        \"num_unique_values\": 4,\n        \"samples\": [\n          18,\n          16,\n          17\n        ],\n        \"semantic_type\": \"\",\n        \"description\": \"\"\n      }\n    },\n    {\n      \"column\": \"Gender\",\n      \"properties\": {\n        \"dtype\": \"category\",\n        \"num_unique_values\": 2,\n        \"samples\": [\n          \"0\",\n          \"1\"\n        ],\n        \"semantic_type\": \"\",\n        \"description\": \"\"\n      }\n    },\n    {\n      \"column\": \"Ethnicity\",\n      \"properties\": {\n        \"dtype\": \"category\",\n        \"num_unique_values\": 4,\n        \"samples\": [\n          \"2\",\n          \"3\"\n        ],\n        \"semantic_type\": \"\",\n        \"description\": \"\"\n      }\n    },\n    {\n      \"column\": \"ParentalEducation\",\n      \"properties\": {\n        \"dtype\": \"category\",\n        \"num_unique_values\": 5,\n        \"samples\": [\n          \"1\",\n          \"0\"\n        ],\n        \"semantic_type\": \"\",\n        \"description\": \"\"\n      }\n    },\n    {\n      \"column\": \"StudyTimeWeekly\",\n      \"properties\": {\n        \"dtype\": \"number\",\n        \"std\": 5.652774235860264,\n        \"min\": 0.001056538645936,\n        \"max\": 19.97809399526153,\n        \"num_unique_values\": 2392,\n        \"samples\": [\n          0.1357634804717955,\n          1.9899245236127627\n        ],\n        \"semantic_type\": \"\",\n        \"description\": \"\"\n      }\n    },\n    {\n      \"column\": \"Absences\",\n      \"properties\": {\n        \"dtype\": \"number\",\n        \"std\": 8,\n        \"min\": 0,\n        \"max\": 29,\n        \"num_unique_values\": 30,\n        \"samples\": [\n          18,\n          25\n        ],\n        \"semantic_type\": \"\",\n        \"description\": \"\"\n      }\n    },\n    {\n      \"column\": \"Tutoring\",\n      \"properties\": {\n        \"dtype\": \"category\",\n        \"num_unique_values\": 2,\n        \"samples\": [\n          \"0\",\n          \"1\"\n        ],\n        \"semantic_type\": \"\",\n        \"description\": \"\"\n      }\n    },\n    {\n      \"column\": \"ParentalSupport\",\n      \"properties\": {\n        \"dtype\": \"category\",\n        \"num_unique_values\": 5,\n        \"samples\": [\n          \"1\",\n          \"0\"\n        ],\n        \"semantic_type\": \"\",\n        \"description\": \"\"\n      }\n    },\n    {\n      \"column\": \"Extracurricular\",\n      \"properties\": {\n        \"dtype\": \"category\",\n        \"num_unique_values\": 2,\n        \"samples\": [\n          \"1\",\n          \"0\"\n        ],\n        \"semantic_type\": \"\",\n        \"description\": \"\"\n      }\n    },\n    {\n      \"column\": \"Sports\",\n      \"properties\": {\n        \"dtype\": \"category\",\n        \"num_unique_values\": 2,\n        \"samples\": [\n          \"1\",\n          \"0\"\n        ],\n        \"semantic_type\": \"\",\n        \"description\": \"\"\n      }\n    },\n    {\n      \"column\": \"Music\",\n      \"properties\": {\n        \"dtype\": \"category\",\n        \"num_unique_values\": 2,\n        \"samples\": [\n          \"0\",\n          \"1\"\n        ],\n        \"semantic_type\": \"\",\n        \"description\": \"\"\n      }\n    },\n    {\n      \"column\": \"Volunteering\",\n      \"properties\": {\n        \"dtype\": \"category\",\n        \"num_unique_values\": 2,\n        \"samples\": [\n          \"1\",\n          \"0\"\n        ],\n        \"semantic_type\": \"\",\n        \"description\": \"\"\n      }\n    },\n    {\n      \"column\": \"GPA\",\n      \"properties\": {\n        \"dtype\": \"number\",\n        \"std\": 0.9151558203249592,\n        \"min\": 0.0,\n        \"max\": 4.0,\n        \"num_unique_values\": 2371,\n        \"samples\": [\n          3.3104012689001965,\n          3.4577117259752934\n        ],\n        \"semantic_type\": \"\",\n        \"description\": \"\"\n      }\n    },\n    {\n      \"column\": \"GradeClass\",\n      \"properties\": {\n        \"dtype\": \"number\",\n        \"std\": 1.2339075602260876,\n        \"min\": 0.0,\n        \"max\": 4.0,\n        \"num_unique_values\": 5,\n        \"samples\": [\n          1.0,\n          0.0\n        ],\n        \"semantic_type\": \"\",\n        \"description\": \"\"\n      }\n    }\n  ]\n}"
            }
          },
          "metadata": {},
          "execution_count": 12
        }
      ],
      "source": [
        "# Mostrar los primeros 5 registros\n",
        "df.head()"
      ]
    },
    {
      "cell_type": "code",
      "execution_count": null,
      "metadata": {
        "colab": {
          "base_uri": "https://localhost:8080/"
        },
        "id": "ZQSJwdMsV8x-",
        "outputId": "1946daef-c2bb-48dd-c1fb-e880fe26f693"
      },
      "outputs": [
        {
          "output_type": "stream",
          "name": "stdout",
          "text": [
            "<class 'pandas.core.frame.DataFrame'>\n",
            "RangeIndex: 2392 entries, 0 to 2391\n",
            "Data columns (total 15 columns):\n",
            " #   Column             Non-Null Count  Dtype   \n",
            "---  ------             --------------  -----   \n",
            " 0   StudentID          2392 non-null   int64   \n",
            " 1   Age                2392 non-null   int64   \n",
            " 2   Gender             2392 non-null   category\n",
            " 3   Ethnicity          2392 non-null   category\n",
            " 4   ParentalEducation  2392 non-null   category\n",
            " 5   StudyTimeWeekly    2392 non-null   float64 \n",
            " 6   Absences           2392 non-null   int64   \n",
            " 7   Tutoring           2392 non-null   category\n",
            " 8   ParentalSupport    2392 non-null   category\n",
            " 9   Extracurricular    2392 non-null   category\n",
            " 10  Sports             2392 non-null   category\n",
            " 11  Music              2392 non-null   category\n",
            " 12  Volunteering       2392 non-null   category\n",
            " 13  GPA                2392 non-null   float64 \n",
            " 14  GradeClass         2392 non-null   float64 \n",
            "dtypes: category(9), float64(3), int64(3)\n",
            "memory usage: 134.3 KB\n"
          ]
        }
      ],
      "source": [
        "df.info()"
      ]
    },
    {
      "cell_type": "code",
      "execution_count": null,
      "metadata": {
        "colab": {
          "base_uri": "https://localhost:8080/",
          "height": 300
        },
        "id": "rlw1kjG0WBX5",
        "outputId": "71464d83-40ea-45e2-e1cb-d8ba97b7f4f4"
      },
      "outputs": [
        {
          "output_type": "execute_result",
          "data": {
            "text/plain": [
              "         StudentID          Age  StudyTimeWeekly     Absences          GPA  \\\n",
              "count  2392.000000  2392.000000      2392.000000  2392.000000  2392.000000   \n",
              "mean   2196.500000    16.468645         9.771992    14.541388     1.906186   \n",
              "std     690.655244     1.123798         5.652774     8.467417     0.915156   \n",
              "min    1001.000000    15.000000         0.001057     0.000000     0.000000   \n",
              "25%    1598.750000    15.000000         5.043079     7.000000     1.174803   \n",
              "50%    2196.500000    16.000000         9.705363    15.000000     1.893393   \n",
              "75%    2794.250000    17.000000        14.408410    22.000000     2.622216   \n",
              "max    3392.000000    18.000000        19.978094    29.000000     4.000000   \n",
              "\n",
              "        GradeClass  \n",
              "count  2392.000000  \n",
              "mean      2.983696  \n",
              "std       1.233908  \n",
              "min       0.000000  \n",
              "25%       2.000000  \n",
              "50%       4.000000  \n",
              "75%       4.000000  \n",
              "max       4.000000  "
            ],
            "text/html": [
              "\n",
              "  <div id=\"df-e4a22cc2-ae01-41d7-a7a9-c03801c63e4c\" class=\"colab-df-container\">\n",
              "    <div>\n",
              "<style scoped>\n",
              "    .dataframe tbody tr th:only-of-type {\n",
              "        vertical-align: middle;\n",
              "    }\n",
              "\n",
              "    .dataframe tbody tr th {\n",
              "        vertical-align: top;\n",
              "    }\n",
              "\n",
              "    .dataframe thead th {\n",
              "        text-align: right;\n",
              "    }\n",
              "</style>\n",
              "<table border=\"1\" class=\"dataframe\">\n",
              "  <thead>\n",
              "    <tr style=\"text-align: right;\">\n",
              "      <th></th>\n",
              "      <th>StudentID</th>\n",
              "      <th>Age</th>\n",
              "      <th>StudyTimeWeekly</th>\n",
              "      <th>Absences</th>\n",
              "      <th>GPA</th>\n",
              "      <th>GradeClass</th>\n",
              "    </tr>\n",
              "  </thead>\n",
              "  <tbody>\n",
              "    <tr>\n",
              "      <th>count</th>\n",
              "      <td>2392.000000</td>\n",
              "      <td>2392.000000</td>\n",
              "      <td>2392.000000</td>\n",
              "      <td>2392.000000</td>\n",
              "      <td>2392.000000</td>\n",
              "      <td>2392.000000</td>\n",
              "    </tr>\n",
              "    <tr>\n",
              "      <th>mean</th>\n",
              "      <td>2196.500000</td>\n",
              "      <td>16.468645</td>\n",
              "      <td>9.771992</td>\n",
              "      <td>14.541388</td>\n",
              "      <td>1.906186</td>\n",
              "      <td>2.983696</td>\n",
              "    </tr>\n",
              "    <tr>\n",
              "      <th>std</th>\n",
              "      <td>690.655244</td>\n",
              "      <td>1.123798</td>\n",
              "      <td>5.652774</td>\n",
              "      <td>8.467417</td>\n",
              "      <td>0.915156</td>\n",
              "      <td>1.233908</td>\n",
              "    </tr>\n",
              "    <tr>\n",
              "      <th>min</th>\n",
              "      <td>1001.000000</td>\n",
              "      <td>15.000000</td>\n",
              "      <td>0.001057</td>\n",
              "      <td>0.000000</td>\n",
              "      <td>0.000000</td>\n",
              "      <td>0.000000</td>\n",
              "    </tr>\n",
              "    <tr>\n",
              "      <th>25%</th>\n",
              "      <td>1598.750000</td>\n",
              "      <td>15.000000</td>\n",
              "      <td>5.043079</td>\n",
              "      <td>7.000000</td>\n",
              "      <td>1.174803</td>\n",
              "      <td>2.000000</td>\n",
              "    </tr>\n",
              "    <tr>\n",
              "      <th>50%</th>\n",
              "      <td>2196.500000</td>\n",
              "      <td>16.000000</td>\n",
              "      <td>9.705363</td>\n",
              "      <td>15.000000</td>\n",
              "      <td>1.893393</td>\n",
              "      <td>4.000000</td>\n",
              "    </tr>\n",
              "    <tr>\n",
              "      <th>75%</th>\n",
              "      <td>2794.250000</td>\n",
              "      <td>17.000000</td>\n",
              "      <td>14.408410</td>\n",
              "      <td>22.000000</td>\n",
              "      <td>2.622216</td>\n",
              "      <td>4.000000</td>\n",
              "    </tr>\n",
              "    <tr>\n",
              "      <th>max</th>\n",
              "      <td>3392.000000</td>\n",
              "      <td>18.000000</td>\n",
              "      <td>19.978094</td>\n",
              "      <td>29.000000</td>\n",
              "      <td>4.000000</td>\n",
              "      <td>4.000000</td>\n",
              "    </tr>\n",
              "  </tbody>\n",
              "</table>\n",
              "</div>\n",
              "    <div class=\"colab-df-buttons\">\n",
              "\n",
              "  <div class=\"colab-df-container\">\n",
              "    <button class=\"colab-df-convert\" onclick=\"convertToInteractive('df-e4a22cc2-ae01-41d7-a7a9-c03801c63e4c')\"\n",
              "            title=\"Convert this dataframe to an interactive table.\"\n",
              "            style=\"display:none;\">\n",
              "\n",
              "  <svg xmlns=\"http://www.w3.org/2000/svg\" height=\"24px\" viewBox=\"0 -960 960 960\">\n",
              "    <path d=\"M120-120v-720h720v720H120Zm60-500h600v-160H180v160Zm220 220h160v-160H400v160Zm0 220h160v-160H400v160ZM180-400h160v-160H180v160Zm440 0h160v-160H620v160ZM180-180h160v-160H180v160Zm440 0h160v-160H620v160Z\"/>\n",
              "  </svg>\n",
              "    </button>\n",
              "\n",
              "  <style>\n",
              "    .colab-df-container {\n",
              "      display:flex;\n",
              "      gap: 12px;\n",
              "    }\n",
              "\n",
              "    .colab-df-convert {\n",
              "      background-color: #E8F0FE;\n",
              "      border: none;\n",
              "      border-radius: 50%;\n",
              "      cursor: pointer;\n",
              "      display: none;\n",
              "      fill: #1967D2;\n",
              "      height: 32px;\n",
              "      padding: 0 0 0 0;\n",
              "      width: 32px;\n",
              "    }\n",
              "\n",
              "    .colab-df-convert:hover {\n",
              "      background-color: #E2EBFA;\n",
              "      box-shadow: 0px 1px 2px rgba(60, 64, 67, 0.3), 0px 1px 3px 1px rgba(60, 64, 67, 0.15);\n",
              "      fill: #174EA6;\n",
              "    }\n",
              "\n",
              "    .colab-df-buttons div {\n",
              "      margin-bottom: 4px;\n",
              "    }\n",
              "\n",
              "    [theme=dark] .colab-df-convert {\n",
              "      background-color: #3B4455;\n",
              "      fill: #D2E3FC;\n",
              "    }\n",
              "\n",
              "    [theme=dark] .colab-df-convert:hover {\n",
              "      background-color: #434B5C;\n",
              "      box-shadow: 0px 1px 3px 1px rgba(0, 0, 0, 0.15);\n",
              "      filter: drop-shadow(0px 1px 2px rgba(0, 0, 0, 0.3));\n",
              "      fill: #FFFFFF;\n",
              "    }\n",
              "  </style>\n",
              "\n",
              "    <script>\n",
              "      const buttonEl =\n",
              "        document.querySelector('#df-e4a22cc2-ae01-41d7-a7a9-c03801c63e4c button.colab-df-convert');\n",
              "      buttonEl.style.display =\n",
              "        google.colab.kernel.accessAllowed ? 'block' : 'none';\n",
              "\n",
              "      async function convertToInteractive(key) {\n",
              "        const element = document.querySelector('#df-e4a22cc2-ae01-41d7-a7a9-c03801c63e4c');\n",
              "        const dataTable =\n",
              "          await google.colab.kernel.invokeFunction('convertToInteractive',\n",
              "                                                    [key], {});\n",
              "        if (!dataTable) return;\n",
              "\n",
              "        const docLinkHtml = 'Like what you see? Visit the ' +\n",
              "          '<a target=\"_blank\" href=https://colab.research.google.com/notebooks/data_table.ipynb>data table notebook</a>'\n",
              "          + ' to learn more about interactive tables.';\n",
              "        element.innerHTML = '';\n",
              "        dataTable['output_type'] = 'display_data';\n",
              "        await google.colab.output.renderOutput(dataTable, element);\n",
              "        const docLink = document.createElement('div');\n",
              "        docLink.innerHTML = docLinkHtml;\n",
              "        element.appendChild(docLink);\n",
              "      }\n",
              "    </script>\n",
              "  </div>\n",
              "\n",
              "\n",
              "<div id=\"df-68cb30b4-acfb-4c40-bd4b-7eb61f408cf3\">\n",
              "  <button class=\"colab-df-quickchart\" onclick=\"quickchart('df-68cb30b4-acfb-4c40-bd4b-7eb61f408cf3')\"\n",
              "            title=\"Suggest charts\"\n",
              "            style=\"display:none;\">\n",
              "\n",
              "<svg xmlns=\"http://www.w3.org/2000/svg\" height=\"24px\"viewBox=\"0 0 24 24\"\n",
              "     width=\"24px\">\n",
              "    <g>\n",
              "        <path d=\"M19 3H5c-1.1 0-2 .9-2 2v14c0 1.1.9 2 2 2h14c1.1 0 2-.9 2-2V5c0-1.1-.9-2-2-2zM9 17H7v-7h2v7zm4 0h-2V7h2v10zm4 0h-2v-4h2v4z\"/>\n",
              "    </g>\n",
              "</svg>\n",
              "  </button>\n",
              "\n",
              "<style>\n",
              "  .colab-df-quickchart {\n",
              "      --bg-color: #E8F0FE;\n",
              "      --fill-color: #1967D2;\n",
              "      --hover-bg-color: #E2EBFA;\n",
              "      --hover-fill-color: #174EA6;\n",
              "      --disabled-fill-color: #AAA;\n",
              "      --disabled-bg-color: #DDD;\n",
              "  }\n",
              "\n",
              "  [theme=dark] .colab-df-quickchart {\n",
              "      --bg-color: #3B4455;\n",
              "      --fill-color: #D2E3FC;\n",
              "      --hover-bg-color: #434B5C;\n",
              "      --hover-fill-color: #FFFFFF;\n",
              "      --disabled-bg-color: #3B4455;\n",
              "      --disabled-fill-color: #666;\n",
              "  }\n",
              "\n",
              "  .colab-df-quickchart {\n",
              "    background-color: var(--bg-color);\n",
              "    border: none;\n",
              "    border-radius: 50%;\n",
              "    cursor: pointer;\n",
              "    display: none;\n",
              "    fill: var(--fill-color);\n",
              "    height: 32px;\n",
              "    padding: 0;\n",
              "    width: 32px;\n",
              "  }\n",
              "\n",
              "  .colab-df-quickchart:hover {\n",
              "    background-color: var(--hover-bg-color);\n",
              "    box-shadow: 0 1px 2px rgba(60, 64, 67, 0.3), 0 1px 3px 1px rgba(60, 64, 67, 0.15);\n",
              "    fill: var(--button-hover-fill-color);\n",
              "  }\n",
              "\n",
              "  .colab-df-quickchart-complete:disabled,\n",
              "  .colab-df-quickchart-complete:disabled:hover {\n",
              "    background-color: var(--disabled-bg-color);\n",
              "    fill: var(--disabled-fill-color);\n",
              "    box-shadow: none;\n",
              "  }\n",
              "\n",
              "  .colab-df-spinner {\n",
              "    border: 2px solid var(--fill-color);\n",
              "    border-color: transparent;\n",
              "    border-bottom-color: var(--fill-color);\n",
              "    animation:\n",
              "      spin 1s steps(1) infinite;\n",
              "  }\n",
              "\n",
              "  @keyframes spin {\n",
              "    0% {\n",
              "      border-color: transparent;\n",
              "      border-bottom-color: var(--fill-color);\n",
              "      border-left-color: var(--fill-color);\n",
              "    }\n",
              "    20% {\n",
              "      border-color: transparent;\n",
              "      border-left-color: var(--fill-color);\n",
              "      border-top-color: var(--fill-color);\n",
              "    }\n",
              "    30% {\n",
              "      border-color: transparent;\n",
              "      border-left-color: var(--fill-color);\n",
              "      border-top-color: var(--fill-color);\n",
              "      border-right-color: var(--fill-color);\n",
              "    }\n",
              "    40% {\n",
              "      border-color: transparent;\n",
              "      border-right-color: var(--fill-color);\n",
              "      border-top-color: var(--fill-color);\n",
              "    }\n",
              "    60% {\n",
              "      border-color: transparent;\n",
              "      border-right-color: var(--fill-color);\n",
              "    }\n",
              "    80% {\n",
              "      border-color: transparent;\n",
              "      border-right-color: var(--fill-color);\n",
              "      border-bottom-color: var(--fill-color);\n",
              "    }\n",
              "    90% {\n",
              "      border-color: transparent;\n",
              "      border-bottom-color: var(--fill-color);\n",
              "    }\n",
              "  }\n",
              "</style>\n",
              "\n",
              "  <script>\n",
              "    async function quickchart(key) {\n",
              "      const quickchartButtonEl =\n",
              "        document.querySelector('#' + key + ' button');\n",
              "      quickchartButtonEl.disabled = true;  // To prevent multiple clicks.\n",
              "      quickchartButtonEl.classList.add('colab-df-spinner');\n",
              "      try {\n",
              "        const charts = await google.colab.kernel.invokeFunction(\n",
              "            'suggestCharts', [key], {});\n",
              "      } catch (error) {\n",
              "        console.error('Error during call to suggestCharts:', error);\n",
              "      }\n",
              "      quickchartButtonEl.classList.remove('colab-df-spinner');\n",
              "      quickchartButtonEl.classList.add('colab-df-quickchart-complete');\n",
              "    }\n",
              "    (() => {\n",
              "      let quickchartButtonEl =\n",
              "        document.querySelector('#df-68cb30b4-acfb-4c40-bd4b-7eb61f408cf3 button');\n",
              "      quickchartButtonEl.style.display =\n",
              "        google.colab.kernel.accessAllowed ? 'block' : 'none';\n",
              "    })();\n",
              "  </script>\n",
              "</div>\n",
              "\n",
              "    </div>\n",
              "  </div>\n"
            ],
            "application/vnd.google.colaboratory.intrinsic+json": {
              "type": "dataframe",
              "summary": "{\n  \"name\": \"df\",\n  \"rows\": 8,\n  \"fields\": [\n    {\n      \"column\": \"StudentID\",\n      \"properties\": {\n        \"dtype\": \"number\",\n        \"std\": 899.5406669561889,\n        \"min\": 690.6552444357942,\n        \"max\": 3392.0,\n        \"num_unique_values\": 7,\n        \"samples\": [\n          2392.0,\n          2196.5,\n          2794.25\n        ],\n        \"semantic_type\": \"\",\n        \"description\": \"\"\n      }\n    },\n    {\n      \"column\": \"Age\",\n      \"properties\": {\n        \"dtype\": \"number\",\n        \"std\": 840.7372733013523,\n        \"min\": 1.1237983798555553,\n        \"max\": 2392.0,\n        \"num_unique_values\": 7,\n        \"samples\": [\n          2392.0,\n          16.468645484949832,\n          17.0\n        ],\n        \"semantic_type\": \"\",\n        \"description\": \"\"\n      }\n    },\n    {\n      \"column\": \"StudyTimeWeekly\",\n      \"properties\": {\n        \"dtype\": \"number\",\n        \"std\": 842.4608043173212,\n        \"min\": 0.001056538645936,\n        \"max\": 2392.0,\n        \"num_unique_values\": 8,\n        \"samples\": [\n          9.771991919431738,\n          9.705363212574394,\n          2392.0\n        ],\n        \"semantic_type\": \"\",\n        \"description\": \"\"\n      }\n    },\n    {\n      \"column\": \"Absences\",\n      \"properties\": {\n        \"dtype\": \"number\",\n        \"std\": 840.8985561537177,\n        \"min\": 0.0,\n        \"max\": 2392.0,\n        \"num_unique_values\": 8,\n        \"samples\": [\n          14.54138795986622,\n          15.0,\n          2392.0\n        ],\n        \"semantic_type\": \"\",\n        \"description\": \"\"\n      }\n    },\n    {\n      \"column\": \"GPA\",\n      \"properties\": {\n        \"dtype\": \"number\",\n        \"std\": 845.0686121782031,\n        \"min\": 0.0,\n        \"max\": 2392.0,\n        \"num_unique_values\": 8,\n        \"samples\": [\n          1.9061863027265407,\n          1.8933926937866847,\n          2392.0\n        ],\n        \"semantic_type\": \"\",\n        \"description\": \"\"\n      }\n    },\n    {\n      \"column\": \"GradeClass\",\n      \"properties\": {\n        \"dtype\": \"number\",\n        \"std\": 844.7808518116439,\n        \"min\": 0.0,\n        \"max\": 2392.0,\n        \"num_unique_values\": 6,\n        \"samples\": [\n          2392.0,\n          2.983695652173913,\n          4.0\n        ],\n        \"semantic_type\": \"\",\n        \"description\": \"\"\n      }\n    }\n  ]\n}"
            }
          },
          "metadata": {},
          "execution_count": 14
        }
      ],
      "source": [
        "# mostrar principales estadisticos de variables numericas\n",
        "df.describe()"
      ]
    },
    {
      "cell_type": "markdown",
      "metadata": {
        "id": "FtUyXsaNWFgC"
      },
      "source": [
        "No hay numero faltantes com o se puede ver en el resultado de `df.info()` y `df.describe()`"
      ]
    },
    {
      "cell_type": "markdown",
      "metadata": {
        "id": "r92im33IWEEF"
      },
      "source": [
        "### Exploracion de datos"
      ]
    },
    {
      "cell_type": "markdown",
      "source": [
        "Revisaremos la distribucion de los datos de cada columna"
      ],
      "metadata": {
        "id": "ONV9T1Awz8CR"
      }
    },
    {
      "cell_type": "code",
      "execution_count": null,
      "metadata": {
        "colab": {
          "base_uri": "https://localhost:8080/",
          "height": 1000
        },
        "id": "trdN7Aegfvz_",
        "outputId": "6f7be1c6-ab99-4598-9d3f-1411e1b56c91"
      },
      "outputs": [
        {
          "output_type": "stream",
          "name": "stderr",
          "text": [
            "<ipython-input-15-f87b5ff144b5>:2: FutureWarning: The default of observed=False is deprecated and will be changed to True in a future version of pandas. Pass observed=False to retain current behavior or observed=True to adopt the future default and silence this warning.\n",
            "  ax[0][0].bar(df.groupby('Gender').size().index, df.groupby('Gender').size())\n",
            "<ipython-input-15-f87b5ff144b5>:2: FutureWarning: The default of observed=False is deprecated and will be changed to True in a future version of pandas. Pass observed=False to retain current behavior or observed=True to adopt the future default and silence this warning.\n",
            "  ax[0][0].bar(df.groupby('Gender').size().index, df.groupby('Gender').size())\n",
            "<ipython-input-15-f87b5ff144b5>:4: FutureWarning: The default of observed=False is deprecated and will be changed to True in a future version of pandas. Pass observed=False to retain current behavior or observed=True to adopt the future default and silence this warning.\n",
            "  ax[0][1].bar(df.groupby('Ethnicity').size().index, df.groupby('Ethnicity').size())\n",
            "<ipython-input-15-f87b5ff144b5>:4: FutureWarning: The default of observed=False is deprecated and will be changed to True in a future version of pandas. Pass observed=False to retain current behavior or observed=True to adopt the future default and silence this warning.\n",
            "  ax[0][1].bar(df.groupby('Ethnicity').size().index, df.groupby('Ethnicity').size())\n",
            "<ipython-input-15-f87b5ff144b5>:6: FutureWarning: The default of observed=False is deprecated and will be changed to True in a future version of pandas. Pass observed=False to retain current behavior or observed=True to adopt the future default and silence this warning.\n",
            "  ax[0][2].bar(df.groupby('ParentalEducation').size().index, df.groupby('ParentalEducation').size())\n",
            "<ipython-input-15-f87b5ff144b5>:6: FutureWarning: The default of observed=False is deprecated and will be changed to True in a future version of pandas. Pass observed=False to retain current behavior or observed=True to adopt the future default and silence this warning.\n",
            "  ax[0][2].bar(df.groupby('ParentalEducation').size().index, df.groupby('ParentalEducation').size())\n",
            "<ipython-input-15-f87b5ff144b5>:8: FutureWarning: The default of observed=False is deprecated and will be changed to True in a future version of pandas. Pass observed=False to retain current behavior or observed=True to adopt the future default and silence this warning.\n",
            "  ax[0][3].bar(df.groupby('Tutoring').size().index, df.groupby('Tutoring').size())\n",
            "<ipython-input-15-f87b5ff144b5>:8: FutureWarning: The default of observed=False is deprecated and will be changed to True in a future version of pandas. Pass observed=False to retain current behavior or observed=True to adopt the future default and silence this warning.\n",
            "  ax[0][3].bar(df.groupby('Tutoring').size().index, df.groupby('Tutoring').size())\n",
            "<ipython-input-15-f87b5ff144b5>:10: FutureWarning: The default of observed=False is deprecated and will be changed to True in a future version of pandas. Pass observed=False to retain current behavior or observed=True to adopt the future default and silence this warning.\n",
            "  ax[1][0].bar(df.groupby('ParentalSupport').size().index, df.groupby('ParentalSupport').size())\n",
            "<ipython-input-15-f87b5ff144b5>:10: FutureWarning: The default of observed=False is deprecated and will be changed to True in a future version of pandas. Pass observed=False to retain current behavior or observed=True to adopt the future default and silence this warning.\n",
            "  ax[1][0].bar(df.groupby('ParentalSupport').size().index, df.groupby('ParentalSupport').size())\n",
            "<ipython-input-15-f87b5ff144b5>:12: FutureWarning: The default of observed=False is deprecated and will be changed to True in a future version of pandas. Pass observed=False to retain current behavior or observed=True to adopt the future default and silence this warning.\n",
            "  ax[1][1].bar(df.groupby('Extracurricular').size().index, df.groupby('Extracurricular').size())\n",
            "<ipython-input-15-f87b5ff144b5>:12: FutureWarning: The default of observed=False is deprecated and will be changed to True in a future version of pandas. Pass observed=False to retain current behavior or observed=True to adopt the future default and silence this warning.\n",
            "  ax[1][1].bar(df.groupby('Extracurricular').size().index, df.groupby('Extracurricular').size())\n",
            "<ipython-input-15-f87b5ff144b5>:14: FutureWarning: The default of observed=False is deprecated and will be changed to True in a future version of pandas. Pass observed=False to retain current behavior or observed=True to adopt the future default and silence this warning.\n",
            "  ax[1][2].bar(df.groupby('Sports').size().index, df.groupby('Sports').size())\n",
            "<ipython-input-15-f87b5ff144b5>:14: FutureWarning: The default of observed=False is deprecated and will be changed to True in a future version of pandas. Pass observed=False to retain current behavior or observed=True to adopt the future default and silence this warning.\n",
            "  ax[1][2].bar(df.groupby('Sports').size().index, df.groupby('Sports').size())\n",
            "<ipython-input-15-f87b5ff144b5>:16: FutureWarning: The default of observed=False is deprecated and will be changed to True in a future version of pandas. Pass observed=False to retain current behavior or observed=True to adopt the future default and silence this warning.\n",
            "  ax[1][3].bar(df.groupby('Music').size().index, df.groupby('Music').size())\n",
            "<ipython-input-15-f87b5ff144b5>:16: FutureWarning: The default of observed=False is deprecated and will be changed to True in a future version of pandas. Pass observed=False to retain current behavior or observed=True to adopt the future default and silence this warning.\n",
            "  ax[1][3].bar(df.groupby('Music').size().index, df.groupby('Music').size())\n",
            "<ipython-input-15-f87b5ff144b5>:18: FutureWarning: The default of observed=False is deprecated and will be changed to True in a future version of pandas. Pass observed=False to retain current behavior or observed=True to adopt the future default and silence this warning.\n",
            "  ax[2][0].bar(df.groupby('Volunteering').size().index, df.groupby('Volunteering').size())\n",
            "<ipython-input-15-f87b5ff144b5>:18: FutureWarning: The default of observed=False is deprecated and will be changed to True in a future version of pandas. Pass observed=False to retain current behavior or observed=True to adopt the future default and silence this warning.\n",
            "  ax[2][0].bar(df.groupby('Volunteering').size().index, df.groupby('Volunteering').size())\n"
          ]
        },
        {
          "output_type": "display_data",
          "data": {
            "text/plain": [
              "<Figure size 2000x1000 with 12 Axes>"
            ],
            "image/png": "[encoded data removed]"
          },
          "metadata": {}
        }
      ],
      "source": [
        "fig, ax = plt.subplots(3, 4, figsize=(20, 10))\n",
        "ax[0][0].bar(df.groupby('Gender').size().index, df.groupby('Gender').size())\n",
        "ax[0][0].title.set_text('Gender')\n",
        "ax[0][1].bar(df.groupby('Ethnicity').size().index, df.groupby('Ethnicity').size())\n",
        "ax[0][1].title.set_text('Ethnicity')\n",
        "ax[0][2].bar(df.groupby('ParentalEducation').size().index, df.groupby('ParentalEducation').size())\n",
        "ax[0][2].title.set_text('ParentalEducation')\n",
        "ax[0][3].bar(df.groupby('Tutoring').size().index, df.groupby('Tutoring').size())\n",
        "ax[0][3].title.set_text('Tutoring')\n",
        "ax[1][0].bar(df.groupby('ParentalSupport').size().index, df.groupby('ParentalSupport').size())\n",
        "ax[1][0].title.set_text('ParentalSupport')\n",
        "ax[1][1].bar(df.groupby('Extracurricular').size().index, df.groupby('Extracurricular').size())\n",
        "ax[1][1].title.set_text('Extracurricular')\n",
        "ax[1][2].bar(df.groupby('Sports').size().index, df.groupby('Sports').size())\n",
        "ax[1][2].title.set_text('Sports')\n",
        "ax[1][3].bar(df.groupby('Music').size().index, df.groupby('Music').size())\n",
        "ax[1][3].title.set_text('Music')\n",
        "ax[2][0].bar(df.groupby('Volunteering').size().index, df.groupby('Volunteering').size())\n",
        "ax[2][0].title.set_text('Volunteering')\n",
        "ax[2][1].scatter(df['StudyTimeWeekly'], df['GPA'], alpha=0.3)\n",
        "ax[2][1].title.set_text('StudyTimeWeekly vs GPA')\n",
        "ax[2][2].scatter(df['Absences'], df['GPA'], alpha=0.3)\n",
        "ax[2][2].title.set_text('Absences vs GPA')\n",
        "ax[2][3].bar(df.groupby('GradeClass').size().index, df.groupby('GradeClass').size())\n",
        "ax[2][3].title.set_text('GradeClass')\n",
        "plt.show()"
      ]
    },
    {
      "cell_type": "code",
      "execution_count": null,
      "metadata": {
        "id": "eYhXekJ0hIjR"
      },
      "outputs": [],
      "source": [
        "# Remover columnas que no son necesarias para el analisis: StudentId (no entrega informacion relevante) y GPA (se seleciono un problema de clasificacion)\n",
        "df = df.drop(['StudentID', 'GPA'], axis=1)"
      ]
    },
    {
      "cell_type": "code",
      "execution_count": null,
      "metadata": {
        "id": "EBPrbioyjPOZ"
      },
      "outputs": [],
      "source": [
        "# convertir las variables catgorias a valores numericos (binary features)\n",
        "categorical_cols = ['Gender', 'Ethnicity', 'ParentalEducation', 'Tutoring', 'ParentalSupport', 'Extracurricular', 'Sports', 'Music', 'Volunteering']\n",
        "oh_df = pd.get_dummies(df, columns = categorical_cols, drop_first = True)"
      ]
    },
    {
      "cell_type": "code",
      "execution_count": null,
      "metadata": {
        "colab": {
          "base_uri": "https://localhost:8080/"
        },
        "id": "ljNMuZR6jxDI",
        "outputId": "d491faae-49f9-4d90-a377-a523cc44e756"
      },
      "outputs": [
        {
          "output_type": "stream",
          "name": "stdout",
          "text": [
            "<class 'pandas.core.frame.DataFrame'>\n",
            "RangeIndex: 2392 entries, 0 to 2391\n",
            "Data columns (total 21 columns):\n",
            " #   Column               Non-Null Count  Dtype  \n",
            "---  ------               --------------  -----  \n",
            " 0   Age                  2392 non-null   int64  \n",
            " 1   StudyTimeWeekly      2392 non-null   float64\n",
            " 2   Absences             2392 non-null   int64  \n",
            " 3   GradeClass           2392 non-null   float64\n",
            " 4   Gender_1             2392 non-null   bool   \n",
            " 5   Ethnicity_1          2392 non-null   bool   \n",
            " 6   Ethnicity_2          2392 non-null   bool   \n",
            " 7   Ethnicity_3          2392 non-null   bool   \n",
            " 8   ParentalEducation_1  2392 non-null   bool   \n",
            " 9   ParentalEducation_2  2392 non-null   bool   \n",
            " 10  ParentalEducation_3  2392 non-null   bool   \n",
            " 11  ParentalEducation_4  2392 non-null   bool   \n",
            " 12  Tutoring_1           2392 non-null   bool   \n",
            " 13  ParentalSupport_1    2392 non-null   bool   \n",
            " 14  ParentalSupport_2    2392 non-null   bool   \n",
            " 15  ParentalSupport_3    2392 non-null   bool   \n",
            " 16  ParentalSupport_4    2392 non-null   bool   \n",
            " 17  Extracurricular_1    2392 non-null   bool   \n",
            " 18  Sports_1             2392 non-null   bool   \n",
            " 19  Music_1              2392 non-null   bool   \n",
            " 20  Volunteering_1       2392 non-null   bool   \n",
            "dtypes: bool(17), float64(2), int64(2)\n",
            "memory usage: 114.6 KB\n"
          ]
        }
      ],
      "source": [
        "# Validamos que las 2 columnas que eliminamos del quitamnos del dataset no estan presentes y que las columnas categoricas fueron tranformadas a columnas binarias\n",
        "oh_df.info()"
      ]
    },
    {
      "cell_type": "code",
      "execution_count": null,
      "metadata": {
        "id": "sclxSPGVkXNn"
      },
      "outputs": [],
      "source": [
        "# Convertir la columna ClassGrade a \"category\"\n",
        "oh_df['GradeClass'] = oh_df['GradeClass'].astype('category')"
      ]
    },
    {
      "cell_type": "markdown",
      "metadata": {
        "id": "q_XAuQx2gEp2"
      },
      "source": [
        "## Split de los datos"
      ]
    },
    {
      "cell_type": "code",
      "execution_count": null,
      "metadata": {
        "id": "AMaKnwk5iao_"
      },
      "outputs": [],
      "source": [
        "# Se va a utilizar un muestreo estratificado para mantener la proporcion de la feature \"GradeClass\" en ambos conjuntos\n",
        "split = StratifiedShuffleSplit(n_splits=1, test_size=0.2, random_state=42)\n",
        "for train_index, test_index in split.split(oh_df, oh_df[\"GradeClass\"]):\n",
        "    strat_train_set = oh_df.loc[train_index]\n",
        "    strat_test_set = oh_df.loc[test_index]"
      ]
    },
    {
      "cell_type": "code",
      "execution_count": null,
      "metadata": {
        "colab": {
          "base_uri": "https://localhost:8080/",
          "height": 272
        },
        "id": "lmwfPPFwgWwe",
        "outputId": "2f0daa11-0eb3-490b-c43a-9a8f7f4cce2d"
      },
      "outputs": [
        {
          "output_type": "execute_result",
          "data": {
            "text/plain": [
              "GradeClass\n",
              "4.0    0.506271\n",
              "3.0    0.173077\n",
              "2.0    0.163462\n",
              "1.0    0.112458\n",
              "0.0    0.044732\n",
              "Name: count, dtype: float64"
            ],
            "text/html": [
              "<table border=\"1\" class=\"dataframe\">\n",
              "  <thead>\n",
              "    <tr style=\"text-align: right;\">\n",
              "      <th></th>\n",
              "      <th>count</th>\n",
              "    </tr>\n",
              "    <tr>\n",
              "      <th>GradeClass</th>\n",
              "      <th></th>\n",
              "    </tr>\n",
              "  </thead>\n",
              "  <tbody>\n",
              "    <tr>\n",
              "      <th>4.0</th>\n",
              "      <td>0.506271</td>\n",
              "    </tr>\n",
              "    <tr>\n",
              "      <th>3.0</th>\n",
              "      <td>0.173077</td>\n",
              "    </tr>\n",
              "    <tr>\n",
              "      <th>2.0</th>\n",
              "      <td>0.163462</td>\n",
              "    </tr>\n",
              "    <tr>\n",
              "      <th>1.0</th>\n",
              "      <td>0.112458</td>\n",
              "    </tr>\n",
              "    <tr>\n",
              "      <th>0.0</th>\n",
              "      <td>0.044732</td>\n",
              "    </tr>\n",
              "  </tbody>\n",
              "</table><br><label><b>dtype:</b> float64</label>"
            ]
          },
          "metadata": {},
          "execution_count": 21
        }
      ],
      "source": [
        "oh_df[\"GradeClass\"].value_counts() / len(df)"
      ]
    },
    {
      "cell_type": "code",
      "execution_count": null,
      "metadata": {
        "colab": {
          "base_uri": "https://localhost:8080/",
          "height": 272
        },
        "id": "kgcBcnLygXJg",
        "outputId": "9b77bd5b-42df-4ac3-dd97-da049792dd8f"
      },
      "outputs": [
        {
          "output_type": "execute_result",
          "data": {
            "text/plain": [
              "GradeClass\n",
              "4.0    0.507307\n",
              "3.0    0.173278\n",
              "2.0    0.162839\n",
              "1.0    0.112735\n",
              "0.0    0.043841\n",
              "Name: count, dtype: float64"
            ],
            "text/html": [
              "<table border=\"1\" class=\"dataframe\">\n",
              "  <thead>\n",
              "    <tr style=\"text-align: right;\">\n",
              "      <th></th>\n",
              "      <th>count</th>\n",
              "    </tr>\n",
              "    <tr>\n",
              "      <th>GradeClass</th>\n",
              "      <th></th>\n",
              "    </tr>\n",
              "  </thead>\n",
              "  <tbody>\n",
              "    <tr>\n",
              "      <th>4.0</th>\n",
              "      <td>0.507307</td>\n",
              "    </tr>\n",
              "    <tr>\n",
              "      <th>3.0</th>\n",
              "      <td>0.173278</td>\n",
              "    </tr>\n",
              "    <tr>\n",
              "      <th>2.0</th>\n",
              "      <td>0.162839</td>\n",
              "    </tr>\n",
              "    <tr>\n",
              "      <th>1.0</th>\n",
              "      <td>0.112735</td>\n",
              "    </tr>\n",
              "    <tr>\n",
              "      <th>0.0</th>\n",
              "      <td>0.043841</td>\n",
              "    </tr>\n",
              "  </tbody>\n",
              "</table><br><label><b>dtype:</b> float64</label>"
            ]
          },
          "metadata": {},
          "execution_count": 22
        }
      ],
      "source": [
        "# La proporcion de los datos de test muy similares a los datos del dataset completo\n",
        "strat_test_set[\"GradeClass\"].value_counts() / len(strat_test_set)"
      ]
    },
    {
      "cell_type": "code",
      "execution_count": null,
      "metadata": {
        "id": "A2X-3p2gQM5n"
      },
      "outputs": [],
      "source": [
        "# separar los atributos de las etiquestas tanto para los dataset de entrenamiento como de prueba\n",
        "X_train = strat_train_set.drop(\"GradeClass\", axis=1)\n",
        "y_train = strat_train_set[\"GradeClass\"].copy()\n",
        "\n",
        "X_test = strat_test_set.drop(\"GradeClass\", axis=1)\n",
        "y_test = strat_test_set[\"GradeClass\"].copy()"
      ]
    },
    {
      "cell_type": "code",
      "execution_count": null,
      "metadata": {
        "id": "U0rvyRbuPwAI"
      },
      "outputs": [],
      "source": [
        "# Escalamiento de los datos usando StandardScaler\n",
        "scaler = StandardScaler()\n",
        "strat_train_set = scaler.fit_transform(X_train)\n",
        "strat_test_set = scaler.transform(X_test)"
      ]
    },
    {
      "cell_type": "markdown",
      "metadata": {
        "id": "UnSSGc8cPsUL"
      },
      "source": [
        "#### Logistic Regression"
      ]
    },
    {
      "cell_type": "markdown",
      "metadata": {
        "id": "5_kAVNRlE1NU"
      },
      "source": [
        "Aqui se aplicara entreanara un modelo de Logistic Regression y determinara su *Accuracy*"
      ]
    },
    {
      "cell_type": "code",
      "execution_count": null,
      "metadata": {
        "colab": {
          "base_uri": "https://localhost:8080/",
          "height": 74
        },
        "id": "AV0R-DIsgZv5",
        "outputId": "e4e6601d-9f93-4976-a437-5de2cec62271"
      },
      "outputs": [
        {
          "output_type": "execute_result",
          "data": {
            "text/plain": [
              "LogisticRegression(max_iter=2000, random_state=42)"
            ],
            "text/html": [
              "<style>#sk-container-id-1 {color: black;}#sk-container-id-1 pre{padding: 0;}#sk-container-id-1 div.sk-toggleable {background-color: white;}#sk-container-id-1 label.sk-toggleable__label {cursor: pointer;display: block;width: 100%;margin-bottom: 0;padding: 0.3em;box-sizing: border-box;text-align: center;}#sk-container-id-1 label.sk-toggleable__label-arrow:before {content: \"▸\";float: left;margin-right: 0.25em;color: #696969;}#sk-container-id-1 label.sk-toggleable__label-arrow:hover:before {color: black;}#sk-container-id-1 div.sk-estimator:hover label.sk-toggleable__label-arrow:before {color: black;}#sk-container-id-1 div.sk-toggleable__content {max-height: 0;max-width: 0;overflow: hidden;text-align: left;background-color: #f0f8ff;}#sk-container-id-1 div.sk-toggleable__content pre {margin: 0.2em;color: black;border-radius: 0.25em;background-color: #f0f8ff;}#sk-container-id-1 input.sk-toggleable__control:checked~div.sk-toggleable__content {max-height: 200px;max-width: 100%;overflow: auto;}#sk-container-id-1 input.sk-toggleable__control:checked~label.sk-toggleable__label-arrow:before {content: \"▾\";}#sk-container-id-1 div.sk-estimator input.sk-toggleable__control:checked~label.sk-toggleable__label {background-color: #d4ebff;}#sk-container-id-1 div.sk-label input.sk-toggleable__control:checked~label.sk-toggleable__label {background-color: #d4ebff;}#sk-container-id-1 input.sk-hidden--visually {border: 0;clip: rect(1px 1px 1px 1px);clip: rect(1px, 1px, 1px, 1px);height: 1px;margin: -1px;overflow: hidden;padding: 0;position: absolute;width: 1px;}#sk-container-id-1 div.sk-estimator {font-family: monospace;background-color: #f0f8ff;border: 1px dotted black;border-radius: 0.25em;box-sizing: border-box;margin-bottom: 0.5em;}#sk-container-id-1 div.sk-estimator:hover {background-color: #d4ebff;}#sk-container-id-1 div.sk-parallel-item::after {content: \"\";width: 100%;border-bottom: 1px solid gray;flex-grow: 1;}#sk-container-id-1 div.sk-label:hover label.sk-toggleable__label {background-color: #d4ebff;}#sk-container-id-1 div.sk-serial::before {content: \"\";position: absolute;border-left: 1px solid gray;box-sizing: border-box;top: 0;bottom: 0;left: 50%;z-index: 0;}#sk-container-id-1 div.sk-serial {display: flex;flex-direction: column;align-items: center;background-color: white;padding-right: 0.2em;padding-left: 0.2em;position: relative;}#sk-container-id-1 div.sk-item {position: relative;z-index: 1;}#sk-container-id-1 div.sk-parallel {display: flex;align-items: stretch;justify-content: center;background-color: white;position: relative;}#sk-container-id-1 div.sk-item::before, #sk-container-id-1 div.sk-parallel-item::before {content: \"\";position: absolute;border-left: 1px solid gray;box-sizing: border-box;top: 0;bottom: 0;left: 50%;z-index: -1;}#sk-container-id-1 div.sk-parallel-item {display: flex;flex-direction: column;z-index: 1;position: relative;background-color: white;}#sk-container-id-1 div.sk-parallel-item:first-child::after {align-self: flex-end;width: 50%;}#sk-container-id-1 div.sk-parallel-item:last-child::after {align-self: flex-start;width: 50%;}#sk-container-id-1 div.sk-parallel-item:only-child::after {width: 0;}#sk-container-id-1 div.sk-dashed-wrapped {border: 1px dashed gray;margin: 0 0.4em 0.5em 0.4em;box-sizing: border-box;padding-bottom: 0.4em;background-color: white;}#sk-container-id-1 div.sk-label label {font-family: monospace;font-weight: bold;display: inline-block;line-height: 1.2em;}#sk-container-id-1 div.sk-label-container {text-align: center;}#sk-container-id-1 div.sk-container {/* jupyter's `normalize.less` sets `[hidden] { display: none; }` but bootstrap.min.css set `[hidden] { display: none !important; }` so we also need the `!important` here to be able to override the default hidden behavior on the sphinx rendered scikit-learn.org. See: https://github.com/scikit-learn/scikit-learn/issues/21755 */display: inline-block !important;position: relative;}#sk-container-id-1 div.sk-text-repr-fallback {display: none;}</style><div id=\"sk-container-id-1\" class=\"sk-top-container\"><div class=\"sk-text-repr-fallback\"><pre>LogisticRegression(max_iter=2000, random_state=42)</pre><b>In a Jupyter environment, please rerun this cell to show the HTML representation or trust the notebook. <br />On GitHub, the HTML representation is unable to render, please try loading this page with nbviewer.org.</b></div><div class=\"sk-container\" hidden><div class=\"sk-item\"><div class=\"sk-estimator sk-toggleable\"><input class=\"sk-toggleable__control sk-hidden--visually\" id=\"sk-estimator-id-1\" type=\"checkbox\" checked><label for=\"sk-estimator-id-1\" class=\"sk-toggleable__label sk-toggleable__label-arrow\">LogisticRegression</label><div class=\"sk-toggleable__content\"><pre>LogisticRegression(max_iter=2000, random_state=42)</pre></div></div></div></div></div>"
            ]
          },
          "metadata": {},
          "execution_count": 25
        }
      ],
      "source": [
        "# Se define max_iter=2000 para asegurar que converja el modelo y un random_state para asegurar reproiducibilidad. Todos los demas parametros son los de default\n",
        "clf = LogisticRegression(max_iter=2000, random_state=42)\n",
        "clf.fit(X_train,y_train)"
      ]
    },
    {
      "cell_type": "code",
      "execution_count": null,
      "metadata": {
        "colab": {
          "base_uri": "https://localhost:8080/"
        },
        "id": "7mecyAK6lQTH",
        "outputId": "8f2505af-bc6b-40df-bd68-70fe343dad03"
      },
      "outputs": [
        {
          "output_type": "stream",
          "name": "stdout",
          "text": [
            "Accuracy en el entrenamiento: 0.7444\n",
            "Accuracy en la prueba: 0.7182\n"
          ]
        }
      ],
      "source": [
        "print(f\"Accuracy en el entrenamiento: {clf.score(X_train,y_train):.4f}\")\n",
        "print(f\"Accuracy en la prueba: {clf.score(X_test,y_test):.4f}\")"
      ]
    },
    {
      "cell_type": "code",
      "execution_count": null,
      "metadata": {
        "id": "mNSTLSEXF699"
      },
      "outputs": [],
      "source": [
        "# Generacion de matriz de confusion\n",
        "lg_predictions = clf.predict(X_test)\n",
        "lg_score = clf.score(X_test, y_test)\n",
        "cm = metrics.confusion_matrix(y_test, lg_predictions)"
      ]
    },
    {
      "cell_type": "code",
      "execution_count": null,
      "metadata": {
        "colab": {
          "base_uri": "https://localhost:8080/",
          "height": 430
        },
        "id": "ofuonRH9GmAB",
        "outputId": "ef3457a2-e216-4889-a44f-ac94e68dbafd"
      },
      "outputs": [
        {
          "output_type": "display_data",
          "data": {
            "text/plain": [
              "<Figure size 500x500 with 2 Axes>"
            ],
            "image/png": "[encoded data removed]"
          },
          "metadata": {}
        }
      ],
      "source": [
        "# Grafica de matriz de confusion\n",
        "plt.figure(figsize=(5,5))\n",
        "sns.heatmap(cm, annot=True, fmt=\".3f\", linewidths=.5, square = True, cmap = 'Blues_r');\n",
        "plt.ylabel('Actual label');\n",
        "plt.xlabel('Predicted label');\n",
        "all_sample_title = 'Accuracy Score: {0:.2f}'.format(100 * lg_score)\n",
        "plt.title(all_sample_title, size = 15);"
      ]
    },
    {
      "cell_type": "markdown",
      "source": [
        "##### Logisic Regression con Polynomial Features"
      ],
      "metadata": {
        "id": "TzkrlaIs5pn2"
      }
    },
    {
      "cell_type": "code",
      "source": [
        "from sklearn.preprocessing import PolynomialFeatures\n",
        "from sklearn.pipeline import Pipeline\n",
        "\n",
        "p_feats = PolynomialFeatures(2,include_bias=False)\n",
        "log_reg = LogisticRegression(max_iter=100000, random_state=42, solver='saga')\n",
        "\n",
        "pl = Pipeline([('pf',p_feats),\n",
        "               ('clf',log_reg)])\n",
        "\n",
        "pl.fit(X_train,y_train)"
      ],
      "metadata": {
        "id": "A_ktKOc75hZs",
        "colab": {
          "base_uri": "https://localhost:8080/",
          "height": 125
        },
        "outputId": "76c134bc-25ef-4245-9808-3e187a69977b"
      },
      "execution_count": null,
      "outputs": [
        {
          "output_type": "execute_result",
          "data": {
            "text/plain": [
              "Pipeline(steps=[('pf', PolynomialFeatures(include_bias=False)),\n",
              "                ('clf',\n",
              "                 LogisticRegression(max_iter=100000, random_state=42,\n",
              "                                    solver='saga'))])"
            ],
            "text/html": [
              "<style>#sk-container-id-2 {color: black;}#sk-container-id-2 pre{padding: 0;}#sk-container-id-2 div.sk-toggleable {background-color: white;}#sk-container-id-2 label.sk-toggleable__label {cursor: pointer;display: block;width: 100%;margin-bottom: 0;padding: 0.3em;box-sizing: border-box;text-align: center;}#sk-container-id-2 label.sk-toggleable__label-arrow:before {content: \"▸\";float: left;margin-right: 0.25em;color: #696969;}#sk-container-id-2 label.sk-toggleable__label-arrow:hover:before {color: black;}#sk-container-id-2 div.sk-estimator:hover label.sk-toggleable__label-arrow:before {color: black;}#sk-container-id-2 div.sk-toggleable__content {max-height: 0;max-width: 0;overflow: hidden;text-align: left;background-color: #f0f8ff;}#sk-container-id-2 div.sk-toggleable__content pre {margin: 0.2em;color: black;border-radius: 0.25em;background-color: #f0f8ff;}#sk-container-id-2 input.sk-toggleable__control:checked~div.sk-toggleable__content {max-height: 200px;max-width: 100%;overflow: auto;}#sk-container-id-2 input.sk-toggleable__control:checked~label.sk-toggleable__label-arrow:before {content: \"▾\";}#sk-container-id-2 div.sk-estimator input.sk-toggleable__control:checked~label.sk-toggleable__label {background-color: #d4ebff;}#sk-container-id-2 div.sk-label input.sk-toggleable__control:checked~label.sk-toggleable__label {background-color: #d4ebff;}#sk-container-id-2 input.sk-hidden--visually {border: 0;clip: rect(1px 1px 1px 1px);clip: rect(1px, 1px, 1px, 1px);height: 1px;margin: -1px;overflow: hidden;padding: 0;position: absolute;width: 1px;}#sk-container-id-2 div.sk-estimator {font-family: monospace;background-color: #f0f8ff;border: 1px dotted black;border-radius: 0.25em;box-sizing: border-box;margin-bottom: 0.5em;}#sk-container-id-2 div.sk-estimator:hover {background-color: #d4ebff;}#sk-container-id-2 div.sk-parallel-item::after {content: \"\";width: 100%;border-bottom: 1px solid gray;flex-grow: 1;}#sk-container-id-2 div.sk-label:hover label.sk-toggleable__label {background-color: #d4ebff;}#sk-container-id-2 div.sk-serial::before {content: \"\";position: absolute;border-left: 1px solid gray;box-sizing: border-box;top: 0;bottom: 0;left: 50%;z-index: 0;}#sk-container-id-2 div.sk-serial {display: flex;flex-direction: column;align-items: center;background-color: white;padding-right: 0.2em;padding-left: 0.2em;position: relative;}#sk-container-id-2 div.sk-item {position: relative;z-index: 1;}#sk-container-id-2 div.sk-parallel {display: flex;align-items: stretch;justify-content: center;background-color: white;position: relative;}#sk-container-id-2 div.sk-item::before, #sk-container-id-2 div.sk-parallel-item::before {content: \"\";position: absolute;border-left: 1px solid gray;box-sizing: border-box;top: 0;bottom: 0;left: 50%;z-index: -1;}#sk-container-id-2 div.sk-parallel-item {display: flex;flex-direction: column;z-index: 1;position: relative;background-color: white;}#sk-container-id-2 div.sk-parallel-item:first-child::after {align-self: flex-end;width: 50%;}#sk-container-id-2 div.sk-parallel-item:last-child::after {align-self: flex-start;width: 50%;}#sk-container-id-2 div.sk-parallel-item:only-child::after {width: 0;}#sk-container-id-2 div.sk-dashed-wrapped {border: 1px dashed gray;margin: 0 0.4em 0.5em 0.4em;box-sizing: border-box;padding-bottom: 0.4em;background-color: white;}#sk-container-id-2 div.sk-label label {font-family: monospace;font-weight: bold;display: inline-block;line-height: 1.2em;}#sk-container-id-2 div.sk-label-container {text-align: center;}#sk-container-id-2 div.sk-container {/* jupyter's `normalize.less` sets `[hidden] { display: none; }` but bootstrap.min.css set `[hidden] { display: none !important; }` so we also need the `!important` here to be able to override the default hidden behavior on the sphinx rendered scikit-learn.org. See: https://github.com/scikit-learn/scikit-learn/issues/21755 */display: inline-block !important;position: relative;}#sk-container-id-2 div.sk-text-repr-fallback {display: none;}</style><div id=\"sk-container-id-2\" class=\"sk-top-container\"><div class=\"sk-text-repr-fallback\"><pre>Pipeline(steps=[(&#x27;pf&#x27;, PolynomialFeatures(include_bias=False)),\n",
              "                (&#x27;clf&#x27;,\n",
              "                 LogisticRegression(max_iter=100000, random_state=42,\n",
              "                                    solver=&#x27;saga&#x27;))])</pre><b>In a Jupyter environment, please rerun this cell to show the HTML representation or trust the notebook. <br />On GitHub, the HTML representation is unable to render, please try loading this page with nbviewer.org.</b></div><div class=\"sk-container\" hidden><div class=\"sk-item sk-dashed-wrapped\"><div class=\"sk-label-container\"><div class=\"sk-label sk-toggleable\"><input class=\"sk-toggleable__control sk-hidden--visually\" id=\"sk-estimator-id-2\" type=\"checkbox\" ><label for=\"sk-estimator-id-2\" class=\"sk-toggleable__label sk-toggleable__label-arrow\">Pipeline</label><div class=\"sk-toggleable__content\"><pre>Pipeline(steps=[(&#x27;pf&#x27;, PolynomialFeatures(include_bias=False)),\n",
              "                (&#x27;clf&#x27;,\n",
              "                 LogisticRegression(max_iter=100000, random_state=42,\n",
              "                                    solver=&#x27;saga&#x27;))])</pre></div></div></div><div class=\"sk-serial\"><div class=\"sk-item\"><div class=\"sk-estimator sk-toggleable\"><input class=\"sk-toggleable__control sk-hidden--visually\" id=\"sk-estimator-id-3\" type=\"checkbox\" ><label for=\"sk-estimator-id-3\" class=\"sk-toggleable__label sk-toggleable__label-arrow\">PolynomialFeatures</label><div class=\"sk-toggleable__content\"><pre>PolynomialFeatures(include_bias=False)</pre></div></div></div><div class=\"sk-item\"><div class=\"sk-estimator sk-toggleable\"><input class=\"sk-toggleable__control sk-hidden--visually\" id=\"sk-estimator-id-4\" type=\"checkbox\" ><label for=\"sk-estimator-id-4\" class=\"sk-toggleable__label sk-toggleable__label-arrow\">LogisticRegression</label><div class=\"sk-toggleable__content\"><pre>LogisticRegression(max_iter=100000, random_state=42, solver=&#x27;saga&#x27;)</pre></div></div></div></div></div></div></div>"
            ]
          },
          "metadata": {},
          "execution_count": 20
        }
      ]
    },
    {
      "cell_type": "code",
      "source": [
        "print(f\"Accuracy en el entrenamiento: {pl.score(X_train,y_train):.4f}\")\n",
        "print(f\"Accuracy en la prueba: {pl.score(X_test,y_test):.4f}\")"
      ],
      "metadata": {
        "id": "pFBSK7rn6LFv",
        "colab": {
          "base_uri": "https://localhost:8080/"
        },
        "outputId": "a0154aad-8637-4b5e-9ef8-8d3cb0d4d25d"
      },
      "execution_count": null,
      "outputs": [
        {
          "output_type": "stream",
          "name": "stdout",
          "text": [
            "Accuracy en el entrenamiento: 0.7836\n",
            "Accuracy en la prueba: 0.7056\n"
          ]
        }
      ]
    },
    {
      "cell_type": "markdown",
      "source": [
        "Se utiliza el solver='saga' porque el por defecto no coverge inlcuso utilizando el max_iter=100000.\n",
        "Como vemos el valor de accuracy es menor que los valores de logistic regression por defecto"
      ],
      "metadata": {
        "id": "n9hgkHrk9cfA"
      }
    },
    {
      "cell_type": "markdown",
      "source": [
        "##### Uso de GRIDSEARCHCV para buscar los mejores parametros"
      ],
      "metadata": {
        "id": "J-unM6gX92I-"
      }
    },
    {
      "cell_type": "code",
      "source": [
        "from sklearn.model_selection import GridSearchCV\n",
        "\n",
        "param_grid = {'C': [0.1, 1, 10], 'penalty': ['l1', 'l2'], 'max_iter': [3000], 'solver': ['saga']}\n",
        "clf_lr = LogisticRegression(max_iter=1000, random_state=42)\n",
        "grid_search = GridSearchCV(clf_lr, param_grid, cv=5, scoring='accuracy')\n",
        "grid_search.fit(X_train, y_train)\n",
        "param_grid"
      ],
      "metadata": {
        "id": "LCb-H5uN91go"
      },
      "execution_count": null,
      "outputs": []
    },
    {
      "cell_type": "code",
      "source": [
        "# Veamos los mejores hiperparametros\n",
        "print(f\"Best score: {grid_search.best_score_:.4f}\")\n",
        "print(f\"Best params: {grid_search.best_params_}\")"
      ],
      "metadata": {
        "colab": {
          "base_uri": "https://localhost:8080/"
        },
        "id": "oAYjhUnG_iA_",
        "outputId": "8204cdaf-a55d-4e82-fbeb-479925632a4b"
      },
      "execution_count": null,
      "outputs": [
        {
          "output_type": "stream",
          "name": "stdout",
          "text": [
            "Best score: 0.7067\n",
            "Best params: {'C': 1, 'max_iter': 3000, 'penalty': 'l1', 'solver': 'saga'}\n"
          ]
        }
      ]
    },
    {
      "cell_type": "code",
      "source": [
        "clf_lr2 = LogisticRegression(max_iter=3000, random_state=42, solver='saga', C=1, penalty='l1')\n",
        "clf_lr2.fit(X_train,y_train)\n",
        "print(f\"Accuracy en el entrenamiento: {clf_lr2.score(X_train,y_train):.4f}\")\n",
        "print(f\"Accuracy en la prueba: {clf_lr2.score(X_test,y_test):.4f}\")"
      ],
      "metadata": {
        "colab": {
          "base_uri": "https://localhost:8080/"
        },
        "id": "HoVXjVpP_6lW",
        "outputId": "1cd8fa4f-248b-4b94-feb0-d80f4a06f2b9"
      },
      "execution_count": null,
      "outputs": [
        {
          "output_type": "stream",
          "name": "stdout",
          "text": [
            "Accuracy en el entrenamiento: 0.7423\n",
            "Accuracy en la prueba: 0.7223\n"
          ]
        }
      ]
    },
    {
      "cell_type": "code",
      "source": [
        "# Ver los coeficientes\n",
        "odds = np.exp(clf_lr2.coef_[4])\n",
        "pd.DataFrame(odds,\n",
        "             X_train.columns,\n",
        "             columns=['coef'])"
      ],
      "metadata": {
        "colab": {
          "base_uri": "https://localhost:8080/",
          "height": 676
        },
        "id": "0gD7O8ujdPMe",
        "outputId": "8b737e0f-d62a-4699-8bdb-82ebb0c06f19"
      },
      "execution_count": null,
      "outputs": [
        {
          "output_type": "execute_result",
          "data": {
            "text/plain": [
              "                         coef\n",
              "Age                  0.978207\n",
              "StudyTimeWeekly      0.880712\n",
              "Absences             1.570193\n",
              "Gender_1             0.912696\n",
              "Ethnicity_1          1.000000\n",
              "Ethnicity_2          1.000000\n",
              "Ethnicity_3          0.807367\n",
              "ParentalEducation_1  0.990615\n",
              "ParentalEducation_2  0.993871\n",
              "ParentalEducation_3  0.954391\n",
              "ParentalEducation_4  1.281409\n",
              "Tutoring_1           0.368221\n",
              "ParentalSupport_1    1.000000\n",
              "ParentalSupport_2    0.523860\n",
              "ParentalSupport_3    0.322416\n",
              "ParentalSupport_4    0.188780\n",
              "Extracurricular_1    0.459991\n",
              "Sports_1             0.616696\n",
              "Music_1              0.840194\n",
              "Volunteering_1       1.257730"
            ],
            "text/html": [
              "\n",
              "  <div id=\"df-94d44322-8e83-4af0-b9d3-9b83918459d1\" class=\"colab-df-container\">\n",
              "    <div>\n",
              "<style scoped>\n",
              "    .dataframe tbody tr th:only-of-type {\n",
              "        vertical-align: middle;\n",
              "    }\n",
              "\n",
              "    .dataframe tbody tr th {\n",
              "        vertical-align: top;\n",
              "    }\n",
              "\n",
              "    .dataframe thead th {\n",
              "        text-align: right;\n",
              "    }\n",
              "</style>\n",
              "<table border=\"1\" class=\"dataframe\">\n",
              "  <thead>\n",
              "    <tr style=\"text-align: right;\">\n",
              "      <th></th>\n",
              "      <th>coef</th>\n",
              "    </tr>\n",
              "  </thead>\n",
              "  <tbody>\n",
              "    <tr>\n",
              "      <th>Age</th>\n",
              "      <td>0.978207</td>\n",
              "    </tr>\n",
              "    <tr>\n",
              "      <th>StudyTimeWeekly</th>\n",
              "      <td>0.880712</td>\n",
              "    </tr>\n",
              "    <tr>\n",
              "      <th>Absences</th>\n",
              "      <td>1.570193</td>\n",
              "    </tr>\n",
              "    <tr>\n",
              "      <th>Gender_1</th>\n",
              "      <td>0.912696</td>\n",
              "    </tr>\n",
              "    <tr>\n",
              "      <th>Ethnicity_1</th>\n",
              "      <td>1.000000</td>\n",
              "    </tr>\n",
              "    <tr>\n",
              "      <th>Ethnicity_2</th>\n",
              "      <td>1.000000</td>\n",
              "    </tr>\n",
              "    <tr>\n",
              "      <th>Ethnicity_3</th>\n",
              "      <td>0.807367</td>\n",
              "    </tr>\n",
              "    <tr>\n",
              "      <th>ParentalEducation_1</th>\n",
              "      <td>0.990615</td>\n",
              "    </tr>\n",
              "    <tr>\n",
              "      <th>ParentalEducation_2</th>\n",
              "      <td>0.993871</td>\n",
              "    </tr>\n",
              "    <tr>\n",
              "      <th>ParentalEducation_3</th>\n",
              "      <td>0.954391</td>\n",
              "    </tr>\n",
              "    <tr>\n",
              "      <th>ParentalEducation_4</th>\n",
              "      <td>1.281409</td>\n",
              "    </tr>\n",
              "    <tr>\n",
              "      <th>Tutoring_1</th>\n",
              "      <td>0.368221</td>\n",
              "    </tr>\n",
              "    <tr>\n",
              "      <th>ParentalSupport_1</th>\n",
              "      <td>1.000000</td>\n",
              "    </tr>\n",
              "    <tr>\n",
              "      <th>ParentalSupport_2</th>\n",
              "      <td>0.523860</td>\n",
              "    </tr>\n",
              "    <tr>\n",
              "      <th>ParentalSupport_3</th>\n",
              "      <td>0.322416</td>\n",
              "    </tr>\n",
              "    <tr>\n",
              "      <th>ParentalSupport_4</th>\n",
              "      <td>0.188780</td>\n",
              "    </tr>\n",
              "    <tr>\n",
              "      <th>Extracurricular_1</th>\n",
              "      <td>0.459991</td>\n",
              "    </tr>\n",
              "    <tr>\n",
              "      <th>Sports_1</th>\n",
              "      <td>0.616696</td>\n",
              "    </tr>\n",
              "    <tr>\n",
              "      <th>Music_1</th>\n",
              "      <td>0.840194</td>\n",
              "    </tr>\n",
              "    <tr>\n",
              "      <th>Volunteering_1</th>\n",
              "      <td>1.257730</td>\n",
              "    </tr>\n",
              "  </tbody>\n",
              "</table>\n",
              "</div>\n",
              "    <div class=\"colab-df-buttons\">\n",
              "\n",
              "  <div class=\"colab-df-container\">\n",
              "    <button class=\"colab-df-convert\" onclick=\"convertToInteractive('df-94d44322-8e83-4af0-b9d3-9b83918459d1')\"\n",
              "            title=\"Convert this dataframe to an interactive table.\"\n",
              "            style=\"display:none;\">\n",
              "\n",
              "  <svg xmlns=\"http://www.w3.org/2000/svg\" height=\"24px\" viewBox=\"0 -960 960 960\">\n",
              "    <path d=\"M120-120v-720h720v720H120Zm60-500h600v-160H180v160Zm220 220h160v-160H400v160Zm0 220h160v-160H400v160ZM180-400h160v-160H180v160Zm440 0h160v-160H620v160ZM180-180h160v-160H180v160Zm440 0h160v-160H620v160Z\"/>\n",
              "  </svg>\n",
              "    </button>\n",
              "\n",
              "  <style>\n",
              "    .colab-df-container {\n",
              "      display:flex;\n",
              "      gap: 12px;\n",
              "    }\n",
              "\n",
              "    .colab-df-convert {\n",
              "      background-color: #E8F0FE;\n",
              "      border: none;\n",
              "      border-radius: 50%;\n",
              "      cursor: pointer;\n",
              "      display: none;\n",
              "      fill: #1967D2;\n",
              "      height: 32px;\n",
              "      padding: 0 0 0 0;\n",
              "      width: 32px;\n",
              "    }\n",
              "\n",
              "    .colab-df-convert:hover {\n",
              "      background-color: #E2EBFA;\n",
              "      box-shadow: 0px 1px 2px rgba(60, 64, 67, 0.3), 0px 1px 3px 1px rgba(60, 64, 67, 0.15);\n",
              "      fill: #174EA6;\n",
              "    }\n",
              "\n",
              "    .colab-df-buttons div {\n",
              "      margin-bottom: 4px;\n",
              "    }\n",
              "\n",
              "    [theme=dark] .colab-df-convert {\n",
              "      background-color: #3B4455;\n",
              "      fill: #D2E3FC;\n",
              "    }\n",
              "\n",
              "    [theme=dark] .colab-df-convert:hover {\n",
              "      background-color: #434B5C;\n",
              "      box-shadow: 0px 1px 3px 1px rgba(0, 0, 0, 0.15);\n",
              "      filter: drop-shadow(0px 1px 2px rgba(0, 0, 0, 0.3));\n",
              "      fill: #FFFFFF;\n",
              "    }\n",
              "  </style>\n",
              "\n",
              "    <script>\n",
              "      const buttonEl =\n",
              "        document.querySelector('#df-94d44322-8e83-4af0-b9d3-9b83918459d1 button.colab-df-convert');\n",
              "      buttonEl.style.display =\n",
              "        google.colab.kernel.accessAllowed ? 'block' : 'none';\n",
              "\n",
              "      async function convertToInteractive(key) {\n",
              "        const element = document.querySelector('#df-94d44322-8e83-4af0-b9d3-9b83918459d1');\n",
              "        const dataTable =\n",
              "          await google.colab.kernel.invokeFunction('convertToInteractive',\n",
              "                                                    [key], {});\n",
              "        if (!dataTable) return;\n",
              "\n",
              "        const docLinkHtml = 'Like what you see? Visit the ' +\n",
              "          '<a target=\"_blank\" href=https://colab.research.google.com/notebooks/data_table.ipynb>data table notebook</a>'\n",
              "          + ' to learn more about interactive tables.';\n",
              "        element.innerHTML = '';\n",
              "        dataTable['output_type'] = 'display_data';\n",
              "        await google.colab.output.renderOutput(dataTable, element);\n",
              "        const docLink = document.createElement('div');\n",
              "        docLink.innerHTML = docLinkHtml;\n",
              "        element.appendChild(docLink);\n",
              "      }\n",
              "    </script>\n",
              "  </div>\n",
              "\n",
              "\n",
              "<div id=\"df-15b9d970-acf6-4533-a235-1dfd96a336a5\">\n",
              "  <button class=\"colab-df-quickchart\" onclick=\"quickchart('df-15b9d970-acf6-4533-a235-1dfd96a336a5')\"\n",
              "            title=\"Suggest charts\"\n",
              "            style=\"display:none;\">\n",
              "\n",
              "<svg xmlns=\"http://www.w3.org/2000/svg\" height=\"24px\"viewBox=\"0 0 24 24\"\n",
              "     width=\"24px\">\n",
              "    <g>\n",
              "        <path d=\"M19 3H5c-1.1 0-2 .9-2 2v14c0 1.1.9 2 2 2h14c1.1 0 2-.9 2-2V5c0-1.1-.9-2-2-2zM9 17H7v-7h2v7zm4 0h-2V7h2v10zm4 0h-2v-4h2v4z\"/>\n",
              "    </g>\n",
              "</svg>\n",
              "  </button>\n",
              "\n",
              "<style>\n",
              "  .colab-df-quickchart {\n",
              "      --bg-color: #E8F0FE;\n",
              "      --fill-color: #1967D2;\n",
              "      --hover-bg-color: #E2EBFA;\n",
              "      --hover-fill-color: #174EA6;\n",
              "      --disabled-fill-color: #AAA;\n",
              "      --disabled-bg-color: #DDD;\n",
              "  }\n",
              "\n",
              "  [theme=dark] .colab-df-quickchart {\n",
              "      --bg-color: #3B4455;\n",
              "      --fill-color: #D2E3FC;\n",
              "      --hover-bg-color: #434B5C;\n",
              "      --hover-fill-color: #FFFFFF;\n",
              "      --disabled-bg-color: #3B4455;\n",
              "      --disabled-fill-color: #666;\n",
              "  }\n",
              "\n",
              "  .colab-df-quickchart {\n",
              "    background-color: var(--bg-color);\n",
              "    border: none;\n",
              "    border-radius: 50%;\n",
              "    cursor: pointer;\n",
              "    display: none;\n",
              "    fill: var(--fill-color);\n",
              "    height: 32px;\n",
              "    padding: 0;\n",
              "    width: 32px;\n",
              "  }\n",
              "\n",
              "  .colab-df-quickchart:hover {\n",
              "    background-color: var(--hover-bg-color);\n",
              "    box-shadow: 0 1px 2px rgba(60, 64, 67, 0.3), 0 1px 3px 1px rgba(60, 64, 67, 0.15);\n",
              "    fill: var(--button-hover-fill-color);\n",
              "  }\n",
              "\n",
              "  .colab-df-quickchart-complete:disabled,\n",
              "  .colab-df-quickchart-complete:disabled:hover {\n",
              "    background-color: var(--disabled-bg-color);\n",
              "    fill: var(--disabled-fill-color);\n",
              "    box-shadow: none;\n",
              "  }\n",
              "\n",
              "  .colab-df-spinner {\n",
              "    border: 2px solid var(--fill-color);\n",
              "    border-color: transparent;\n",
              "    border-bottom-color: var(--fill-color);\n",
              "    animation:\n",
              "      spin 1s steps(1) infinite;\n",
              "  }\n",
              "\n",
              "  @keyframes spin {\n",
              "    0% {\n",
              "      border-color: transparent;\n",
              "      border-bottom-color: var(--fill-color);\n",
              "      border-left-color: var(--fill-color);\n",
              "    }\n",
              "    20% {\n",
              "      border-color: transparent;\n",
              "      border-left-color: var(--fill-color);\n",
              "      border-top-color: var(--fill-color);\n",
              "    }\n",
              "    30% {\n",
              "      border-color: transparent;\n",
              "      border-left-color: var(--fill-color);\n",
              "      border-top-color: var(--fill-color);\n",
              "      border-right-color: var(--fill-color);\n",
              "    }\n",
              "    40% {\n",
              "      border-color: transparent;\n",
              "      border-right-color: var(--fill-color);\n",
              "      border-top-color: var(--fill-color);\n",
              "    }\n",
              "    60% {\n",
              "      border-color: transparent;\n",
              "      border-right-color: var(--fill-color);\n",
              "    }\n",
              "    80% {\n",
              "      border-color: transparent;\n",
              "      border-right-color: var(--fill-color);\n",
              "      border-bottom-color: var(--fill-color);\n",
              "    }\n",
              "    90% {\n",
              "      border-color: transparent;\n",
              "      border-bottom-color: var(--fill-color);\n",
              "    }\n",
              "  }\n",
              "</style>\n",
              "\n",
              "  <script>\n",
              "    async function quickchart(key) {\n",
              "      const quickchartButtonEl =\n",
              "        document.querySelector('#' + key + ' button');\n",
              "      quickchartButtonEl.disabled = true;  // To prevent multiple clicks.\n",
              "      quickchartButtonEl.classList.add('colab-df-spinner');\n",
              "      try {\n",
              "        const charts = await google.colab.kernel.invokeFunction(\n",
              "            'suggestCharts', [key], {});\n",
              "      } catch (error) {\n",
              "        console.error('Error during call to suggestCharts:', error);\n",
              "      }\n",
              "      quickchartButtonEl.classList.remove('colab-df-spinner');\n",
              "      quickchartButtonEl.classList.add('colab-df-quickchart-complete');\n",
              "    }\n",
              "    (() => {\n",
              "      let quickchartButtonEl =\n",
              "        document.querySelector('#df-15b9d970-acf6-4533-a235-1dfd96a336a5 button');\n",
              "      quickchartButtonEl.style.display =\n",
              "        google.colab.kernel.accessAllowed ? 'block' : 'none';\n",
              "    })();\n",
              "  </script>\n",
              "</div>\n",
              "\n",
              "    </div>\n",
              "  </div>\n"
            ],
            "application/vnd.google.colaboratory.intrinsic+json": {
              "type": "dataframe",
              "summary": "{\n  \"name\": \"             columns=['coef'])\",\n  \"rows\": 20,\n  \"fields\": [\n    {\n      \"column\": \"coef\",\n      \"properties\": {\n        \"dtype\": \"number\",\n        \"std\": 0.34592081867810215,\n        \"min\": 0.18878007991859252,\n        \"max\": 1.570193004804216,\n        \"num_unique_values\": 18,\n        \"samples\": [\n          0.9782070924278048,\n          0.880712255570463,\n          0.9543914016050906\n        ],\n        \"semantic_type\": \"\",\n        \"description\": \"\"\n      }\n    }\n  ]\n}"
            }
          },
          "metadata": {},
          "execution_count": 22
        }
      ]
    },
    {
      "cell_type": "markdown",
      "source": [
        "Vamos a utilizar un gridsearch con penalty='l2'"
      ],
      "metadata": {
        "id": "8l6ZdMIqAnYd"
      }
    },
    {
      "cell_type": "code",
      "source": [
        "param_grid = {'C': [0.1, 1, 10], 'penalty': ['l2'], 'max_iter': [3000], 'solver': ['lbfgs', 'newton-cg', 'sag','saga']}\n",
        "clf_lr = LogisticRegression(random_state=42, n_jobs=-1)\n",
        "grid_search = GridSearchCV(clf_lr, param_grid, cv=5, scoring='accuracy')\n",
        "grid_search.fit(X_train, y_train)"
      ],
      "metadata": {
        "id": "T-LzTqNiBjTS"
      },
      "execution_count": null,
      "outputs": []
    },
    {
      "cell_type": "code",
      "source": [
        "# Veamos los mejores hiperparametros\n",
        "print(f\"Best score: {grid_search.best_score_:.4f}\")\n",
        "print(f\"Best params: {grid_search.best_params_}\")"
      ],
      "metadata": {
        "colab": {
          "base_uri": "https://localhost:8080/"
        },
        "id": "fX_T-H8BCLMB",
        "outputId": "f726205e-d38e-4a9d-cb1f-bc7c53b3c6ab"
      },
      "execution_count": null,
      "outputs": [
        {
          "output_type": "stream",
          "name": "stdout",
          "text": [
            "Best score: 0.7036\n",
            "Best params: {'C': 1, 'max_iter': 3000, 'penalty': 'l2', 'solver': 'saga'}\n"
          ]
        }
      ]
    },
    {
      "cell_type": "code",
      "source": [
        "clf_lr3 = LogisticRegression(max_iter=3000, random_state=42, solver='saga', C=1, penalty='l2')\n",
        "clf_lr3.fit(X_train,y_train)\n",
        "print(f\"Accuracy en el entrenamiento: {clf_lr3.score(X_train,y_train):.4f}\")\n",
        "print(f\"Accuracy en la prueba: {clf_lr3.score(X_test,y_test):.4f}\")"
      ],
      "metadata": {
        "colab": {
          "base_uri": "https://localhost:8080/"
        },
        "id": "_3uZH2mMCRbw",
        "outputId": "54928057-c82a-48d9-9072-782c8e01f115"
      },
      "execution_count": null,
      "outputs": [
        {
          "output_type": "stream",
          "name": "stdout",
          "text": [
            "Accuracy en el entrenamiento: 0.7465\n",
            "Accuracy en la prueba: 0.7203\n"
          ]
        }
      ]
    },
    {
      "cell_type": "markdown",
      "source": [
        "Usar SelectKBest para seleccionar featues y ver como afecta el accuracy del resultado"
      ],
      "metadata": {
        "id": "SC-dnBYdNkKB"
      }
    },
    {
      "cell_type": "code",
      "source": [
        "selector = SelectKBest(chi2, k=14)\n",
        "X_train_selected = selector.fit_transform(X_train, y_train)   # Entrenamos y transformamos el de entrenamiento\n",
        "X_test_selected = selector.transform(X_test)        # Sólo transformamos el de prueba"
      ],
      "metadata": {
        "id": "5qIb7LG_4ZtR"
      },
      "execution_count": null,
      "outputs": []
    },
    {
      "cell_type": "code",
      "source": [
        "print(f\"Teníamos {X_train.shape[1]} variables originalmente, nos quedamos con {len(selector.get_feature_names_out())}\")\n",
        "print(f\"Variables originales:\\n{X_train.columns.to_list()}\\n\")\n",
        "print(f\"Variables con las que nos quedamos:\\n{selector.get_feature_names_out()}\\n\")"
      ],
      "metadata": {
        "colab": {
          "base_uri": "https://localhost:8080/"
        },
        "id": "jjpUzSCkN8nq",
        "outputId": "c76301f1-37cc-422b-a659-f6744a5ec668"
      },
      "execution_count": null,
      "outputs": [
        {
          "output_type": "stream",
          "name": "stdout",
          "text": [
            "Teníamos 20 variables originalmente, nos quedamos con 14\n",
            "Variables originales:\n",
            "['Age', 'StudyTimeWeekly', 'Absences', 'Gender_1', 'Ethnicity_1', 'Ethnicity_2', 'Ethnicity_3', 'ParentalEducation_1', 'ParentalEducation_2', 'ParentalEducation_3', 'ParentalEducation_4', 'Tutoring_1', 'ParentalSupport_1', 'ParentalSupport_2', 'ParentalSupport_3', 'ParentalSupport_4', 'Extracurricular_1', 'Sports_1', 'Music_1', 'Volunteering_1']\n",
            "\n",
            "Variables con las que nos quedamos:\n",
            "['StudyTimeWeekly' 'Absences' 'Ethnicity_2' 'Ethnicity_3'\n",
            " 'ParentalEducation_4' 'Tutoring_1' 'ParentalSupport_1'\n",
            " 'ParentalSupport_2' 'ParentalSupport_3' 'ParentalSupport_4'\n",
            " 'Extracurricular_1' 'Sports_1' 'Music_1' 'Volunteering_1']\n",
            "\n"
          ]
        }
      ]
    },
    {
      "cell_type": "code",
      "source": [
        "param_grid = {'C': [0.1, 1, 10], 'penalty': ['l1', 'l2'], 'max_iter': [3000], 'solver': ['saga']}\n",
        "clf_lr_selected = LogisticRegression(max_iter=1000, random_state=42)\n",
        "grid_search_selected = GridSearchCV(clf_lr_selected, param_grid, cv=5, scoring='accuracy')\n",
        "grid_search_selected.fit(X_train_selected, y_train)"
      ],
      "metadata": {
        "colab": {
          "base_uri": "https://localhost:8080/",
          "height": 116
        },
        "id": "cJDzr2pyV7dL",
        "outputId": "8699f021-69a1-4dd9-d29c-91c9447edfd3"
      },
      "execution_count": null,
      "outputs": [
        {
          "output_type": "execute_result",
          "data": {
            "text/plain": [
              "GridSearchCV(cv=5, estimator=LogisticRegression(max_iter=1000, random_state=42),\n",
              "             param_grid={'C': [0.1, 1, 10], 'max_iter': [3000],\n",
              "                         'penalty': ['l1', 'l2'], 'solver': ['saga']},\n",
              "             scoring='accuracy')"
            ],
            "text/html": [
              "<style>#sk-container-id-2 {color: black;}#sk-container-id-2 pre{padding: 0;}#sk-container-id-2 div.sk-toggleable {background-color: white;}#sk-container-id-2 label.sk-toggleable__label {cursor: pointer;display: block;width: 100%;margin-bottom: 0;padding: 0.3em;box-sizing: border-box;text-align: center;}#sk-container-id-2 label.sk-toggleable__label-arrow:before {content: \"▸\";float: left;margin-right: 0.25em;color: #696969;}#sk-container-id-2 label.sk-toggleable__label-arrow:hover:before {color: black;}#sk-container-id-2 div.sk-estimator:hover label.sk-toggleable__label-arrow:before {color: black;}#sk-container-id-2 div.sk-toggleable__content {max-height: 0;max-width: 0;overflow: hidden;text-align: left;background-color: #f0f8ff;}#sk-container-id-2 div.sk-toggleable__content pre {margin: 0.2em;color: black;border-radius: 0.25em;background-color: #f0f8ff;}#sk-container-id-2 input.sk-toggleable__control:checked~div.sk-toggleable__content {max-height: 200px;max-width: 100%;overflow: auto;}#sk-container-id-2 input.sk-toggleable__control:checked~label.sk-toggleable__label-arrow:before {content: \"▾\";}#sk-container-id-2 div.sk-estimator input.sk-toggleable__control:checked~label.sk-toggleable__label {background-color: #d4ebff;}#sk-container-id-2 div.sk-label input.sk-toggleable__control:checked~label.sk-toggleable__label {background-color: #d4ebff;}#sk-container-id-2 input.sk-hidden--visually {border: 0;clip: rect(1px 1px 1px 1px);clip: rect(1px, 1px, 1px, 1px);height: 1px;margin: -1px;overflow: hidden;padding: 0;position: absolute;width: 1px;}#sk-container-id-2 div.sk-estimator {font-family: monospace;background-color: #f0f8ff;border: 1px dotted black;border-radius: 0.25em;box-sizing: border-box;margin-bottom: 0.5em;}#sk-container-id-2 div.sk-estimator:hover {background-color: #d4ebff;}#sk-container-id-2 div.sk-parallel-item::after {content: \"\";width: 100%;border-bottom: 1px solid gray;flex-grow: 1;}#sk-container-id-2 div.sk-label:hover label.sk-toggleable__label {background-color: #d4ebff;}#sk-container-id-2 div.sk-serial::before {content: \"\";position: absolute;border-left: 1px solid gray;box-sizing: border-box;top: 0;bottom: 0;left: 50%;z-index: 0;}#sk-container-id-2 div.sk-serial {display: flex;flex-direction: column;align-items: center;background-color: white;padding-right: 0.2em;padding-left: 0.2em;position: relative;}#sk-container-id-2 div.sk-item {position: relative;z-index: 1;}#sk-container-id-2 div.sk-parallel {display: flex;align-items: stretch;justify-content: center;background-color: white;position: relative;}#sk-container-id-2 div.sk-item::before, #sk-container-id-2 div.sk-parallel-item::before {content: \"\";position: absolute;border-left: 1px solid gray;box-sizing: border-box;top: 0;bottom: 0;left: 50%;z-index: -1;}#sk-container-id-2 div.sk-parallel-item {display: flex;flex-direction: column;z-index: 1;position: relative;background-color: white;}#sk-container-id-2 div.sk-parallel-item:first-child::after {align-self: flex-end;width: 50%;}#sk-container-id-2 div.sk-parallel-item:last-child::after {align-self: flex-start;width: 50%;}#sk-container-id-2 div.sk-parallel-item:only-child::after {width: 0;}#sk-container-id-2 div.sk-dashed-wrapped {border: 1px dashed gray;margin: 0 0.4em 0.5em 0.4em;box-sizing: border-box;padding-bottom: 0.4em;background-color: white;}#sk-container-id-2 div.sk-label label {font-family: monospace;font-weight: bold;display: inline-block;line-height: 1.2em;}#sk-container-id-2 div.sk-label-container {text-align: center;}#sk-container-id-2 div.sk-container {/* jupyter's `normalize.less` sets `[hidden] { display: none; }` but bootstrap.min.css set `[hidden] { display: none !important; }` so we also need the `!important` here to be able to override the default hidden behavior on the sphinx rendered scikit-learn.org. See: https://github.com/scikit-learn/scikit-learn/issues/21755 */display: inline-block !important;position: relative;}#sk-container-id-2 div.sk-text-repr-fallback {display: none;}</style><div id=\"sk-container-id-2\" class=\"sk-top-container\"><div class=\"sk-text-repr-fallback\"><pre>GridSearchCV(cv=5, estimator=LogisticRegression(max_iter=1000, random_state=42),\n",
              "             param_grid={&#x27;C&#x27;: [0.1, 1, 10], &#x27;max_iter&#x27;: [3000],\n",
              "                         &#x27;penalty&#x27;: [&#x27;l1&#x27;, &#x27;l2&#x27;], &#x27;solver&#x27;: [&#x27;saga&#x27;]},\n",
              "             scoring=&#x27;accuracy&#x27;)</pre><b>In a Jupyter environment, please rerun this cell to show the HTML representation or trust the notebook. <br />On GitHub, the HTML representation is unable to render, please try loading this page with nbviewer.org.</b></div><div class=\"sk-container\" hidden><div class=\"sk-item sk-dashed-wrapped\"><div class=\"sk-label-container\"><div class=\"sk-label sk-toggleable\"><input class=\"sk-toggleable__control sk-hidden--visually\" id=\"sk-estimator-id-2\" type=\"checkbox\" ><label for=\"sk-estimator-id-2\" class=\"sk-toggleable__label sk-toggleable__label-arrow\">GridSearchCV</label><div class=\"sk-toggleable__content\"><pre>GridSearchCV(cv=5, estimator=LogisticRegression(max_iter=1000, random_state=42),\n",
              "             param_grid={&#x27;C&#x27;: [0.1, 1, 10], &#x27;max_iter&#x27;: [3000],\n",
              "                         &#x27;penalty&#x27;: [&#x27;l1&#x27;, &#x27;l2&#x27;], &#x27;solver&#x27;: [&#x27;saga&#x27;]},\n",
              "             scoring=&#x27;accuracy&#x27;)</pre></div></div></div><div class=\"sk-parallel\"><div class=\"sk-parallel-item\"><div class=\"sk-item\"><div class=\"sk-label-container\"><div class=\"sk-label sk-toggleable\"><input class=\"sk-toggleable__control sk-hidden--visually\" id=\"sk-estimator-id-3\" type=\"checkbox\" ><label for=\"sk-estimator-id-3\" class=\"sk-toggleable__label sk-toggleable__label-arrow\">estimator: LogisticRegression</label><div class=\"sk-toggleable__content\"><pre>LogisticRegression(max_iter=1000, random_state=42)</pre></div></div></div><div class=\"sk-serial\"><div class=\"sk-item\"><div class=\"sk-estimator sk-toggleable\"><input class=\"sk-toggleable__control sk-hidden--visually\" id=\"sk-estimator-id-4\" type=\"checkbox\" ><label for=\"sk-estimator-id-4\" class=\"sk-toggleable__label sk-toggleable__label-arrow\">LogisticRegression</label><div class=\"sk-toggleable__content\"><pre>LogisticRegression(max_iter=1000, random_state=42)</pre></div></div></div></div></div></div></div></div></div></div>"
            ]
          },
          "metadata": {},
          "execution_count": 106
        }
      ]
    },
    {
      "cell_type": "code",
      "source": [
        "# Veamos los mejores hiperparametros\n",
        "print(f\"Best score: {grid_search_selected.best_score_:.4f}\")\n",
        "print(f\"Best params: {grid_search_selected.best_params_}\")"
      ],
      "metadata": {
        "colab": {
          "base_uri": "https://localhost:8080/"
        },
        "id": "JER2e4vtW1Pa",
        "outputId": "6735092f-ff8c-4055-8439-6a72b649964e"
      },
      "execution_count": null,
      "outputs": [
        {
          "output_type": "stream",
          "name": "stdout",
          "text": [
            "Best score: 0.7151\n",
            "Best params: {'C': 1, 'max_iter': 3000, 'penalty': 'l1', 'solver': 'saga'}\n"
          ]
        }
      ]
    },
    {
      "cell_type": "code",
      "source": [
        "clf_lr_selected = LogisticRegression(max_iter=3000, random_state=42, solver='saga', C=1, penalty='l1')\n",
        "clf_lr_selected.fit(X_train_selected,y_train)\n",
        "print(f\"Accuracy en el entrenamiento: {clf_lr_selected.score(X_train_selected,y_train):.4f}\")\n",
        "print(f\"Accuracy en la prueba: {clf_lr_selected.score(X_test_selected,y_test):.4f}\")"
      ],
      "metadata": {
        "colab": {
          "base_uri": "https://localhost:8080/"
        },
        "id": "h1xaOudN6KPZ",
        "outputId": "b02934d8-8714-42ce-d2c7-c1343bfa8bab"
      },
      "execution_count": null,
      "outputs": [
        {
          "output_type": "stream",
          "name": "stdout",
          "text": [
            "Accuracy en el entrenamiento: 0.7381\n",
            "Accuracy en la prueba: 0.7370\n"
          ]
        }
      ]
    },
    {
      "cell_type": "code",
      "source": [
        "# Ver los coeficientes\n",
        "odds = np.exp(clf_lr_selected.coef_[0])\n",
        "pd.DataFrame(odds,\n",
        "             selector.get_feature_names_out(),\n",
        "             columns=['coef'])"
      ],
      "metadata": {
        "colab": {
          "base_uri": "https://localhost:8080/",
          "height": 488
        },
        "id": "u447_7-mP_U8",
        "outputId": "6b3851f4-c8de-4e33-9dc5-6302a8d31431"
      },
      "execution_count": null,
      "outputs": [
        {
          "output_type": "execute_result",
          "data": {
            "text/plain": [
              "                         coef\n",
              "StudyTimeWeekly      1.080722\n",
              "Absences             0.874932\n",
              "Ethnicity_2          1.538189\n",
              "Ethnicity_3          0.851647\n",
              "ParentalEducation_4  1.000000\n",
              "Tutoring_1           2.510916\n",
              "ParentalSupport_1    1.000000\n",
              "ParentalSupport_2    0.990683\n",
              "ParentalSupport_3    3.211383\n",
              "ParentalSupport_4    5.649132\n",
              "Extracurricular_1    1.589320\n",
              "Sports_1             1.643693\n",
              "Music_1              1.221400\n",
              "Volunteering_1       1.000000"
            ],
            "text/html": [
              "\n",
              "  <div id=\"df-4e205858-d7ba-4acd-aa4f-122821965bac\" class=\"colab-df-container\">\n",
              "    <div>\n",
              "<style scoped>\n",
              "    .dataframe tbody tr th:only-of-type {\n",
              "        vertical-align: middle;\n",
              "    }\n",
              "\n",
              "    .dataframe tbody tr th {\n",
              "        vertical-align: top;\n",
              "    }\n",
              "\n",
              "    .dataframe thead th {\n",
              "        text-align: right;\n",
              "    }\n",
              "</style>\n",
              "<table border=\"1\" class=\"dataframe\">\n",
              "  <thead>\n",
              "    <tr style=\"text-align: right;\">\n",
              "      <th></th>\n",
              "      <th>coef</th>\n",
              "    </tr>\n",
              "  </thead>\n",
              "  <tbody>\n",
              "    <tr>\n",
              "      <th>StudyTimeWeekly</th>\n",
              "      <td>1.080722</td>\n",
              "    </tr>\n",
              "    <tr>\n",
              "      <th>Absences</th>\n",
              "      <td>0.874932</td>\n",
              "    </tr>\n",
              "    <tr>\n",
              "      <th>Ethnicity_2</th>\n",
              "      <td>1.538189</td>\n",
              "    </tr>\n",
              "    <tr>\n",
              "      <th>Ethnicity_3</th>\n",
              "      <td>0.851647</td>\n",
              "    </tr>\n",
              "    <tr>\n",
              "      <th>ParentalEducation_4</th>\n",
              "      <td>1.000000</td>\n",
              "    </tr>\n",
              "    <tr>\n",
              "      <th>Tutoring_1</th>\n",
              "      <td>2.510916</td>\n",
              "    </tr>\n",
              "    <tr>\n",
              "      <th>ParentalSupport_1</th>\n",
              "      <td>1.000000</td>\n",
              "    </tr>\n",
              "    <tr>\n",
              "      <th>ParentalSupport_2</th>\n",
              "      <td>0.990683</td>\n",
              "    </tr>\n",
              "    <tr>\n",
              "      <th>ParentalSupport_3</th>\n",
              "      <td>3.211383</td>\n",
              "    </tr>\n",
              "    <tr>\n",
              "      <th>ParentalSupport_4</th>\n",
              "      <td>5.649132</td>\n",
              "    </tr>\n",
              "    <tr>\n",
              "      <th>Extracurricular_1</th>\n",
              "      <td>1.589320</td>\n",
              "    </tr>\n",
              "    <tr>\n",
              "      <th>Sports_1</th>\n",
              "      <td>1.643693</td>\n",
              "    </tr>\n",
              "    <tr>\n",
              "      <th>Music_1</th>\n",
              "      <td>1.221400</td>\n",
              "    </tr>\n",
              "    <tr>\n",
              "      <th>Volunteering_1</th>\n",
              "      <td>1.000000</td>\n",
              "    </tr>\n",
              "  </tbody>\n",
              "</table>\n",
              "</div>\n",
              "    <div class=\"colab-df-buttons\">\n",
              "\n",
              "  <div class=\"colab-df-container\">\n",
              "    <button class=\"colab-df-convert\" onclick=\"convertToInteractive('df-4e205858-d7ba-4acd-aa4f-122821965bac')\"\n",
              "            title=\"Convert this dataframe to an interactive table.\"\n",
              "            style=\"display:none;\">\n",
              "\n",
              "  <svg xmlns=\"http://www.w3.org/2000/svg\" height=\"24px\" viewBox=\"0 -960 960 960\">\n",
              "    <path d=\"M120-120v-720h720v720H120Zm60-500h600v-160H180v160Zm220 220h160v-160H400v160Zm0 220h160v-160H400v160ZM180-400h160v-160H180v160Zm440 0h160v-160H620v160ZM180-180h160v-160H180v160Zm440 0h160v-160H620v160Z\"/>\n",
              "  </svg>\n",
              "    </button>\n",
              "\n",
              "  <style>\n",
              "    .colab-df-container {\n",
              "      display:flex;\n",
              "      gap: 12px;\n",
              "    }\n",
              "\n",
              "    .colab-df-convert {\n",
              "      background-color: #E8F0FE;\n",
              "      border: none;\n",
              "      border-radius: 50%;\n",
              "      cursor: pointer;\n",
              "      display: none;\n",
              "      fill: #1967D2;\n",
              "      height: 32px;\n",
              "      padding: 0 0 0 0;\n",
              "      width: 32px;\n",
              "    }\n",
              "\n",
              "    .colab-df-convert:hover {\n",
              "      background-color: #E2EBFA;\n",
              "      box-shadow: 0px 1px 2px rgba(60, 64, 67, 0.3), 0px 1px 3px 1px rgba(60, 64, 67, 0.15);\n",
              "      fill: #174EA6;\n",
              "    }\n",
              "\n",
              "    .colab-df-buttons div {\n",
              "      margin-bottom: 4px;\n",
              "    }\n",
              "\n",
              "    [theme=dark] .colab-df-convert {\n",
              "      background-color: #3B4455;\n",
              "      fill: #D2E3FC;\n",
              "    }\n",
              "\n",
              "    [theme=dark] .colab-df-convert:hover {\n",
              "      background-color: #434B5C;\n",
              "      box-shadow: 0px 1px 3px 1px rgba(0, 0, 0, 0.15);\n",
              "      filter: drop-shadow(0px 1px 2px rgba(0, 0, 0, 0.3));\n",
              "      fill: #FFFFFF;\n",
              "    }\n",
              "  </style>\n",
              "\n",
              "    <script>\n",
              "      const buttonEl =\n",
              "        document.querySelector('#df-4e205858-d7ba-4acd-aa4f-122821965bac button.colab-df-convert');\n",
              "      buttonEl.style.display =\n",
              "        google.colab.kernel.accessAllowed ? 'block' : 'none';\n",
              "\n",
              "      async function convertToInteractive(key) {\n",
              "        const element = document.querySelector('#df-4e205858-d7ba-4acd-aa4f-122821965bac');\n",
              "        const dataTable =\n",
              "          await google.colab.kernel.invokeFunction('convertToInteractive',\n",
              "                                                    [key], {});\n",
              "        if (!dataTable) return;\n",
              "\n",
              "        const docLinkHtml = 'Like what you see? Visit the ' +\n",
              "          '<a target=\"_blank\" href=https://colab.research.google.com/notebooks/data_table.ipynb>data table notebook</a>'\n",
              "          + ' to learn more about interactive tables.';\n",
              "        element.innerHTML = '';\n",
              "        dataTable['output_type'] = 'display_data';\n",
              "        await google.colab.output.renderOutput(dataTable, element);\n",
              "        const docLink = document.createElement('div');\n",
              "        docLink.innerHTML = docLinkHtml;\n",
              "        element.appendChild(docLink);\n",
              "      }\n",
              "    </script>\n",
              "  </div>\n",
              "\n",
              "\n",
              "<div id=\"df-886655ec-8f9d-462a-a794-412ca5112265\">\n",
              "  <button class=\"colab-df-quickchart\" onclick=\"quickchart('df-886655ec-8f9d-462a-a794-412ca5112265')\"\n",
              "            title=\"Suggest charts\"\n",
              "            style=\"display:none;\">\n",
              "\n",
              "<svg xmlns=\"http://www.w3.org/2000/svg\" height=\"24px\"viewBox=\"0 0 24 24\"\n",
              "     width=\"24px\">\n",
              "    <g>\n",
              "        <path d=\"M19 3H5c-1.1 0-2 .9-2 2v14c0 1.1.9 2 2 2h14c1.1 0 2-.9 2-2V5c0-1.1-.9-2-2-2zM9 17H7v-7h2v7zm4 0h-2V7h2v10zm4 0h-2v-4h2v4z\"/>\n",
              "    </g>\n",
              "</svg>\n",
              "  </button>\n",
              "\n",
              "<style>\n",
              "  .colab-df-quickchart {\n",
              "      --bg-color: #E8F0FE;\n",
              "      --fill-color: #1967D2;\n",
              "      --hover-bg-color: #E2EBFA;\n",
              "      --hover-fill-color: #174EA6;\n",
              "      --disabled-fill-color: #AAA;\n",
              "      --disabled-bg-color: #DDD;\n",
              "  }\n",
              "\n",
              "  [theme=dark] .colab-df-quickchart {\n",
              "      --bg-color: #3B4455;\n",
              "      --fill-color: #D2E3FC;\n",
              "      --hover-bg-color: #434B5C;\n",
              "      --hover-fill-color: #FFFFFF;\n",
              "      --disabled-bg-color: #3B4455;\n",
              "      --disabled-fill-color: #666;\n",
              "  }\n",
              "\n",
              "  .colab-df-quickchart {\n",
              "    background-color: var(--bg-color);\n",
              "    border: none;\n",
              "    border-radius: 50%;\n",
              "    cursor: pointer;\n",
              "    display: none;\n",
              "    fill: var(--fill-color);\n",
              "    height: 32px;\n",
              "    padding: 0;\n",
              "    width: 32px;\n",
              "  }\n",
              "\n",
              "  .colab-df-quickchart:hover {\n",
              "    background-color: var(--hover-bg-color);\n",
              "    box-shadow: 0 1px 2px rgba(60, 64, 67, 0.3), 0 1px 3px 1px rgba(60, 64, 67, 0.15);\n",
              "    fill: var(--button-hover-fill-color);\n",
              "  }\n",
              "\n",
              "  .colab-df-quickchart-complete:disabled,\n",
              "  .colab-df-quickchart-complete:disabled:hover {\n",
              "    background-color: var(--disabled-bg-color);\n",
              "    fill: var(--disabled-fill-color);\n",
              "    box-shadow: none;\n",
              "  }\n",
              "\n",
              "  .colab-df-spinner {\n",
              "    border: 2px solid var(--fill-color);\n",
              "    border-color: transparent;\n",
              "    border-bottom-color: var(--fill-color);\n",
              "    animation:\n",
              "      spin 1s steps(1) infinite;\n",
              "  }\n",
              "\n",
              "  @keyframes spin {\n",
              "    0% {\n",
              "      border-color: transparent;\n",
              "      border-bottom-color: var(--fill-color);\n",
              "      border-left-color: var(--fill-color);\n",
              "    }\n",
              "    20% {\n",
              "      border-color: transparent;\n",
              "      border-left-color: var(--fill-color);\n",
              "      border-top-color: var(--fill-color);\n",
              "    }\n",
              "    30% {\n",
              "      border-color: transparent;\n",
              "      border-left-color: var(--fill-color);\n",
              "      border-top-color: var(--fill-color);\n",
              "      border-right-color: var(--fill-color);\n",
              "    }\n",
              "    40% {\n",
              "      border-color: transparent;\n",
              "      border-right-color: var(--fill-color);\n",
              "      border-top-color: var(--fill-color);\n",
              "    }\n",
              "    60% {\n",
              "      border-color: transparent;\n",
              "      border-right-color: var(--fill-color);\n",
              "    }\n",
              "    80% {\n",
              "      border-color: transparent;\n",
              "      border-right-color: var(--fill-color);\n",
              "      border-bottom-color: var(--fill-color);\n",
              "    }\n",
              "    90% {\n",
              "      border-color: transparent;\n",
              "      border-bottom-color: var(--fill-color);\n",
              "    }\n",
              "  }\n",
              "</style>\n",
              "\n",
              "  <script>\n",
              "    async function quickchart(key) {\n",
              "      const quickchartButtonEl =\n",
              "        document.querySelector('#' + key + ' button');\n",
              "      quickchartButtonEl.disabled = true;  // To prevent multiple clicks.\n",
              "      quickchartButtonEl.classList.add('colab-df-spinner');\n",
              "      try {\n",
              "        const charts = await google.colab.kernel.invokeFunction(\n",
              "            'suggestCharts', [key], {});\n",
              "      } catch (error) {\n",
              "        console.error('Error during call to suggestCharts:', error);\n",
              "      }\n",
              "      quickchartButtonEl.classList.remove('colab-df-spinner');\n",
              "      quickchartButtonEl.classList.add('colab-df-quickchart-complete');\n",
              "    }\n",
              "    (() => {\n",
              "      let quickchartButtonEl =\n",
              "        document.querySelector('#df-886655ec-8f9d-462a-a794-412ca5112265 button');\n",
              "      quickchartButtonEl.style.display =\n",
              "        google.colab.kernel.accessAllowed ? 'block' : 'none';\n",
              "    })();\n",
              "  </script>\n",
              "</div>\n",
              "\n",
              "    </div>\n",
              "  </div>\n"
            ],
            "application/vnd.google.colaboratory.intrinsic+json": {
              "type": "dataframe",
              "summary": "{\n  \"name\": \"             columns=['coef'])\",\n  \"rows\": 14,\n  \"fields\": [\n    {\n      \"column\": \"coef\",\n      \"properties\": {\n        \"dtype\": \"number\",\n        \"std\": 1.317219740467485,\n        \"min\": 0.8516471732887066,\n        \"max\": 5.649132012528842,\n        \"num_unique_values\": 12,\n        \"samples\": [\n          1.643692678831811,\n          1.5893196559010292,\n          1.0807223192055524\n        ],\n        \"semantic_type\": \"\",\n        \"description\": \"\"\n      }\n    }\n  ]\n}"
            }
          },
          "metadata": {},
          "execution_count": 58
        }
      ]
    },
    {
      "cell_type": "markdown",
      "source": [
        "##### **Conclusiones para Logistic Regression**\n",
        "Hasta aqui el mejor los mejores parametros son los siguientes C=1, penalty='l1', solver='saga' y con un 73.7% de accuracy cuando se selecciona las mejores 14 features (SelectKBest=14)"
      ],
      "metadata": {
        "id": "npMJJH_tDAJ9"
      }
    },
    {
      "cell_type": "markdown",
      "metadata": {
        "id": "2aIE1CvzZPCH"
      },
      "source": [
        "#### Decision Trees"
      ]
    },
    {
      "cell_type": "markdown",
      "source": [
        "Primer modelo a entrenar con los valores por defecto"
      ],
      "metadata": {
        "id": "KpdFjiaeEdjx"
      }
    },
    {
      "cell_type": "code",
      "execution_count": null,
      "metadata": {
        "id": "tZu5KRg9ZRMK"
      },
      "outputs": [],
      "source": [
        "clf_dt = DecisionTreeClassifier()\n",
        "clf_dt.fit(X_train,y_train)\n",
        "y_pred = clf_dt.predict(X_test)"
      ]
    },
    {
      "cell_type": "code",
      "source": [
        "print(f\"Accuracy entrenamiento: {clf_dt.score(X_train,y_train):.4f}\")\n",
        "print(f\"Accuracy prueba: {clf_dt.score(X_test,y_test):.4f}\")"
      ],
      "metadata": {
        "colab": {
          "base_uri": "https://localhost:8080/"
        },
        "id": "CM4KODBjEk6L",
        "outputId": "dc37fcde-f42b-49e8-a3ce-c497beb56bfd"
      },
      "execution_count": null,
      "outputs": [
        {
          "output_type": "stream",
          "name": "stdout",
          "text": [
            "Accuracy entrenamiento: 1.0000\n",
            "Accuracy prueba: 0.6013\n"
          ]
        }
      ]
    },
    {
      "cell_type": "markdown",
      "source": [
        "O)bservamos que para los valores de defecto del modelo, la accuracy del conjunto de entrenamiento es de 1 y el de prueba de 0.6, mostrando overfitting"
      ],
      "metadata": {
        "id": "S47XTnirE_AN"
      }
    },
    {
      "cell_type": "code",
      "execution_count": null,
      "metadata": {
        "colab": {
          "base_uri": "https://localhost:8080/",
          "height": 455
        },
        "id": "4KFyBrE1aZnl",
        "outputId": "41fa740d-8b2d-451a-e373-7ad7bfd502b6"
      },
      "outputs": [
        {
          "output_type": "display_data",
          "data": {
            "text/plain": [
              "<Figure size 640x480 with 1 Axes>"
            ],
            "image/png": "[encoded data removed]"
          },
          "metadata": {}
        }
      ],
      "source": [
        "depths = [2,3,4,5,6,7,8,9,10]\n",
        "train_scores = []\n",
        "test_scores = []\n",
        "\n",
        "for d in depths:\n",
        "    clf_dt = DecisionTreeClassifier(max_depth=d)\n",
        "    clf_dt.fit(X_train,y_train)\n",
        "    y_pred = clf_dt.predict(X_test)\n",
        "    train_scores.append(clf_dt.score(X_train,y_train))\n",
        "    test_scores.append(clf_dt.score(X_test,y_test))\n",
        "\n",
        "plt.figure()\n",
        "plt.plot(depths,train_scores,label='Entrenamiento')\n",
        "plt.plot(depths,test_scores,label='Prueba')\n",
        "plt.legend(loc='best')\n",
        "plt.xlabel(\"max_depth\")\n",
        "plt.ylabel(\"accuracy\")\n",
        "plt.ylim([0,1])\n",
        "plt.show()"
      ]
    },
    {
      "cell_type": "code",
      "execution_count": null,
      "metadata": {
        "id": "nol4BXpCaqxj"
      },
      "outputs": [],
      "source": [
        "# Calcular la accuracy para max_depth=5, domnde muestra la mejor accuracy en el grafico anterior\n",
        "clf_dt2 = DecisionTreeClassifier(max_depth=5)\n",
        "clf_dt2.fit(X_train,y_train)\n",
        "y_pred2 = clf_dt2.predict(X_test)"
      ]
    },
    {
      "cell_type": "code",
      "execution_count": null,
      "metadata": {
        "colab": {
          "base_uri": "https://localhost:8080/"
        },
        "id": "m774Q0h0awIT",
        "outputId": "8eb02308-7c90-41c5-c3a9-6b2873deca41"
      },
      "outputs": [
        {
          "output_type": "stream",
          "name": "stdout",
          "text": [
            "Accuracy entrenamiento: 0.7156\n",
            "Accuracy prueba: 0.7015\n"
          ]
        }
      ],
      "source": [
        "print(f\"Accuracy entrenamiento: {clf_dt2.score(X_train,y_train):.4f}\")\n",
        "print(f\"Accuracy prueba: {clf_dt2.score(X_test,y_test):.4f}\")"
      ]
    },
    {
      "cell_type": "code",
      "source": [
        "clf_dt = DecisionTreeClassifier(max_depth=5)\n",
        "clf_dt.fit(X_train_selected,y_train)\n",
        "y_pred = clf_dt.predict(X_test_selected)\n",
        "\n",
        "print(f\"Accuracy entrenamiento: {clf_dt.score(X_train_selected,y_train):.4f}\")\n",
        "print(f\"Accuracy prueba: {clf_dt.score(X_test_selected,y_test):.4f}\")"
      ],
      "metadata": {
        "colab": {
          "base_uri": "https://localhost:8080/"
        },
        "id": "znZ7hU2UX0jc",
        "outputId": "777f1844-1df2-4c5c-fa2f-25986dacf631"
      },
      "execution_count": null,
      "outputs": [
        {
          "output_type": "stream",
          "name": "stdout",
          "text": [
            "Accuracy entrenamiento: 0.7156\n",
            "Accuracy prueba: 0.7015\n"
          ]
        }
      ]
    },
    {
      "cell_type": "markdown",
      "source": [
        "Utilizar GridsearchCV para encontra los mejores parametros del modelo"
      ],
      "metadata": {
        "id": "fibi-g6lGUgG"
      }
    },
    {
      "cell_type": "code",
      "source": [
        "param_grid = {'max_features': [None, 'sqrt', 'log2'],\n",
        "              'ccp_alpha': [0.0, 0.1, .01, .001],\n",
        "              'max_depth' : [3, 4, 5, 6, 7, 8, 9, 10, 11, None],\n",
        "              'criterion' :['gini', 'entropy', 'log_loss']\n",
        "             }\n",
        "\n",
        "clf_dt3 = DecisionTreeClassifier(random_state=42)\n",
        "grid_search_dt = GridSearchCV(estimator=clf_dt3, param_grid=param_grid, cv=5, scoring='accuracy', verbose=True)\n",
        "grid_search_dt.fit(X_train_selected, y_train)"
      ],
      "metadata": {
        "colab": {
          "base_uri": "https://localhost:8080/",
          "height": 134
        },
        "id": "XzZDvx3EGTnq",
        "outputId": "5fea8bc2-8372-4415-ad17-ac83bfa42d2c"
      },
      "execution_count": null,
      "outputs": [
        {
          "output_type": "stream",
          "name": "stdout",
          "text": [
            "Fitting 5 folds for each of 360 candidates, totalling 1800 fits\n"
          ]
        },
        {
          "output_type": "execute_result",
          "data": {
            "text/plain": [
              "GridSearchCV(cv=5, estimator=DecisionTreeClassifier(random_state=42),\n",
              "             param_grid={'ccp_alpha': [0.0, 0.1, 0.01, 0.001],\n",
              "                         'criterion': ['gini', 'entropy', 'log_loss'],\n",
              "                         'max_depth': [3, 4, 5, 6, 7, 8, 9, 10, 11, None],\n",
              "                         'max_features': [None, 'sqrt', 'log2']},\n",
              "             scoring='accuracy', verbose=True)"
            ],
            "text/html": [
              "<style>#sk-container-id-3 {color: black;}#sk-container-id-3 pre{padding: 0;}#sk-container-id-3 div.sk-toggleable {background-color: white;}#sk-container-id-3 label.sk-toggleable__label {cursor: pointer;display: block;width: 100%;margin-bottom: 0;padding: 0.3em;box-sizing: border-box;text-align: center;}#sk-container-id-3 label.sk-toggleable__label-arrow:before {content: \"▸\";float: left;margin-right: 0.25em;color: #696969;}#sk-container-id-3 label.sk-toggleable__label-arrow:hover:before {color: black;}#sk-container-id-3 div.sk-estimator:hover label.sk-toggleable__label-arrow:before {color: black;}#sk-container-id-3 div.sk-toggleable__content {max-height: 0;max-width: 0;overflow: hidden;text-align: left;background-color: #f0f8ff;}#sk-container-id-3 div.sk-toggleable__content pre {margin: 0.2em;color: black;border-radius: 0.25em;background-color: #f0f8ff;}#sk-container-id-3 input.sk-toggleable__control:checked~div.sk-toggleable__content {max-height: 200px;max-width: 100%;overflow: auto;}#sk-container-id-3 input.sk-toggleable__control:checked~label.sk-toggleable__label-arrow:before {content: \"▾\";}#sk-container-id-3 div.sk-estimator input.sk-toggleable__control:checked~label.sk-toggleable__label {background-color: #d4ebff;}#sk-container-id-3 div.sk-label input.sk-toggleable__control:checked~label.sk-toggleable__label {background-color: #d4ebff;}#sk-container-id-3 input.sk-hidden--visually {border: 0;clip: rect(1px 1px 1px 1px);clip: rect(1px, 1px, 1px, 1px);height: 1px;margin: -1px;overflow: hidden;padding: 0;position: absolute;width: 1px;}#sk-container-id-3 div.sk-estimator {font-family: monospace;background-color: #f0f8ff;border: 1px dotted black;border-radius: 0.25em;box-sizing: border-box;margin-bottom: 0.5em;}#sk-container-id-3 div.sk-estimator:hover {background-color: #d4ebff;}#sk-container-id-3 div.sk-parallel-item::after {content: \"\";width: 100%;border-bottom: 1px solid gray;flex-grow: 1;}#sk-container-id-3 div.sk-label:hover label.sk-toggleable__label {background-color: #d4ebff;}#sk-container-id-3 div.sk-serial::before {content: \"\";position: absolute;border-left: 1px solid gray;box-sizing: border-box;top: 0;bottom: 0;left: 50%;z-index: 0;}#sk-container-id-3 div.sk-serial {display: flex;flex-direction: column;align-items: center;background-color: white;padding-right: 0.2em;padding-left: 0.2em;position: relative;}#sk-container-id-3 div.sk-item {position: relative;z-index: 1;}#sk-container-id-3 div.sk-parallel {display: flex;align-items: stretch;justify-content: center;background-color: white;position: relative;}#sk-container-id-3 div.sk-item::before, #sk-container-id-3 div.sk-parallel-item::before {content: \"\";position: absolute;border-left: 1px solid gray;box-sizing: border-box;top: 0;bottom: 0;left: 50%;z-index: -1;}#sk-container-id-3 div.sk-parallel-item {display: flex;flex-direction: column;z-index: 1;position: relative;background-color: white;}#sk-container-id-3 div.sk-parallel-item:first-child::after {align-self: flex-end;width: 50%;}#sk-container-id-3 div.sk-parallel-item:last-child::after {align-self: flex-start;width: 50%;}#sk-container-id-3 div.sk-parallel-item:only-child::after {width: 0;}#sk-container-id-3 div.sk-dashed-wrapped {border: 1px dashed gray;margin: 0 0.4em 0.5em 0.4em;box-sizing: border-box;padding-bottom: 0.4em;background-color: white;}#sk-container-id-3 div.sk-label label {font-family: monospace;font-weight: bold;display: inline-block;line-height: 1.2em;}#sk-container-id-3 div.sk-label-container {text-align: center;}#sk-container-id-3 div.sk-container {/* jupyter's `normalize.less` sets `[hidden] { display: none; }` but bootstrap.min.css set `[hidden] { display: none !important; }` so we also need the `!important` here to be able to override the default hidden behavior on the sphinx rendered scikit-learn.org. See: https://github.com/scikit-learn/scikit-learn/issues/21755 */display: inline-block !important;position: relative;}#sk-container-id-3 div.sk-text-repr-fallback {display: none;}</style><div id=\"sk-container-id-3\" class=\"sk-top-container\"><div class=\"sk-text-repr-fallback\"><pre>GridSearchCV(cv=5, estimator=DecisionTreeClassifier(random_state=42),\n",
              "             param_grid={&#x27;ccp_alpha&#x27;: [0.0, 0.1, 0.01, 0.001],\n",
              "                         &#x27;criterion&#x27;: [&#x27;gini&#x27;, &#x27;entropy&#x27;, &#x27;log_loss&#x27;],\n",
              "                         &#x27;max_depth&#x27;: [3, 4, 5, 6, 7, 8, 9, 10, 11, None],\n",
              "                         &#x27;max_features&#x27;: [None, &#x27;sqrt&#x27;, &#x27;log2&#x27;]},\n",
              "             scoring=&#x27;accuracy&#x27;, verbose=True)</pre><b>In a Jupyter environment, please rerun this cell to show the HTML representation or trust the notebook. <br />On GitHub, the HTML representation is unable to render, please try loading this page with nbviewer.org.</b></div><div class=\"sk-container\" hidden><div class=\"sk-item sk-dashed-wrapped\"><div class=\"sk-label-container\"><div class=\"sk-label sk-toggleable\"><input class=\"sk-toggleable__control sk-hidden--visually\" id=\"sk-estimator-id-5\" type=\"checkbox\" ><label for=\"sk-estimator-id-5\" class=\"sk-toggleable__label sk-toggleable__label-arrow\">GridSearchCV</label><div class=\"sk-toggleable__content\"><pre>GridSearchCV(cv=5, estimator=DecisionTreeClassifier(random_state=42),\n",
              "             param_grid={&#x27;ccp_alpha&#x27;: [0.0, 0.1, 0.01, 0.001],\n",
              "                         &#x27;criterion&#x27;: [&#x27;gini&#x27;, &#x27;entropy&#x27;, &#x27;log_loss&#x27;],\n",
              "                         &#x27;max_depth&#x27;: [3, 4, 5, 6, 7, 8, 9, 10, 11, None],\n",
              "                         &#x27;max_features&#x27;: [None, &#x27;sqrt&#x27;, &#x27;log2&#x27;]},\n",
              "             scoring=&#x27;accuracy&#x27;, verbose=True)</pre></div></div></div><div class=\"sk-parallel\"><div class=\"sk-parallel-item\"><div class=\"sk-item\"><div class=\"sk-label-container\"><div class=\"sk-label sk-toggleable\"><input class=\"sk-toggleable__control sk-hidden--visually\" id=\"sk-estimator-id-6\" type=\"checkbox\" ><label for=\"sk-estimator-id-6\" class=\"sk-toggleable__label sk-toggleable__label-arrow\">estimator: DecisionTreeClassifier</label><div class=\"sk-toggleable__content\"><pre>DecisionTreeClassifier(random_state=42)</pre></div></div></div><div class=\"sk-serial\"><div class=\"sk-item\"><div class=\"sk-estimator sk-toggleable\"><input class=\"sk-toggleable__control sk-hidden--visually\" id=\"sk-estimator-id-7\" type=\"checkbox\" ><label for=\"sk-estimator-id-7\" class=\"sk-toggleable__label sk-toggleable__label-arrow\">DecisionTreeClassifier</label><div class=\"sk-toggleable__content\"><pre>DecisionTreeClassifier(random_state=42)</pre></div></div></div></div></div></div></div></div></div></div>"
            ]
          },
          "metadata": {},
          "execution_count": 116
        }
      ]
    },
    {
      "cell_type": "code",
      "source": [
        "print(f\"Best score: {grid_search_dt.best_score_:.4f}\")\n",
        "print(f\"Best params: {grid_search_dt.best_params_}\")"
      ],
      "metadata": {
        "colab": {
          "base_uri": "https://localhost:8080/"
        },
        "id": "PXpGr6gYHZ_W",
        "outputId": "dd731e0b-a73b-44b7-efd2-3fc5fbcbd3b4"
      },
      "execution_count": null,
      "outputs": [
        {
          "output_type": "stream",
          "name": "stdout",
          "text": [
            "Best score: 0.6853\n",
            "Best params: {'ccp_alpha': 0.001, 'criterion': 'gini', 'max_depth': 9, 'max_features': None}\n"
          ]
        }
      ]
    },
    {
      "cell_type": "code",
      "source": [
        "# Calcular la accuracy para max_depth=5, domnde muestra la mejor accuracy en el grafico anterior\n",
        "clf_dt3 = DecisionTreeClassifier(max_depth=9, criterion='gini', ccp_alpha=0.001, max_features=None)\n",
        "clf_dt3.fit(X_train_selected,y_train)\n",
        "y_pred2 = clf_dt3.predict(X_test_selected)\n",
        "\n",
        "print(f\"Accuracy entrenamiento: {clf_dt3.score(X_train_selected,y_train):.4f}\")\n",
        "print(f\"Accuracy prueba: {clf_dt3.score(X_test_selected,y_test):.4f}\")"
      ],
      "metadata": {
        "colab": {
          "base_uri": "https://localhost:8080/"
        },
        "id": "lshh65VtHiYN",
        "outputId": "ecedea0f-fa89-4841-ae79-dd94c1c32788"
      },
      "execution_count": null,
      "outputs": [
        {
          "output_type": "stream",
          "name": "stdout",
          "text": [
            "Accuracy entrenamiento: 0.7883\n",
            "Accuracy prueba: 0.6743\n"
          ]
        }
      ]
    },
    {
      "cell_type": "markdown",
      "source": [
        "##### **Conclusiones para decision Trees**\n",
        "El mejor modelo es con max_depth=5 y del demas parametros de default, con un 70.15% de accuracy"
      ],
      "metadata": {
        "id": "ZP3hTWxnMdnM"
      }
    },
    {
      "cell_type": "markdown",
      "source": [
        "### Random Forest"
      ],
      "metadata": {
        "id": "ZkLTF0qqr6pM"
      }
    },
    {
      "cell_type": "markdown",
      "source": [
        "Primero utilizaremos el modelo con los parametros de dafault"
      ],
      "metadata": {
        "id": "jgReTHIAM6Gc"
      }
    },
    {
      "cell_type": "code",
      "source": [
        "clf_rf = RandomForestClassifier(random_state=42)\n",
        "\n",
        "clf_rf.fit(X_train,y_train)\n",
        "y_train_pred_rf = clf_rf.predict(X_train)\n",
        "y_pred_rf = clf_rf.predict(X_test)"
      ],
      "metadata": {
        "id": "ocRw8XI-r-6l"
      },
      "execution_count": null,
      "outputs": []
    },
    {
      "cell_type": "code",
      "source": [
        "from sklearn.metrics import confusion_matrix\n",
        "from sklearn.metrics import accuracy_score, recall_score, precision_score\n",
        "\n",
        "print(f\"Train Accuracy: {round(accuracy_score(y_train,y_train_pred_rf),3)}\")\n",
        "print(f\"Test Accuracy: {round(accuracy_score(y_test,y_pred_rf),3)}\")\n",
        "print(f\"Test Recall: {round(recall_score(y_test,y_pred_rf, average = 'macro'),5)}\")\n",
        "print(f\"Test Precision: {round(precision_score(y_test,y_pred_rf, average = 'macro'),3)}\")\n",
        "\n",
        "target_labels = [0,1, 2, 3, 4]\n",
        "\n",
        "plt.figure(figsize=(3,3))\n",
        "cm = confusion_matrix(y_test,y_pred_rf)\n",
        "s_cm = sns.heatmap(cm,cmap='plasma',annot=True, fmt='g',\n",
        "            xticklabels=target_labels,\n",
        "            yticklabels=target_labels)\n",
        "s_cm.set(xlabel='Predicted',ylabel='Real')\n",
        "plt.show()"
      ],
      "metadata": {
        "colab": {
          "base_uri": "https://localhost:8080/",
          "height": 380
        },
        "id": "Tb2WEUZYs2M9",
        "outputId": "34a012eb-106a-4307-aa9d-23e2aa9d60a0"
      },
      "execution_count": null,
      "outputs": [
        {
          "output_type": "stream",
          "name": "stdout",
          "text": [
            "Train Accuracy: 1.0\n",
            "Test Accuracy: 0.689\n",
            "Test Recall: 0.50243\n",
            "Test Precision: 0.563\n"
          ]
        },
        {
          "output_type": "display_data",
          "data": {
            "text/plain": [
              "<Figure size 300x300 with 2 Axes>"
            ],
            "image/png": "[encoded data removed]"
          },
          "metadata": {}
        }
      ]
    },
    {
      "cell_type": "code",
      "source": [
        "clf_rf_selected = RandomForestClassifier(random_state=42)\n",
        "\n",
        "clf_rf_selected.fit(X_train_selected,y_train)\n",
        "y_train_pred_rf_selected = clf_rf_selected.predict(X_train_selected)\n",
        "y_pred_rf_selected = clf_rf_selected.predict(X_test_selected)"
      ],
      "metadata": {
        "id": "8KoYXuS2euRm"
      },
      "execution_count": null,
      "outputs": []
    },
    {
      "cell_type": "code",
      "source": [
        "print(f\"Train Accuracy: {round(accuracy_score(y_train,y_train_pred_rf_selected),3)}\")\n",
        "print(f\"Test Accuracy: {round(accuracy_score(y_test,y_pred_rf_selected),3)}\")\n",
        "print(f\"Test Recall: {round(recall_score(y_test,y_pred_rf_selected, average = 'macro'),5)}\")\n",
        "print(f\"Test Precision: {round(precision_score(y_test,y_pred_rf_selected, average = 'macro'),3)}\")\n",
        "\n",
        "target_labels = [0,1, 2, 3, 4]\n",
        "\n",
        "plt.figure(figsize=(3,3))\n",
        "cm_selected = confusion_matrix(y_test,y_pred_rf)\n",
        "s_cm_selected = sns.heatmap(cm,cmap='plasma',annot=True, fmt='g',\n",
        "            xticklabels=target_labels,\n",
        "            yticklabels=target_labels)\n",
        "s_cm_selected.set(xlabel='Predicted',ylabel='Real')\n",
        "plt.show()"
      ],
      "metadata": {
        "colab": {
          "base_uri": "https://localhost:8080/",
          "height": 380
        },
        "id": "jzEo2Vale5HR",
        "outputId": "4221c7e2-a437-46c7-e802-f5f67898574e"
      },
      "execution_count": null,
      "outputs": [
        {
          "output_type": "stream",
          "name": "stdout",
          "text": [
            "Train Accuracy: 0.999\n",
            "Test Accuracy: 0.697\n",
            "Test Recall: 0.53103\n",
            "Test Precision: 0.558\n"
          ]
        },
        {
          "output_type": "display_data",
          "data": {
            "text/plain": [
              "<Figure size 300x300 with 2 Axes>"
            ],
            "image/png": "[encoded data removed]"
          },
          "metadata": {}
        }
      ]
    },
    {
      "cell_type": "code",
      "source": [
        "# Crear parameter grid\n",
        "param_grid = {\n",
        "    'max_depth': [3, 4, 5, 6, 7, 8, 9, 10, 11, 12, 13, 14, 15, 16, 17, 18, 19, 20, None],\n",
        "}\n",
        "rf = RandomForestClassifier()\n",
        "grid_search_rf = GridSearchCV(estimator = rf, param_grid = param_grid,\n",
        "                          cv = 5, verbose = 3)\n",
        "grid_search_rf.fit(X_train, y_train)"
      ],
      "metadata": {
        "colab": {
          "base_uri": "https://localhost:8080/",
          "height": 1000
        },
        "id": "speP8xuQOX1_",
        "outputId": "3a3f6e87-8f39-4212-acf7-12712687e315"
      },
      "execution_count": null,
      "outputs": [
        {
          "output_type": "stream",
          "name": "stdout",
          "text": [
            "Fitting 5 folds for each of 19 candidates, totalling 95 fits\n",
            "[CV 1/5] END .......................max_depth=3;, score=0.504 total time=   0.5s\n",
            "[CV 2/5] END .......................max_depth=3;, score=0.507 total time=   0.4s\n",
            "[CV 3/5] END .......................max_depth=3;, score=0.509 total time=   0.5s\n",
            "[CV 4/5] END .......................max_depth=3;, score=0.508 total time=   0.4s\n",
            "[CV 5/5] END .......................max_depth=3;, score=0.510 total time=   0.4s\n",
            "[CV 1/5] END .......................max_depth=4;, score=0.642 total time=   0.3s\n",
            "[CV 2/5] END .......................max_depth=4;, score=0.629 total time=   0.4s\n",
            "[CV 3/5] END .......................max_depth=4;, score=0.608 total time=   0.5s\n",
            "[CV 4/5] END .......................max_depth=4;, score=0.586 total time=   0.3s\n",
            "[CV 5/5] END .......................max_depth=4;, score=0.613 total time=   0.5s\n",
            "[CV 1/5] END .......................max_depth=5;, score=0.645 total time=   0.7s\n",
            "[CV 2/5] END .......................max_depth=5;, score=0.640 total time=   0.7s\n",
            "[CV 3/5] END .......................max_depth=5;, score=0.614 total time=   0.6s\n",
            "[CV 4/5] END .......................max_depth=5;, score=0.636 total time=   1.3s\n",
            "[CV 5/5] END .......................max_depth=5;, score=0.673 total time=   0.3s\n",
            "[CV 1/5] END .......................max_depth=6;, score=0.650 total time=   0.3s\n",
            "[CV 2/5] END .......................max_depth=6;, score=0.645 total time=   0.2s\n",
            "[CV 3/5] END .......................max_depth=6;, score=0.621 total time=   0.2s\n",
            "[CV 4/5] END .......................max_depth=6;, score=0.662 total time=   0.2s\n",
            "[CV 5/5] END .......................max_depth=6;, score=0.673 total time=   0.2s\n",
            "[CV 1/5] END .......................max_depth=7;, score=0.684 total time=   0.2s\n",
            "[CV 2/5] END .......................max_depth=7;, score=0.666 total time=   0.2s\n",
            "[CV 3/5] END .......................max_depth=7;, score=0.653 total time=   0.2s\n",
            "[CV 4/5] END .......................max_depth=7;, score=0.670 total time=   0.2s\n",
            "[CV 5/5] END .......................max_depth=7;, score=0.681 total time=   0.2s\n",
            "[CV 1/5] END .......................max_depth=8;, score=0.666 total time=   0.2s\n",
            "[CV 2/5] END .......................max_depth=8;, score=0.700 total time=   0.2s\n",
            "[CV 3/5] END .......................max_depth=8;, score=0.661 total time=   0.2s\n",
            "[CV 4/5] END .......................max_depth=8;, score=0.670 total time=   0.2s\n",
            "[CV 5/5] END .......................max_depth=8;, score=0.699 total time=   0.2s\n",
            "[CV 1/5] END .......................max_depth=9;, score=0.692 total time=   0.2s\n",
            "[CV 2/5] END .......................max_depth=9;, score=0.679 total time=   0.3s\n",
            "[CV 3/5] END .......................max_depth=9;, score=0.679 total time=   0.3s\n",
            "[CV 4/5] END .......................max_depth=9;, score=0.665 total time=   0.3s\n",
            "[CV 5/5] END .......................max_depth=9;, score=0.683 total time=   0.2s\n",
            "[CV 1/5] END ......................max_depth=10;, score=0.705 total time=   0.3s\n",
            "[CV 2/5] END ......................max_depth=10;, score=0.689 total time=   0.3s\n",
            "[CV 3/5] END ......................max_depth=10;, score=0.684 total time=   0.3s\n",
            "[CV 4/5] END ......................max_depth=10;, score=0.683 total time=   0.3s\n",
            "[CV 5/5] END ......................max_depth=10;, score=0.699 total time=   0.3s\n",
            "[CV 1/5] END ......................max_depth=11;, score=0.702 total time=   0.3s\n",
            "[CV 2/5] END ......................max_depth=11;, score=0.702 total time=   0.3s\n",
            "[CV 3/5] END ......................max_depth=11;, score=0.679 total time=   0.3s\n",
            "[CV 4/5] END ......................max_depth=11;, score=0.670 total time=   0.3s\n",
            "[CV 5/5] END ......................max_depth=11;, score=0.699 total time=   0.3s\n",
            "[CV 1/5] END ......................max_depth=12;, score=0.684 total time=   0.3s\n",
            "[CV 2/5] END ......................max_depth=12;, score=0.713 total time=   0.3s\n",
            "[CV 3/5] END ......................max_depth=12;, score=0.679 total time=   0.3s\n",
            "[CV 4/5] END ......................max_depth=12;, score=0.691 total time=   0.3s\n",
            "[CV 5/5] END ......................max_depth=12;, score=0.712 total time=   0.3s\n",
            "[CV 1/5] END ......................max_depth=13;, score=0.679 total time=   0.3s\n",
            "[CV 2/5] END ......................max_depth=13;, score=0.692 total time=   0.3s\n",
            "[CV 3/5] END ......................max_depth=13;, score=0.679 total time=   0.3s\n",
            "[CV 4/5] END ......................max_depth=13;, score=0.670 total time=   0.3s\n",
            "[CV 5/5] END ......................max_depth=13;, score=0.723 total time=   0.4s\n",
            "[CV 1/5] END ......................max_depth=14;, score=0.692 total time=   0.9s\n",
            "[CV 2/5] END ......................max_depth=14;, score=0.702 total time=   1.1s\n",
            "[CV 3/5] END ......................max_depth=14;, score=0.666 total time=   1.4s\n",
            "[CV 4/5] END ......................max_depth=14;, score=0.691 total time=   0.6s\n",
            "[CV 5/5] END ......................max_depth=14;, score=0.696 total time=   0.8s\n",
            "[CV 1/5] END ......................max_depth=15;, score=0.692 total time=   0.5s\n",
            "[CV 2/5] END ......................max_depth=15;, score=0.697 total time=   0.6s\n",
            "[CV 3/5] END ......................max_depth=15;, score=0.681 total time=   0.6s\n",
            "[CV 4/5] END ......................max_depth=15;, score=0.707 total time=   0.5s\n",
            "[CV 5/5] END ......................max_depth=15;, score=0.696 total time=   0.5s\n",
            "[CV 1/5] END ......................max_depth=16;, score=0.697 total time=   0.6s\n",
            "[CV 2/5] END ......................max_depth=16;, score=0.710 total time=   0.6s\n",
            "[CV 3/5] END ......................max_depth=16;, score=0.684 total time=   0.8s\n",
            "[CV 4/5] END ......................max_depth=16;, score=0.696 total time=   0.3s\n",
            "[CV 5/5] END ......................max_depth=16;, score=0.699 total time=   0.3s\n",
            "[CV 1/5] END ......................max_depth=17;, score=0.681 total time=   0.3s\n",
            "[CV 2/5] END ......................max_depth=17;, score=0.715 total time=   0.3s\n",
            "[CV 3/5] END ......................max_depth=17;, score=0.700 total time=   0.3s\n",
            "[CV 4/5] END ......................max_depth=17;, score=0.683 total time=   0.3s\n",
            "[CV 5/5] END ......................max_depth=17;, score=0.699 total time=   0.3s\n",
            "[CV 1/5] END ......................max_depth=18;, score=0.692 total time=   0.3s\n",
            "[CV 2/5] END ......................max_depth=18;, score=0.700 total time=   0.3s\n",
            "[CV 3/5] END ......................max_depth=18;, score=0.692 total time=   0.3s\n",
            "[CV 4/5] END ......................max_depth=18;, score=0.668 total time=   0.3s\n",
            "[CV 5/5] END ......................max_depth=18;, score=0.691 total time=   0.3s\n",
            "[CV 1/5] END ......................max_depth=19;, score=0.684 total time=   0.3s\n",
            "[CV 2/5] END ......................max_depth=19;, score=0.710 total time=   0.4s\n",
            "[CV 3/5] END ......................max_depth=19;, score=0.695 total time=   0.4s\n",
            "[CV 4/5] END ......................max_depth=19;, score=0.688 total time=   0.4s\n",
            "[CV 5/5] END ......................max_depth=19;, score=0.691 total time=   0.4s\n",
            "[CV 1/5] END ......................max_depth=20;, score=0.676 total time=   0.4s\n",
            "[CV 2/5] END ......................max_depth=20;, score=0.705 total time=   0.5s\n",
            "[CV 3/5] END ......................max_depth=20;, score=0.674 total time=   0.5s\n",
            "[CV 4/5] END ......................max_depth=20;, score=0.686 total time=   0.5s\n",
            "[CV 5/5] END ......................max_depth=20;, score=0.691 total time=   0.3s\n",
            "[CV 1/5] END ....................max_depth=None;, score=0.676 total time=   0.3s\n",
            "[CV 2/5] END ....................max_depth=None;, score=0.700 total time=   0.3s\n",
            "[CV 3/5] END ....................max_depth=None;, score=0.681 total time=   0.3s\n",
            "[CV 4/5] END ....................max_depth=None;, score=0.678 total time=   0.3s\n",
            "[CV 5/5] END ....................max_depth=None;, score=0.699 total time=   0.3s\n"
          ]
        },
        {
          "output_type": "execute_result",
          "data": {
            "text/plain": [
              "GridSearchCV(cv=5, estimator=RandomForestClassifier(),\n",
              "             param_grid={'max_depth': [3, 4, 5, 6, 7, 8, 9, 10, 11, 12, 13, 14,\n",
              "                                       15, 16, 17, 18, 19, 20, None]},\n",
              "             verbose=3)"
            ],
            "text/html": [
              "<style>#sk-container-id-2 {color: black;}#sk-container-id-2 pre{padding: 0;}#sk-container-id-2 div.sk-toggleable {background-color: white;}#sk-container-id-2 label.sk-toggleable__label {cursor: pointer;display: block;width: 100%;margin-bottom: 0;padding: 0.3em;box-sizing: border-box;text-align: center;}#sk-container-id-2 label.sk-toggleable__label-arrow:before {content: \"▸\";float: left;margin-right: 0.25em;color: #696969;}#sk-container-id-2 label.sk-toggleable__label-arrow:hover:before {color: black;}#sk-container-id-2 div.sk-estimator:hover label.sk-toggleable__label-arrow:before {color: black;}#sk-container-id-2 div.sk-toggleable__content {max-height: 0;max-width: 0;overflow: hidden;text-align: left;background-color: #f0f8ff;}#sk-container-id-2 div.sk-toggleable__content pre {margin: 0.2em;color: black;border-radius: 0.25em;background-color: #f0f8ff;}#sk-container-id-2 input.sk-toggleable__control:checked~div.sk-toggleable__content {max-height: 200px;max-width: 100%;overflow: auto;}#sk-container-id-2 input.sk-toggleable__control:checked~label.sk-toggleable__label-arrow:before {content: \"▾\";}#sk-container-id-2 div.sk-estimator input.sk-toggleable__control:checked~label.sk-toggleable__label {background-color: #d4ebff;}#sk-container-id-2 div.sk-label input.sk-toggleable__control:checked~label.sk-toggleable__label {background-color: #d4ebff;}#sk-container-id-2 input.sk-hidden--visually {border: 0;clip: rect(1px 1px 1px 1px);clip: rect(1px, 1px, 1px, 1px);height: 1px;margin: -1px;overflow: hidden;padding: 0;position: absolute;width: 1px;}#sk-container-id-2 div.sk-estimator {font-family: monospace;background-color: #f0f8ff;border: 1px dotted black;border-radius: 0.25em;box-sizing: border-box;margin-bottom: 0.5em;}#sk-container-id-2 div.sk-estimator:hover {background-color: #d4ebff;}#sk-container-id-2 div.sk-parallel-item::after {content: \"\";width: 100%;border-bottom: 1px solid gray;flex-grow: 1;}#sk-container-id-2 div.sk-label:hover label.sk-toggleable__label {background-color: #d4ebff;}#sk-container-id-2 div.sk-serial::before {content: \"\";position: absolute;border-left: 1px solid gray;box-sizing: border-box;top: 0;bottom: 0;left: 50%;z-index: 0;}#sk-container-id-2 div.sk-serial {display: flex;flex-direction: column;align-items: center;background-color: white;padding-right: 0.2em;padding-left: 0.2em;position: relative;}#sk-container-id-2 div.sk-item {position: relative;z-index: 1;}#sk-container-id-2 div.sk-parallel {display: flex;align-items: stretch;justify-content: center;background-color: white;position: relative;}#sk-container-id-2 div.sk-item::before, #sk-container-id-2 div.sk-parallel-item::before {content: \"\";position: absolute;border-left: 1px solid gray;box-sizing: border-box;top: 0;bottom: 0;left: 50%;z-index: -1;}#sk-container-id-2 div.sk-parallel-item {display: flex;flex-direction: column;z-index: 1;position: relative;background-color: white;}#sk-container-id-2 div.sk-parallel-item:first-child::after {align-self: flex-end;width: 50%;}#sk-container-id-2 div.sk-parallel-item:last-child::after {align-self: flex-start;width: 50%;}#sk-container-id-2 div.sk-parallel-item:only-child::after {width: 0;}#sk-container-id-2 div.sk-dashed-wrapped {border: 1px dashed gray;margin: 0 0.4em 0.5em 0.4em;box-sizing: border-box;padding-bottom: 0.4em;background-color: white;}#sk-container-id-2 div.sk-label label {font-family: monospace;font-weight: bold;display: inline-block;line-height: 1.2em;}#sk-container-id-2 div.sk-label-container {text-align: center;}#sk-container-id-2 div.sk-container {/* jupyter's `normalize.less` sets `[hidden] { display: none; }` but bootstrap.min.css set `[hidden] { display: none !important; }` so we also need the `!important` here to be able to override the default hidden behavior on the sphinx rendered scikit-learn.org. See: https://github.com/scikit-learn/scikit-learn/issues/21755 */display: inline-block !important;position: relative;}#sk-container-id-2 div.sk-text-repr-fallback {display: none;}</style><div id=\"sk-container-id-2\" class=\"sk-top-container\"><div class=\"sk-text-repr-fallback\"><pre>GridSearchCV(cv=5, estimator=RandomForestClassifier(),\n",
              "             param_grid={&#x27;max_depth&#x27;: [3, 4, 5, 6, 7, 8, 9, 10, 11, 12, 13, 14,\n",
              "                                       15, 16, 17, 18, 19, 20, None]},\n",
              "             verbose=3)</pre><b>In a Jupyter environment, please rerun this cell to show the HTML representation or trust the notebook. <br />On GitHub, the HTML representation is unable to render, please try loading this page with nbviewer.org.</b></div><div class=\"sk-container\" hidden><div class=\"sk-item sk-dashed-wrapped\"><div class=\"sk-label-container\"><div class=\"sk-label sk-toggleable\"><input class=\"sk-toggleable__control sk-hidden--visually\" id=\"sk-estimator-id-2\" type=\"checkbox\" ><label for=\"sk-estimator-id-2\" class=\"sk-toggleable__label sk-toggleable__label-arrow\">GridSearchCV</label><div class=\"sk-toggleable__content\"><pre>GridSearchCV(cv=5, estimator=RandomForestClassifier(),\n",
              "             param_grid={&#x27;max_depth&#x27;: [3, 4, 5, 6, 7, 8, 9, 10, 11, 12, 13, 14,\n",
              "                                       15, 16, 17, 18, 19, 20, None]},\n",
              "             verbose=3)</pre></div></div></div><div class=\"sk-parallel\"><div class=\"sk-parallel-item\"><div class=\"sk-item\"><div class=\"sk-label-container\"><div class=\"sk-label sk-toggleable\"><input class=\"sk-toggleable__control sk-hidden--visually\" id=\"sk-estimator-id-3\" type=\"checkbox\" ><label for=\"sk-estimator-id-3\" class=\"sk-toggleable__label sk-toggleable__label-arrow\">estimator: RandomForestClassifier</label><div class=\"sk-toggleable__content\"><pre>RandomForestClassifier()</pre></div></div></div><div class=\"sk-serial\"><div class=\"sk-item\"><div class=\"sk-estimator sk-toggleable\"><input class=\"sk-toggleable__control sk-hidden--visually\" id=\"sk-estimator-id-4\" type=\"checkbox\" ><label for=\"sk-estimator-id-4\" class=\"sk-toggleable__label sk-toggleable__label-arrow\">RandomForestClassifier</label><div class=\"sk-toggleable__content\"><pre>RandomForestClassifier()</pre></div></div></div></div></div></div></div></div></div></div>"
            ]
          },
          "metadata": {},
          "execution_count": 43
        }
      ]
    },
    {
      "cell_type": "code",
      "source": [
        "print(f\"Best score: {grid_search_rf.best_score_:.4f}\")\n",
        "print(f\"Best params: {grid_search_rf.best_params_}\")"
      ],
      "metadata": {
        "id": "sYSOyR6iO5KW",
        "colab": {
          "base_uri": "https://localhost:8080/"
        },
        "outputId": "e3ffae5d-221b-4dfb-8096-7a306c5066fa"
      },
      "execution_count": null,
      "outputs": [
        {
          "output_type": "stream",
          "name": "stdout",
          "text": [
            "Best score: 0.6973\n",
            "Best params: {'max_depth': 16}\n"
          ]
        }
      ]
    },
    {
      "cell_type": "code",
      "source": [
        "clf_rf2 = RandomForestClassifier(random_state=42, max_depth=16)\n",
        "\n",
        "clf_rf2.fit(X_train,y_train)\n",
        "y_train_pred_rf2 = clf_rf2.predict(X_train)\n",
        "y_pred_rf2 = clf_rf2.predict(X_test)"
      ],
      "metadata": {
        "id": "oq3vJN1sxcUA"
      },
      "execution_count": null,
      "outputs": []
    },
    {
      "cell_type": "code",
      "source": [
        "print(f\"Train Accuracy: {round(accuracy_score(y_train,y_train_pred_rf2),3)}\")\n",
        "print(f\"Test Accuracy: {round(accuracy_score(y_test,y_pred_rf2),3)}\")\n",
        "print(f\"Test Recall: {round(recall_score(y_test,y_pred_rf2, average = 'macro'),5)}\")\n",
        "print(f\"Test Precision: {round(precision_score(y_test,y_pred_rf2, average = 'macro'),3)}\")\n",
        "\n",
        "target_labels = [0,1, 2, 3, 4]\n",
        "\n",
        "plt.figure(figsize=(3,3))\n",
        "cm = confusion_matrix(y_test,y_pred_rf2)\n",
        "s_cm = sns.heatmap(cm,cmap='plasma',annot=True, fmt='g',\n",
        "            xticklabels=target_labels,\n",
        "            yticklabels=target_labels)\n",
        "s_cm.set(xlabel='Predicted',ylabel='Real')\n",
        "plt.show()"
      ],
      "metadata": {
        "colab": {
          "base_uri": "https://localhost:8080/",
          "height": 380
        },
        "id": "6n3vSP3Fxmn_",
        "outputId": "3c4f29bb-785d-4ce8-ac33-0c8ec9a7b897"
      },
      "execution_count": null,
      "outputs": [
        {
          "output_type": "stream",
          "name": "stdout",
          "text": [
            "Train Accuracy: 0.999\n",
            "Test Accuracy: 0.695\n",
            "Test Recall: 0.50203\n",
            "Test Precision: 0.541\n"
          ]
        },
        {
          "output_type": "display_data",
          "data": {
            "text/plain": [
              "<Figure size 300x300 with 2 Axes>"
            ],
            "image/png": "[encoded data removed]"
          },
          "metadata": {}
        }
      ]
    },
    {
      "cell_type": "code",
      "source": [
        "clf_rf3 = RandomForestClassifier(random_state=42, max_depth=16)\n",
        "\n",
        "clf_rf3.fit(X_train_selected,y_train)\n",
        "y_train_pred_rf3 = clf_rf3.predict(X_train_selected)\n",
        "y_pred_rf3 = clf_rf3.predict(X_test_selected)\n",
        "\n",
        "\n",
        "print(f\"Train Accuracy: {round(accuracy_score(y_train,y_train_pred_rf3),3)}\")\n",
        "print(f\"Test Accuracy: {round(accuracy_score(y_test,y_pred_rf3),3)}\")\n",
        "print(f\"Test Recall: {round(recall_score(y_test,y_pred_rf3, average = 'macro'),5)}\")\n",
        "print(f\"Test Precision: {round(precision_score(y_test,y_pred_rf3, average = 'macro'),3)}\")\n",
        "\n",
        "target_labels = [0,1, 2, 3, 4]\n",
        "\n",
        "plt.figure(figsize=(3,3))\n",
        "cm = confusion_matrix(y_test,y_pred_rf3)\n",
        "s_cm = sns.heatmap(cm,cmap='plasma',annot=True, fmt='g',\n",
        "            xticklabels=target_labels,\n",
        "            yticklabels=target_labels)\n",
        "s_cm.set(xlabel='Predicted',ylabel='Real')\n",
        "plt.show()"
      ],
      "metadata": {
        "colab": {
          "base_uri": "https://localhost:8080/",
          "height": 380
        },
        "id": "DD-0-RGNY51Q",
        "outputId": "4b8b0213-a136-4125-819b-f2785d8183b2"
      },
      "execution_count": null,
      "outputs": [
        {
          "output_type": "stream",
          "name": "stdout",
          "text": [
            "Train Accuracy: 0.998\n",
            "Test Accuracy: 0.706\n",
            "Test Recall: 0.54271\n",
            "Test Precision: 0.574\n"
          ]
        },
        {
          "output_type": "display_data",
          "data": {
            "text/plain": [
              "<Figure size 300x300 with 2 Axes>"
            ],
            "image/png": "[encoded data removed]"
          },
          "metadata": {}
        }
      ]
    },
    {
      "cell_type": "markdown",
      "source": [
        "Muestra 70.1% de accuracy (usando las 15 mejores features de acuerdo a SelectKBest) sin embargo la accuracy de prueba es del 88%, lo que muestra overfitting del modelo"
      ],
      "metadata": {
        "id": "9V7jzCck0iaL"
      }
    },
    {
      "cell_type": "markdown",
      "metadata": {
        "id": "zP5n8YuKWkXC"
      },
      "source": [
        "#### SVM"
      ]
    },
    {
      "cell_type": "code",
      "execution_count": null,
      "metadata": {
        "colab": {
          "base_uri": "https://localhost:8080/"
        },
        "id": "u7nq4_XRTGTe",
        "outputId": "ba2b5bd2-d4c6-49e4-933b-735c905ad121"
      },
      "outputs": [
        {
          "output_type": "execute_result",
          "data": {
            "text/plain": [
              "0.7626764244641924"
            ]
          },
          "metadata": {},
          "execution_count": 49
        }
      ],
      "source": [
        "clf_svm = SVC(kernel='linear',C=1, random_state=42)\n",
        "clf_svm.fit(X_train, y_train)\n",
        "clf_svm.score(X_train,y_train)"
      ]
    },
    {
      "cell_type": "code",
      "execution_count": null,
      "metadata": {
        "colab": {
          "base_uri": "https://localhost:8080/"
        },
        "id": "mvr3CoOlWwy_",
        "outputId": "fd996366-fe2e-4fa4-e68e-1d484a63f638"
      },
      "outputs": [
        {
          "output_type": "execute_result",
          "data": {
            "text/plain": [
              "0.7390396659707724"
            ]
          },
          "metadata": {},
          "execution_count": 50
        }
      ],
      "source": [
        "clf_svm.score(X_test,y_test)    # Este score es el accuracy"
      ]
    },
    {
      "cell_type": "markdown",
      "source": [
        "Usando SelectKBest=14"
      ],
      "metadata": {
        "id": "7UWfMZ6wgTQP"
      }
    },
    {
      "cell_type": "code",
      "source": [
        "clf_svm_selected = SVC(kernel='linear',C=1, random_state=42)\n",
        "clf_svm_selected.fit(X_train_selected, y_train)\n",
        "clf_svm_selected.score(X_test_selected,y_test)"
      ],
      "metadata": {
        "colab": {
          "base_uri": "https://localhost:8080/"
        },
        "id": "nn-8a191gYJP",
        "outputId": "4775151d-ef53-4837-9d45-e7887b6d422d"
      },
      "execution_count": null,
      "outputs": [
        {
          "output_type": "execute_result",
          "data": {
            "text/plain": [
              "0.7661795407098121"
            ]
          },
          "metadata": {},
          "execution_count": 51
        }
      ]
    },
    {
      "cell_type": "code",
      "source": [
        "# defining parameter range: toma 15-20 min en correr\n",
        "param_grid = {'C': [0.1, 1, 10, 100],\n",
        "              'gamma': [1, 0.1, 0.01, 0.001, 0.0001],\n",
        "              'kernel': ['rbf', 'linear']}\n",
        "\n",
        "grid = GridSearchCV(SVC(), param_grid, refit = True, verbose = 3)\n",
        "\n",
        "# fitting the model for grid search\n",
        "grid.fit(X_train, y_train)\n",
        "grid.score(X_test,y_test)"
      ],
      "metadata": {
        "colab": {
          "base_uri": "https://localhost:8080/"
        },
        "id": "eGGqATAj0LhD",
        "outputId": "e2bb3387-b5d3-4ff5-9e2b-c949dc2fe8ae"
      },
      "execution_count": null,
      "outputs": [
        {
          "output_type": "stream",
          "name": "stdout",
          "text": [
            "Fitting 5 folds for each of 40 candidates, totalling 200 fits\n",
            "[CV 1/5] END ........C=0.1, gamma=1, kernel=rbf;, score=0.504 total time=   0.3s\n",
            "[CV 2/5] END ........C=0.1, gamma=1, kernel=rbf;, score=0.507 total time=   0.5s\n",
            "[CV 3/5] END ........C=0.1, gamma=1, kernel=rbf;, score=0.507 total time=   0.6s\n",
            "[CV 4/5] END ........C=0.1, gamma=1, kernel=rbf;, score=0.508 total time=   0.6s\n",
            "[CV 5/5] END ........C=0.1, gamma=1, kernel=rbf;, score=0.505 total time=   0.6s\n",
            "[CV 1/5] END .....C=0.1, gamma=1, kernel=linear;, score=0.736 total time=   0.2s\n",
            "[CV 2/5] END .....C=0.1, gamma=1, kernel=linear;, score=0.744 total time=   0.2s\n",
            "[CV 3/5] END .....C=0.1, gamma=1, kernel=linear;, score=0.713 total time=   0.2s\n",
            "[CV 4/5] END .....C=0.1, gamma=1, kernel=linear;, score=0.746 total time=   0.2s\n",
            "[CV 5/5] END .....C=0.1, gamma=1, kernel=linear;, score=0.712 total time=   0.2s\n",
            "[CV 1/5] END ......C=0.1, gamma=0.1, kernel=rbf;, score=0.640 total time=   0.3s\n",
            "[CV 2/5] END ......C=0.1, gamma=0.1, kernel=rbf;, score=0.642 total time=   0.3s\n",
            "[CV 3/5] END ......C=0.1, gamma=0.1, kernel=rbf;, score=0.627 total time=   0.4s\n",
            "[CV 4/5] END ......C=0.1, gamma=0.1, kernel=rbf;, score=0.649 total time=   0.4s\n",
            "[CV 5/5] END ......C=0.1, gamma=0.1, kernel=rbf;, score=0.647 total time=   0.3s\n",
            "[CV 1/5] END ...C=0.1, gamma=0.1, kernel=linear;, score=0.736 total time=   0.2s\n",
            "[CV 2/5] END ...C=0.1, gamma=0.1, kernel=linear;, score=0.744 total time=   0.2s\n",
            "[CV 3/5] END ...C=0.1, gamma=0.1, kernel=linear;, score=0.713 total time=   0.4s\n",
            "[CV 4/5] END ...C=0.1, gamma=0.1, kernel=linear;, score=0.746 total time=   0.4s\n",
            "[CV 5/5] END ...C=0.1, gamma=0.1, kernel=linear;, score=0.712 total time=   0.2s\n",
            "[CV 1/5] END .....C=0.1, gamma=0.01, kernel=rbf;, score=0.679 total time=   0.1s\n",
            "[CV 2/5] END .....C=0.1, gamma=0.01, kernel=rbf;, score=0.692 total time=   0.1s\n",
            "[CV 3/5] END .....C=0.1, gamma=0.01, kernel=rbf;, score=0.632 total time=   0.1s\n",
            "[CV 4/5] END .....C=0.1, gamma=0.01, kernel=rbf;, score=0.686 total time=   0.1s\n",
            "[CV 5/5] END .....C=0.1, gamma=0.01, kernel=rbf;, score=0.694 total time=   0.1s\n",
            "[CV 1/5] END ..C=0.1, gamma=0.01, kernel=linear;, score=0.736 total time=   0.1s\n",
            "[CV 2/5] END ..C=0.1, gamma=0.01, kernel=linear;, score=0.744 total time=   0.1s\n",
            "[CV 3/5] END ..C=0.1, gamma=0.01, kernel=linear;, score=0.713 total time=   0.1s\n",
            "[CV 4/5] END ..C=0.1, gamma=0.01, kernel=linear;, score=0.746 total time=   0.1s\n",
            "[CV 5/5] END ..C=0.1, gamma=0.01, kernel=linear;, score=0.712 total time=   0.1s\n",
            "[CV 1/5] END ....C=0.1, gamma=0.001, kernel=rbf;, score=0.645 total time=   0.1s\n",
            "[CV 2/5] END ....C=0.1, gamma=0.001, kernel=rbf;, score=0.642 total time=   0.1s\n",
            "[CV 3/5] END ....C=0.1, gamma=0.001, kernel=rbf;, score=0.621 total time=   0.1s\n",
            "[CV 4/5] END ....C=0.1, gamma=0.001, kernel=rbf;, score=0.675 total time=   0.1s\n",
            "[CV 5/5] END ....C=0.1, gamma=0.001, kernel=rbf;, score=0.652 total time=   0.1s\n",
            "[CV 1/5] END .C=0.1, gamma=0.001, kernel=linear;, score=0.736 total time=   0.1s\n",
            "[CV 2/5] END .C=0.1, gamma=0.001, kernel=linear;, score=0.744 total time=   0.1s\n",
            "[CV 3/5] END .C=0.1, gamma=0.001, kernel=linear;, score=0.713 total time=   0.1s\n",
            "[CV 4/5] END .C=0.1, gamma=0.001, kernel=linear;, score=0.746 total time=   0.2s\n",
            "[CV 5/5] END .C=0.1, gamma=0.001, kernel=linear;, score=0.712 total time=   0.2s\n",
            "[CV 1/5] END ...C=0.1, gamma=0.0001, kernel=rbf;, score=0.504 total time=   0.2s\n",
            "[CV 2/5] END ...C=0.1, gamma=0.0001, kernel=rbf;, score=0.507 total time=   0.2s\n",
            "[CV 3/5] END ...C=0.1, gamma=0.0001, kernel=rbf;, score=0.507 total time=   0.2s\n",
            "[CV 4/5] END ...C=0.1, gamma=0.0001, kernel=rbf;, score=0.508 total time=   0.2s\n",
            "[CV 5/5] END ...C=0.1, gamma=0.0001, kernel=rbf;, score=0.505 total time=   0.2s\n",
            "[CV 1/5] END C=0.1, gamma=0.0001, kernel=linear;, score=0.736 total time=   0.2s\n",
            "[CV 2/5] END C=0.1, gamma=0.0001, kernel=linear;, score=0.744 total time=   0.2s\n",
            "[CV 3/5] END C=0.1, gamma=0.0001, kernel=linear;, score=0.713 total time=   0.2s\n",
            "[CV 4/5] END C=0.1, gamma=0.0001, kernel=linear;, score=0.746 total time=   0.2s\n",
            "[CV 5/5] END C=0.1, gamma=0.0001, kernel=linear;, score=0.712 total time=   0.2s\n",
            "[CV 1/5] END ..........C=1, gamma=1, kernel=rbf;, score=0.504 total time=   0.6s\n",
            "[CV 2/5] END ..........C=1, gamma=1, kernel=rbf;, score=0.507 total time=   0.5s\n",
            "[CV 3/5] END ..........C=1, gamma=1, kernel=rbf;, score=0.509 total time=   0.4s\n",
            "[CV 4/5] END ..........C=1, gamma=1, kernel=rbf;, score=0.508 total time=   0.3s\n",
            "[CV 5/5] END ..........C=1, gamma=1, kernel=rbf;, score=0.508 total time=   0.3s\n",
            "[CV 1/5] END .......C=1, gamma=1, kernel=linear;, score=0.749 total time=   0.3s\n",
            "[CV 2/5] END .......C=1, gamma=1, kernel=linear;, score=0.739 total time=   0.3s\n",
            "[CV 3/5] END .......C=1, gamma=1, kernel=linear;, score=0.731 total time=   0.3s\n",
            "[CV 4/5] END .......C=1, gamma=1, kernel=linear;, score=0.736 total time=   0.3s\n",
            "[CV 5/5] END .......C=1, gamma=1, kernel=linear;, score=0.730 total time=   0.5s\n",
            "[CV 1/5] END ........C=1, gamma=0.1, kernel=rbf;, score=0.721 total time=   0.2s\n",
            "[CV 2/5] END ........C=1, gamma=0.1, kernel=rbf;, score=0.718 total time=   0.2s\n",
            "[CV 3/5] END ........C=1, gamma=0.1, kernel=rbf;, score=0.650 total time=   0.2s\n",
            "[CV 4/5] END ........C=1, gamma=0.1, kernel=rbf;, score=0.694 total time=   0.2s\n",
            "[CV 5/5] END ........C=1, gamma=0.1, kernel=rbf;, score=0.686 total time=   0.2s\n",
            "[CV 1/5] END .....C=1, gamma=0.1, kernel=linear;, score=0.749 total time=   0.3s\n",
            "[CV 2/5] END .....C=1, gamma=0.1, kernel=linear;, score=0.739 total time=   0.4s\n",
            "[CV 3/5] END .....C=1, gamma=0.1, kernel=linear;, score=0.731 total time=   0.3s\n",
            "[CV 4/5] END .....C=1, gamma=0.1, kernel=linear;, score=0.736 total time=   0.3s\n",
            "[CV 5/5] END .....C=1, gamma=0.1, kernel=linear;, score=0.730 total time=   0.3s\n",
            "[CV 1/5] END .......C=1, gamma=0.01, kernel=rbf;, score=0.715 total time=   0.1s\n",
            "[CV 2/5] END .......C=1, gamma=0.01, kernel=rbf;, score=0.718 total time=   0.1s\n",
            "[CV 3/5] END .......C=1, gamma=0.01, kernel=rbf;, score=0.648 total time=   0.1s\n",
            "[CV 4/5] END .......C=1, gamma=0.01, kernel=rbf;, score=0.715 total time=   0.1s\n",
            "[CV 5/5] END .......C=1, gamma=0.01, kernel=rbf;, score=0.715 total time=   0.1s\n",
            "[CV 1/5] END ....C=1, gamma=0.01, kernel=linear;, score=0.749 total time=   0.3s\n",
            "[CV 2/5] END ....C=1, gamma=0.01, kernel=linear;, score=0.739 total time=   0.3s\n",
            "[CV 3/5] END ....C=1, gamma=0.01, kernel=linear;, score=0.731 total time=   0.3s\n",
            "[CV 4/5] END ....C=1, gamma=0.01, kernel=linear;, score=0.736 total time=   0.3s\n",
            "[CV 5/5] END ....C=1, gamma=0.01, kernel=linear;, score=0.730 total time=   0.3s\n",
            "[CV 1/5] END ......C=1, gamma=0.001, kernel=rbf;, score=0.676 total time=   0.1s\n",
            "[CV 2/5] END ......C=1, gamma=0.001, kernel=rbf;, score=0.697 total time=   0.1s\n",
            "[CV 3/5] END ......C=1, gamma=0.001, kernel=rbf;, score=0.637 total time=   0.1s\n",
            "[CV 4/5] END ......C=1, gamma=0.001, kernel=rbf;, score=0.715 total time=   0.1s\n",
            "[CV 5/5] END ......C=1, gamma=0.001, kernel=rbf;, score=0.686 total time=   0.1s\n",
            "[CV 1/5] END ...C=1, gamma=0.001, kernel=linear;, score=0.749 total time=   0.3s\n",
            "[CV 2/5] END ...C=1, gamma=0.001, kernel=linear;, score=0.739 total time=   0.3s\n",
            "[CV 3/5] END ...C=1, gamma=0.001, kernel=linear;, score=0.731 total time=   0.3s\n",
            "[CV 4/5] END ...C=1, gamma=0.001, kernel=linear;, score=0.736 total time=   0.3s\n",
            "[CV 5/5] END ...C=1, gamma=0.001, kernel=linear;, score=0.730 total time=   0.4s\n",
            "[CV 1/5] END .....C=1, gamma=0.0001, kernel=rbf;, score=0.640 total time=   0.2s\n",
            "[CV 2/5] END .....C=1, gamma=0.0001, kernel=rbf;, score=0.645 total time=   0.2s\n",
            "[CV 3/5] END .....C=1, gamma=0.0001, kernel=rbf;, score=0.621 total time=   0.2s\n",
            "[CV 4/5] END .....C=1, gamma=0.0001, kernel=rbf;, score=0.678 total time=   0.2s\n",
            "[CV 5/5] END .....C=1, gamma=0.0001, kernel=rbf;, score=0.654 total time=   0.2s\n",
            "[CV 1/5] END ..C=1, gamma=0.0001, kernel=linear;, score=0.749 total time=   0.5s\n",
            "[CV 2/5] END ..C=1, gamma=0.0001, kernel=linear;, score=0.739 total time=   0.5s\n",
            "[CV 3/5] END ..C=1, gamma=0.0001, kernel=linear;, score=0.731 total time=   0.6s\n",
            "[CV 4/5] END ..C=1, gamma=0.0001, kernel=linear;, score=0.736 total time=   0.5s\n",
            "[CV 5/5] END ..C=1, gamma=0.0001, kernel=linear;, score=0.730 total time=   0.4s\n",
            "[CV 1/5] END .........C=10, gamma=1, kernel=rbf;, score=0.504 total time=   0.3s\n",
            "[CV 2/5] END .........C=10, gamma=1, kernel=rbf;, score=0.507 total time=   0.3s\n",
            "[CV 3/5] END .........C=10, gamma=1, kernel=rbf;, score=0.509 total time=   0.4s\n",
            "[CV 4/5] END .........C=10, gamma=1, kernel=rbf;, score=0.505 total time=   0.3s\n",
            "[CV 5/5] END .........C=10, gamma=1, kernel=rbf;, score=0.508 total time=   0.4s\n",
            "[CV 1/5] END ......C=10, gamma=1, kernel=linear;, score=0.744 total time=   2.9s\n",
            "[CV 2/5] END ......C=10, gamma=1, kernel=linear;, score=0.736 total time=   3.3s\n",
            "[CV 3/5] END ......C=10, gamma=1, kernel=linear;, score=0.742 total time=   5.4s\n",
            "[CV 4/5] END ......C=10, gamma=1, kernel=linear;, score=0.733 total time=   3.8s\n",
            "[CV 5/5] END ......C=10, gamma=1, kernel=linear;, score=0.725 total time=   4.2s\n",
            "[CV 1/5] END .......C=10, gamma=0.1, kernel=rbf;, score=0.687 total time=   0.2s\n",
            "[CV 2/5] END .......C=10, gamma=0.1, kernel=rbf;, score=0.689 total time=   0.2s\n",
            "[CV 3/5] END .......C=10, gamma=0.1, kernel=rbf;, score=0.689 total time=   0.2s\n",
            "[CV 4/5] END .......C=10, gamma=0.1, kernel=rbf;, score=0.657 total time=   0.2s\n",
            "[CV 5/5] END .......C=10, gamma=0.1, kernel=rbf;, score=0.683 total time=   0.2s\n",
            "[CV 1/5] END ....C=10, gamma=0.1, kernel=linear;, score=0.744 total time=   4.5s\n",
            "[CV 2/5] END ....C=10, gamma=0.1, kernel=linear;, score=0.736 total time=   3.3s\n",
            "[CV 3/5] END ....C=10, gamma=0.1, kernel=linear;, score=0.742 total time=   3.9s\n",
            "[CV 4/5] END ....C=10, gamma=0.1, kernel=linear;, score=0.733 total time=   4.8s\n",
            "[CV 5/5] END ....C=10, gamma=0.1, kernel=linear;, score=0.725 total time=   4.8s\n",
            "[CV 1/5] END ......C=10, gamma=0.01, kernel=rbf;, score=0.731 total time=   0.1s\n",
            "[CV 2/5] END ......C=10, gamma=0.01, kernel=rbf;, score=0.749 total time=   0.1s\n",
            "[CV 3/5] END ......C=10, gamma=0.01, kernel=rbf;, score=0.697 total time=   0.1s\n",
            "[CV 4/5] END ......C=10, gamma=0.01, kernel=rbf;, score=0.709 total time=   0.1s\n",
            "[CV 5/5] END ......C=10, gamma=0.01, kernel=rbf;, score=0.736 total time=   0.2s\n",
            "[CV 1/5] END ...C=10, gamma=0.01, kernel=linear;, score=0.744 total time=   2.9s\n",
            "[CV 2/5] END ...C=10, gamma=0.01, kernel=linear;, score=0.736 total time=   3.6s\n",
            "[CV 3/5] END ...C=10, gamma=0.01, kernel=linear;, score=0.742 total time=   5.1s\n",
            "[CV 4/5] END ...C=10, gamma=0.01, kernel=linear;, score=0.733 total time=   3.8s\n",
            "[CV 5/5] END ...C=10, gamma=0.01, kernel=linear;, score=0.725 total time=   4.4s\n",
            "[CV 1/5] END .....C=10, gamma=0.001, kernel=rbf;, score=0.718 total time=   0.2s\n",
            "[CV 2/5] END .....C=10, gamma=0.001, kernel=rbf;, score=0.726 total time=   0.2s\n",
            "[CV 3/5] END .....C=10, gamma=0.001, kernel=rbf;, score=0.663 total time=   0.2s\n",
            "[CV 4/5] END .....C=10, gamma=0.001, kernel=rbf;, score=0.725 total time=   0.2s\n",
            "[CV 5/5] END .....C=10, gamma=0.001, kernel=rbf;, score=0.709 total time=   0.2s\n",
            "[CV 1/5] END ..C=10, gamma=0.001, kernel=linear;, score=0.744 total time=   3.8s\n",
            "[CV 2/5] END ..C=10, gamma=0.001, kernel=linear;, score=0.736 total time=   5.0s\n",
            "[CV 3/5] END ..C=10, gamma=0.001, kernel=linear;, score=0.742 total time=   4.2s\n",
            "[CV 4/5] END ..C=10, gamma=0.001, kernel=linear;, score=0.733 total time=   5.0s\n",
            "[CV 5/5] END ..C=10, gamma=0.001, kernel=linear;, score=0.725 total time=   4.2s\n",
            "[CV 1/5] END ....C=10, gamma=0.0001, kernel=rbf;, score=0.661 total time=   0.1s\n",
            "[CV 2/5] END ....C=10, gamma=0.0001, kernel=rbf;, score=0.668 total time=   0.1s\n",
            "[CV 3/5] END ....C=10, gamma=0.0001, kernel=rbf;, score=0.621 total time=   0.1s\n",
            "[CV 4/5] END ....C=10, gamma=0.0001, kernel=rbf;, score=0.688 total time=   0.1s\n",
            "[CV 5/5] END ....C=10, gamma=0.0001, kernel=rbf;, score=0.688 total time=   0.1s\n",
            "[CV 1/5] END .C=10, gamma=0.0001, kernel=linear;, score=0.744 total time=   3.0s\n",
            "[CV 2/5] END .C=10, gamma=0.0001, kernel=linear;, score=0.736 total time=   4.8s\n",
            "[CV 3/5] END .C=10, gamma=0.0001, kernel=linear;, score=0.742 total time=   3.9s\n",
            "[CV 4/5] END .C=10, gamma=0.0001, kernel=linear;, score=0.733 total time=   3.8s\n",
            "[CV 5/5] END .C=10, gamma=0.0001, kernel=linear;, score=0.725 total time=   5.7s\n",
            "[CV 1/5] END ........C=100, gamma=1, kernel=rbf;, score=0.504 total time=   0.3s\n",
            "[CV 2/5] END ........C=100, gamma=1, kernel=rbf;, score=0.507 total time=   0.4s\n",
            "[CV 3/5] END ........C=100, gamma=1, kernel=rbf;, score=0.509 total time=   0.4s\n",
            "[CV 4/5] END ........C=100, gamma=1, kernel=rbf;, score=0.505 total time=   0.4s\n",
            "[CV 5/5] END ........C=100, gamma=1, kernel=rbf;, score=0.508 total time=   0.4s\n",
            "[CV 1/5] END .....C=100, gamma=1, kernel=linear;, score=0.744 total time=  23.0s\n",
            "[CV 2/5] END .....C=100, gamma=1, kernel=linear;, score=0.734 total time=  28.0s\n",
            "[CV 3/5] END .....C=100, gamma=1, kernel=linear;, score=0.747 total time=  43.0s\n",
            "[CV 4/5] END .....C=100, gamma=1, kernel=linear;, score=0.730 total time=  28.2s\n",
            "[CV 5/5] END .....C=100, gamma=1, kernel=linear;, score=0.728 total time=  26.8s\n",
            "[CV 1/5] END ......C=100, gamma=0.1, kernel=rbf;, score=0.679 total time=   0.2s\n",
            "[CV 2/5] END ......C=100, gamma=0.1, kernel=rbf;, score=0.687 total time=   0.2s\n",
            "[CV 3/5] END ......C=100, gamma=0.1, kernel=rbf;, score=0.689 total time=   0.2s\n",
            "[CV 4/5] END ......C=100, gamma=0.1, kernel=rbf;, score=0.654 total time=   0.2s\n",
            "[CV 5/5] END ......C=100, gamma=0.1, kernel=rbf;, score=0.681 total time=   0.2s\n",
            "[CV 1/5] END ...C=100, gamma=0.1, kernel=linear;, score=0.744 total time=  23.4s\n",
            "[CV 2/5] END ...C=100, gamma=0.1, kernel=linear;, score=0.734 total time=  27.5s\n",
            "[CV 3/5] END ...C=100, gamma=0.1, kernel=linear;, score=0.747 total time=  43.2s\n",
            "[CV 4/5] END ...C=100, gamma=0.1, kernel=linear;, score=0.730 total time=  28.3s\n",
            "[CV 5/5] END ...C=100, gamma=0.1, kernel=linear;, score=0.728 total time=  27.0s\n",
            "[CV 1/5] END .....C=100, gamma=0.01, kernel=rbf;, score=0.705 total time=   0.2s\n",
            "[CV 2/5] END .....C=100, gamma=0.01, kernel=rbf;, score=0.723 total time=   0.2s\n",
            "[CV 3/5] END .....C=100, gamma=0.01, kernel=rbf;, score=0.692 total time=   0.2s\n",
            "[CV 4/5] END .....C=100, gamma=0.01, kernel=rbf;, score=0.694 total time=   0.2s\n",
            "[CV 5/5] END .....C=100, gamma=0.01, kernel=rbf;, score=0.741 total time=   0.2s\n",
            "[CV 1/5] END ..C=100, gamma=0.01, kernel=linear;, score=0.744 total time=  23.3s\n",
            "[CV 2/5] END ..C=100, gamma=0.01, kernel=linear;, score=0.734 total time=  27.6s\n",
            "[CV 3/5] END ..C=100, gamma=0.01, kernel=linear;, score=0.747 total time=  43.4s\n",
            "[CV 4/5] END ..C=100, gamma=0.01, kernel=linear;, score=0.730 total time=  28.3s\n",
            "[CV 5/5] END ..C=100, gamma=0.01, kernel=linear;, score=0.728 total time=  26.9s\n",
            "[CV 1/5] END ....C=100, gamma=0.001, kernel=rbf;, score=0.742 total time=   0.1s\n",
            "[CV 2/5] END ....C=100, gamma=0.001, kernel=rbf;, score=0.747 total time=   0.1s\n",
            "[CV 3/5] END ....C=100, gamma=0.001, kernel=rbf;, score=0.702 total time=   0.2s\n",
            "[CV 4/5] END ....C=100, gamma=0.001, kernel=rbf;, score=0.741 total time=   0.1s\n",
            "[CV 5/5] END ....C=100, gamma=0.001, kernel=rbf;, score=0.738 total time=   0.1s\n",
            "[CV 1/5] END .C=100, gamma=0.001, kernel=linear;, score=0.744 total time=  25.0s\n",
            "[CV 2/5] END .C=100, gamma=0.001, kernel=linear;, score=0.734 total time=  28.4s\n",
            "[CV 3/5] END .C=100, gamma=0.001, kernel=linear;, score=0.747 total time=  43.2s\n",
            "[CV 4/5] END .C=100, gamma=0.001, kernel=linear;, score=0.730 total time=  28.2s\n",
            "[CV 5/5] END .C=100, gamma=0.001, kernel=linear;, score=0.728 total time=  26.9s\n",
            "[CV 1/5] END ...C=100, gamma=0.0001, kernel=rbf;, score=0.715 total time=   0.1s\n",
            "[CV 2/5] END ...C=100, gamma=0.0001, kernel=rbf;, score=0.723 total time=   0.1s\n",
            "[CV 3/5] END ...C=100, gamma=0.0001, kernel=rbf;, score=0.674 total time=   0.2s\n",
            "[CV 4/5] END ...C=100, gamma=0.0001, kernel=rbf;, score=0.730 total time=   0.2s\n",
            "[CV 5/5] END ...C=100, gamma=0.0001, kernel=rbf;, score=0.712 total time=   0.2s\n",
            "[CV 1/5] END C=100, gamma=0.0001, kernel=linear;, score=0.744 total time=  23.1s\n",
            "[CV 2/5] END C=100, gamma=0.0001, kernel=linear;, score=0.734 total time=  27.8s\n",
            "[CV 3/5] END C=100, gamma=0.0001, kernel=linear;, score=0.747 total time=  42.9s\n",
            "[CV 4/5] END C=100, gamma=0.0001, kernel=linear;, score=0.730 total time=  28.6s\n",
            "[CV 5/5] END C=100, gamma=0.0001, kernel=linear;, score=0.728 total time=  27.3s\n"
          ]
        },
        {
          "output_type": "execute_result",
          "data": {
            "text/plain": [
              "0.7390396659707724"
            ]
          },
          "metadata": {},
          "execution_count": 25
        }
      ]
    },
    {
      "cell_type": "code",
      "source": [
        "# print best parameter after tuning\n",
        "print(grid.best_params_)\n",
        "\n",
        "# print how our model looks after hyper-parameter tuning\n",
        "print(grid.best_estimator_)"
      ],
      "metadata": {
        "id": "9Eq7A3P-0x-u"
      },
      "execution_count": null,
      "outputs": []
    },
    {
      "cell_type": "code",
      "source": [
        "clf_svm = SVC(kernel='linear',C=1, gamma=1,random_state=42)\n",
        "clf_svm.fit(X_train, y_train)"
      ],
      "metadata": {
        "colab": {
          "base_uri": "https://localhost:8080/",
          "height": 74
        },
        "id": "LshJ352M06ic",
        "outputId": "75ef680c-cc37-4b32-cba1-40c146de9f46"
      },
      "execution_count": null,
      "outputs": [
        {
          "output_type": "execute_result",
          "data": {
            "text/plain": [
              "SVC(C=1, gamma=1, kernel='linear', random_state=42)"
            ],
            "text/html": [
              "<style>#sk-container-id-8 {color: black;}#sk-container-id-8 pre{padding: 0;}#sk-container-id-8 div.sk-toggleable {background-color: white;}#sk-container-id-8 label.sk-toggleable__label {cursor: pointer;display: block;width: 100%;margin-bottom: 0;padding: 0.3em;box-sizing: border-box;text-align: center;}#sk-container-id-8 label.sk-toggleable__label-arrow:before {content: \"▸\";float: left;margin-right: 0.25em;color: #696969;}#sk-container-id-8 label.sk-toggleable__label-arrow:hover:before {color: black;}#sk-container-id-8 div.sk-estimator:hover label.sk-toggleable__label-arrow:before {color: black;}#sk-container-id-8 div.sk-toggleable__content {max-height: 0;max-width: 0;overflow: hidden;text-align: left;background-color: #f0f8ff;}#sk-container-id-8 div.sk-toggleable__content pre {margin: 0.2em;color: black;border-radius: 0.25em;background-color: #f0f8ff;}#sk-container-id-8 input.sk-toggleable__control:checked~div.sk-toggleable__content {max-height: 200px;max-width: 100%;overflow: auto;}#sk-container-id-8 input.sk-toggleable__control:checked~label.sk-toggleable__label-arrow:before {content: \"▾\";}#sk-container-id-8 div.sk-estimator input.sk-toggleable__control:checked~label.sk-toggleable__label {background-color: #d4ebff;}#sk-container-id-8 div.sk-label input.sk-toggleable__control:checked~label.sk-toggleable__label {background-color: #d4ebff;}#sk-container-id-8 input.sk-hidden--visually {border: 0;clip: rect(1px 1px 1px 1px);clip: rect(1px, 1px, 1px, 1px);height: 1px;margin: -1px;overflow: hidden;padding: 0;position: absolute;width: 1px;}#sk-container-id-8 div.sk-estimator {font-family: monospace;background-color: #f0f8ff;border: 1px dotted black;border-radius: 0.25em;box-sizing: border-box;margin-bottom: 0.5em;}#sk-container-id-8 div.sk-estimator:hover {background-color: #d4ebff;}#sk-container-id-8 div.sk-parallel-item::after {content: \"\";width: 100%;border-bottom: 1px solid gray;flex-grow: 1;}#sk-container-id-8 div.sk-label:hover label.sk-toggleable__label {background-color: #d4ebff;}#sk-container-id-8 div.sk-serial::before {content: \"\";position: absolute;border-left: 1px solid gray;box-sizing: border-box;top: 0;bottom: 0;left: 50%;z-index: 0;}#sk-container-id-8 div.sk-serial {display: flex;flex-direction: column;align-items: center;background-color: white;padding-right: 0.2em;padding-left: 0.2em;position: relative;}#sk-container-id-8 div.sk-item {position: relative;z-index: 1;}#sk-container-id-8 div.sk-parallel {display: flex;align-items: stretch;justify-content: center;background-color: white;position: relative;}#sk-container-id-8 div.sk-item::before, #sk-container-id-8 div.sk-parallel-item::before {content: \"\";position: absolute;border-left: 1px solid gray;box-sizing: border-box;top: 0;bottom: 0;left: 50%;z-index: -1;}#sk-container-id-8 div.sk-parallel-item {display: flex;flex-direction: column;z-index: 1;position: relative;background-color: white;}#sk-container-id-8 div.sk-parallel-item:first-child::after {align-self: flex-end;width: 50%;}#sk-container-id-8 div.sk-parallel-item:last-child::after {align-self: flex-start;width: 50%;}#sk-container-id-8 div.sk-parallel-item:only-child::after {width: 0;}#sk-container-id-8 div.sk-dashed-wrapped {border: 1px dashed gray;margin: 0 0.4em 0.5em 0.4em;box-sizing: border-box;padding-bottom: 0.4em;background-color: white;}#sk-container-id-8 div.sk-label label {font-family: monospace;font-weight: bold;display: inline-block;line-height: 1.2em;}#sk-container-id-8 div.sk-label-container {text-align: center;}#sk-container-id-8 div.sk-container {/* jupyter's `normalize.less` sets `[hidden] { display: none; }` but bootstrap.min.css set `[hidden] { display: none !important; }` so we also need the `!important` here to be able to override the default hidden behavior on the sphinx rendered scikit-learn.org. See: https://github.com/scikit-learn/scikit-learn/issues/21755 */display: inline-block !important;position: relative;}#sk-container-id-8 div.sk-text-repr-fallback {display: none;}</style><div id=\"sk-container-id-8\" class=\"sk-top-container\"><div class=\"sk-text-repr-fallback\"><pre>SVC(C=1, gamma=1, kernel=&#x27;linear&#x27;, random_state=42)</pre><b>In a Jupyter environment, please rerun this cell to show the HTML representation or trust the notebook. <br />On GitHub, the HTML representation is unable to render, please try loading this page with nbviewer.org.</b></div><div class=\"sk-container\" hidden><div class=\"sk-item\"><div class=\"sk-estimator sk-toggleable\"><input class=\"sk-toggleable__control sk-hidden--visually\" id=\"sk-estimator-id-16\" type=\"checkbox\" checked><label for=\"sk-estimator-id-16\" class=\"sk-toggleable__label sk-toggleable__label-arrow\">SVC</label><div class=\"sk-toggleable__content\"><pre>SVC(C=1, gamma=1, kernel=&#x27;linear&#x27;, random_state=42)</pre></div></div></div></div></div>"
            ]
          },
          "metadata": {},
          "execution_count": 121
        }
      ]
    },
    {
      "cell_type": "code",
      "source": [
        "print(f\"Train mean accuracy: {clf_svm.score(X_train, y_train):.4f}\")\n",
        "print(f\"Test mean accuracy: {clf_svm.score(X_test, y_test):.4f}\")"
      ],
      "metadata": {
        "colab": {
          "base_uri": "https://localhost:8080/"
        },
        "id": "wzTQ1qKWWURi",
        "outputId": "b75cef36-2b72-4ece-ae55-6fccb423d24e"
      },
      "execution_count": null,
      "outputs": [
        {
          "output_type": "stream",
          "name": "stdout",
          "text": [
            "Train mean accuracy: 0.7627\n",
            "Test mean accuracy: 0.7390\n"
          ]
        }
      ]
    },
    {
      "cell_type": "code",
      "execution_count": null,
      "metadata": {
        "id": "wii1fCoFW18Z"
      },
      "outputs": [],
      "source": [
        "# toma 6 minutos en correr\n",
        "clf_svm = SVC(kernel='poly',gamma=1,degree=2,C=1)\n",
        "clf_svm.fit(X_train, y_train)\n",
        "\n",
        "print(f\"Accuracy promedio de entrenamiento: {round(clf_svm.score(X_train, y_train),3)}\")\n",
        "print(f\"Accuracy promedio de prueba: {round(clf_svm.score(X_test, y_test),3)}\")"
      ]
    },
    {
      "cell_type": "markdown",
      "source": [
        "Correr el modelo SVM para los mejores parametros encontrados anteriormente utilizando las SelectKBest=14"
      ],
      "metadata": {
        "id": "rS_BKT4TbDmq"
      }
    },
    {
      "cell_type": "code",
      "source": [
        "# defining parameter range: toma 15-20 min en correr\n",
        "param_grid = {'C': [0.1, 1, 10, 100],\n",
        "              'gamma': [1, 0.1, 0.01, 0.001, 0.0001],\n",
        "              'kernel': ['rbf', 'linear']}\n",
        "\n",
        "grid = GridSearchCV(SVC(), param_grid, refit = True, verbose = 3, scoring='accuracy')\n",
        "\n",
        "# fitting the model for grid search\n",
        "grid.fit(X_train_selected, y_train)\n",
        "grid.score(X_test_selected,y_test)"
      ],
      "metadata": {
        "colab": {
          "base_uri": "https://localhost:8080/"
        },
        "id": "ssrqAR0Abs0s",
        "outputId": "d031fa1c-12fc-4ed1-98ab-6b9e9563d0f1"
      },
      "execution_count": null,
      "outputs": [
        {
          "output_type": "stream",
          "name": "stdout",
          "text": [
            "Fitting 5 folds for each of 40 candidates, totalling 200 fits\n",
            "[CV 1/5] END ........C=0.1, gamma=1, kernel=rbf;, score=0.504 total time=   0.8s\n",
            "[CV 2/5] END ........C=0.1, gamma=1, kernel=rbf;, score=0.507 total time=   0.5s\n",
            "[CV 3/5] END ........C=0.1, gamma=1, kernel=rbf;, score=0.507 total time=   0.7s\n",
            "[CV 4/5] END ........C=0.1, gamma=1, kernel=rbf;, score=0.508 total time=   1.0s\n",
            "[CV 5/5] END ........C=0.1, gamma=1, kernel=rbf;, score=0.505 total time=   1.3s\n",
            "[CV 1/5] END .....C=0.1, gamma=1, kernel=linear;, score=0.736 total time=   0.3s\n",
            "[CV 2/5] END .....C=0.1, gamma=1, kernel=linear;, score=0.749 total time=   0.2s\n",
            "[CV 3/5] END .....C=0.1, gamma=1, kernel=linear;, score=0.715 total time=   0.2s\n",
            "[CV 4/5] END .....C=0.1, gamma=1, kernel=linear;, score=0.738 total time=   0.3s\n",
            "[CV 5/5] END .....C=0.1, gamma=1, kernel=linear;, score=0.728 total time=   0.3s\n",
            "[CV 1/5] END ......C=0.1, gamma=0.1, kernel=rbf;, score=0.663 total time=   0.4s\n",
            "[CV 2/5] END ......C=0.1, gamma=0.1, kernel=rbf;, score=0.679 total time=   0.5s\n",
            "[CV 3/5] END ......C=0.1, gamma=0.1, kernel=rbf;, score=0.637 total time=   0.3s\n",
            "[CV 4/5] END ......C=0.1, gamma=0.1, kernel=rbf;, score=0.681 total time=   0.3s\n",
            "[CV 5/5] END ......C=0.1, gamma=0.1, kernel=rbf;, score=0.673 total time=   0.3s\n",
            "[CV 1/5] END ...C=0.1, gamma=0.1, kernel=linear;, score=0.736 total time=   0.2s\n",
            "[CV 2/5] END ...C=0.1, gamma=0.1, kernel=linear;, score=0.749 total time=   0.2s\n",
            "[CV 3/5] END ...C=0.1, gamma=0.1, kernel=linear;, score=0.715 total time=   0.2s\n",
            "[CV 4/5] END ...C=0.1, gamma=0.1, kernel=linear;, score=0.738 total time=   0.2s\n",
            "[CV 5/5] END ...C=0.1, gamma=0.1, kernel=linear;, score=0.728 total time=   0.2s\n",
            "[CV 1/5] END .....C=0.1, gamma=0.01, kernel=rbf;, score=0.684 total time=   0.2s\n",
            "[CV 2/5] END .....C=0.1, gamma=0.01, kernel=rbf;, score=0.702 total time=   0.2s\n",
            "[CV 3/5] END .....C=0.1, gamma=0.01, kernel=rbf;, score=0.634 total time=   0.2s\n",
            "[CV 4/5] END .....C=0.1, gamma=0.01, kernel=rbf;, score=0.688 total time=   0.2s\n",
            "[CV 5/5] END .....C=0.1, gamma=0.01, kernel=rbf;, score=0.694 total time=   0.2s\n",
            "[CV 1/5] END ..C=0.1, gamma=0.01, kernel=linear;, score=0.736 total time=   0.2s\n",
            "[CV 2/5] END ..C=0.1, gamma=0.01, kernel=linear;, score=0.749 total time=   0.2s\n",
            "[CV 3/5] END ..C=0.1, gamma=0.01, kernel=linear;, score=0.715 total time=   0.2s\n",
            "[CV 4/5] END ..C=0.1, gamma=0.01, kernel=linear;, score=0.738 total time=   0.2s\n",
            "[CV 5/5] END ..C=0.1, gamma=0.01, kernel=linear;, score=0.728 total time=   0.2s\n",
            "[CV 1/5] END ....C=0.1, gamma=0.001, kernel=rbf;, score=0.645 total time=   0.2s\n",
            "[CV 2/5] END ....C=0.1, gamma=0.001, kernel=rbf;, score=0.642 total time=   0.2s\n",
            "[CV 3/5] END ....C=0.1, gamma=0.001, kernel=rbf;, score=0.621 total time=   0.2s\n",
            "[CV 4/5] END ....C=0.1, gamma=0.001, kernel=rbf;, score=0.675 total time=   0.2s\n",
            "[CV 5/5] END ....C=0.1, gamma=0.001, kernel=rbf;, score=0.652 total time=   0.2s\n",
            "[CV 1/5] END .C=0.1, gamma=0.001, kernel=linear;, score=0.736 total time=   0.2s\n",
            "[CV 2/5] END .C=0.1, gamma=0.001, kernel=linear;, score=0.749 total time=   0.2s\n",
            "[CV 3/5] END .C=0.1, gamma=0.001, kernel=linear;, score=0.715 total time=   0.2s\n",
            "[CV 4/5] END .C=0.1, gamma=0.001, kernel=linear;, score=0.738 total time=   0.2s\n",
            "[CV 5/5] END .C=0.1, gamma=0.001, kernel=linear;, score=0.728 total time=   0.5s\n",
            "[CV 1/5] END ...C=0.1, gamma=0.0001, kernel=rbf;, score=0.504 total time=   0.6s\n",
            "[CV 2/5] END ...C=0.1, gamma=0.0001, kernel=rbf;, score=0.507 total time=   0.3s\n",
            "[CV 3/5] END ...C=0.1, gamma=0.0001, kernel=rbf;, score=0.507 total time=   0.3s\n",
            "[CV 4/5] END ...C=0.1, gamma=0.0001, kernel=rbf;, score=0.508 total time=   0.3s\n",
            "[CV 5/5] END ...C=0.1, gamma=0.0001, kernel=rbf;, score=0.505 total time=   0.3s\n",
            "[CV 1/5] END C=0.1, gamma=0.0001, kernel=linear;, score=0.736 total time=   0.2s\n",
            "[CV 2/5] END C=0.1, gamma=0.0001, kernel=linear;, score=0.749 total time=   0.2s\n",
            "[CV 3/5] END C=0.1, gamma=0.0001, kernel=linear;, score=0.715 total time=   0.2s\n",
            "[CV 4/5] END C=0.1, gamma=0.0001, kernel=linear;, score=0.738 total time=   0.2s\n",
            "[CV 5/5] END C=0.1, gamma=0.0001, kernel=linear;, score=0.728 total time=   0.2s\n",
            "[CV 1/5] END ..........C=1, gamma=1, kernel=rbf;, score=0.533 total time=   0.5s\n",
            "[CV 2/5] END ..........C=1, gamma=1, kernel=rbf;, score=0.538 total time=   0.5s\n",
            "[CV 3/5] END ..........C=1, gamma=1, kernel=rbf;, score=0.538 total time=   0.8s\n",
            "[CV 4/5] END ..........C=1, gamma=1, kernel=rbf;, score=0.524 total time=   1.0s\n",
            "[CV 5/5] END ..........C=1, gamma=1, kernel=rbf;, score=0.524 total time=   0.8s\n",
            "[CV 1/5] END .......C=1, gamma=1, kernel=linear;, score=0.747 total time=   0.7s\n",
            "[CV 2/5] END .......C=1, gamma=1, kernel=linear;, score=0.752 total time=   0.9s\n",
            "[CV 3/5] END .......C=1, gamma=1, kernel=linear;, score=0.755 total time=   0.4s\n",
            "[CV 4/5] END .......C=1, gamma=1, kernel=linear;, score=0.723 total time=   0.5s\n",
            "[CV 5/5] END .......C=1, gamma=1, kernel=linear;, score=0.730 total time=   0.4s\n",
            "[CV 1/5] END ........C=1, gamma=0.1, kernel=rbf;, score=0.734 total time=   0.3s\n",
            "[CV 2/5] END ........C=1, gamma=0.1, kernel=rbf;, score=0.734 total time=   0.3s\n",
            "[CV 3/5] END ........C=1, gamma=0.1, kernel=rbf;, score=0.676 total time=   0.3s\n",
            "[CV 4/5] END ........C=1, gamma=0.1, kernel=rbf;, score=0.688 total time=   0.3s\n",
            "[CV 5/5] END ........C=1, gamma=0.1, kernel=rbf;, score=0.699 total time=   0.4s\n",
            "[CV 1/5] END .....C=1, gamma=0.1, kernel=linear;, score=0.747 total time=   0.6s\n",
            "[CV 2/5] END .....C=1, gamma=0.1, kernel=linear;, score=0.752 total time=   0.6s\n",
            "[CV 3/5] END .....C=1, gamma=0.1, kernel=linear;, score=0.755 total time=   0.6s\n",
            "[CV 4/5] END .....C=1, gamma=0.1, kernel=linear;, score=0.723 total time=   0.7s\n",
            "[CV 5/5] END .....C=1, gamma=0.1, kernel=linear;, score=0.730 total time=   0.7s\n",
            "[CV 1/5] END .......C=1, gamma=0.01, kernel=rbf;, score=0.721 total time=   0.2s\n",
            "[CV 2/5] END .......C=1, gamma=0.01, kernel=rbf;, score=0.718 total time=   0.2s\n",
            "[CV 3/5] END .......C=1, gamma=0.01, kernel=rbf;, score=0.661 total time=   0.2s\n",
            "[CV 4/5] END .......C=1, gamma=0.01, kernel=rbf;, score=0.712 total time=   0.3s\n",
            "[CV 5/5] END .......C=1, gamma=0.01, kernel=rbf;, score=0.696 total time=   0.2s\n",
            "[CV 1/5] END ....C=1, gamma=0.01, kernel=linear;, score=0.747 total time=   0.4s\n",
            "[CV 2/5] END ....C=1, gamma=0.01, kernel=linear;, score=0.752 total time=   0.5s\n",
            "[CV 3/5] END ....C=1, gamma=0.01, kernel=linear;, score=0.755 total time=   0.4s\n",
            "[CV 4/5] END ....C=1, gamma=0.01, kernel=linear;, score=0.723 total time=   0.5s\n",
            "[CV 5/5] END ....C=1, gamma=0.01, kernel=linear;, score=0.730 total time=   0.5s\n",
            "[CV 1/5] END ......C=1, gamma=0.001, kernel=rbf;, score=0.676 total time=   0.3s\n",
            "[CV 2/5] END ......C=1, gamma=0.001, kernel=rbf;, score=0.692 total time=   0.2s\n",
            "[CV 3/5] END ......C=1, gamma=0.001, kernel=rbf;, score=0.642 total time=   0.3s\n",
            "[CV 4/5] END ......C=1, gamma=0.001, kernel=rbf;, score=0.704 total time=   0.2s\n",
            "[CV 5/5] END ......C=1, gamma=0.001, kernel=rbf;, score=0.681 total time=   0.4s\n",
            "[CV 1/5] END ...C=1, gamma=0.001, kernel=linear;, score=0.747 total time=   1.0s\n",
            "[CV 2/5] END ...C=1, gamma=0.001, kernel=linear;, score=0.752 total time=   0.8s\n",
            "[CV 3/5] END ...C=1, gamma=0.001, kernel=linear;, score=0.755 total time=   1.0s\n",
            "[CV 4/5] END ...C=1, gamma=0.001, kernel=linear;, score=0.723 total time=   0.9s\n",
            "[CV 5/5] END ...C=1, gamma=0.001, kernel=linear;, score=0.730 total time=   0.6s\n",
            "[CV 1/5] END .....C=1, gamma=0.0001, kernel=rbf;, score=0.645 total time=   0.2s\n",
            "[CV 2/5] END .....C=1, gamma=0.0001, kernel=rbf;, score=0.648 total time=   0.2s\n",
            "[CV 3/5] END .....C=1, gamma=0.0001, kernel=rbf;, score=0.619 total time=   0.2s\n",
            "[CV 4/5] END .....C=1, gamma=0.0001, kernel=rbf;, score=0.675 total time=   0.2s\n",
            "[CV 5/5] END .....C=1, gamma=0.0001, kernel=rbf;, score=0.654 total time=   0.2s\n",
            "[CV 1/5] END ..C=1, gamma=0.0001, kernel=linear;, score=0.747 total time=   0.5s\n",
            "[CV 2/5] END ..C=1, gamma=0.0001, kernel=linear;, score=0.752 total time=   0.4s\n",
            "[CV 3/5] END ..C=1, gamma=0.0001, kernel=linear;, score=0.755 total time=   0.4s\n",
            "[CV 4/5] END ..C=1, gamma=0.0001, kernel=linear;, score=0.723 total time=   0.5s\n",
            "[CV 5/5] END ..C=1, gamma=0.0001, kernel=linear;, score=0.730 total time=   0.8s\n",
            "[CV 1/5] END .........C=10, gamma=1, kernel=rbf;, score=0.561 total time=   0.7s\n",
            "[CV 2/5] END .........C=10, gamma=1, kernel=rbf;, score=0.548 total time=   0.3s\n",
            "[CV 3/5] END .........C=10, gamma=1, kernel=rbf;, score=0.556 total time=   0.3s\n",
            "[CV 4/5] END .........C=10, gamma=1, kernel=rbf;, score=0.545 total time=   0.3s\n",
            "[CV 5/5] END .........C=10, gamma=1, kernel=rbf;, score=0.534 total time=   0.3s\n",
            "[CV 1/5] END ......C=10, gamma=1, kernel=linear;, score=0.752 total time=   2.1s\n",
            "[CV 2/5] END ......C=10, gamma=1, kernel=linear;, score=0.757 total time=   4.0s\n",
            "[CV 3/5] END ......C=10, gamma=1, kernel=linear;, score=0.744 total time=   2.7s\n",
            "[CV 4/5] END ......C=10, gamma=1, kernel=linear;, score=0.717 total time=   2.6s\n",
            "[CV 5/5] END ......C=10, gamma=1, kernel=linear;, score=0.730 total time=   4.7s\n",
            "[CV 1/5] END .......C=10, gamma=0.1, kernel=rbf;, score=0.702 total time=   0.2s\n",
            "[CV 2/5] END .......C=10, gamma=0.1, kernel=rbf;, score=0.700 total time=   0.2s\n",
            "[CV 3/5] END .......C=10, gamma=0.1, kernel=rbf;, score=0.684 total time=   0.2s\n",
            "[CV 4/5] END .......C=10, gamma=0.1, kernel=rbf;, score=0.675 total time=   0.3s\n",
            "[CV 5/5] END .......C=10, gamma=0.1, kernel=rbf;, score=0.702 total time=   0.3s\n",
            "[CV 1/5] END ....C=10, gamma=0.1, kernel=linear;, score=0.752 total time=   3.5s\n",
            "[CV 2/5] END ....C=10, gamma=0.1, kernel=linear;, score=0.757 total time=   2.8s\n",
            "[CV 3/5] END ....C=10, gamma=0.1, kernel=linear;, score=0.744 total time=   2.5s\n",
            "[CV 4/5] END ....C=10, gamma=0.1, kernel=linear;, score=0.717 total time=   2.6s\n",
            "[CV 5/5] END ....C=10, gamma=0.1, kernel=linear;, score=0.730 total time=   6.2s\n",
            "[CV 1/5] END ......C=10, gamma=0.01, kernel=rbf;, score=0.747 total time=   0.1s\n",
            "[CV 2/5] END ......C=10, gamma=0.01, kernel=rbf;, score=0.757 total time=   0.1s\n",
            "[CV 3/5] END ......C=10, gamma=0.01, kernel=rbf;, score=0.715 total time=   0.1s\n",
            "[CV 4/5] END ......C=10, gamma=0.01, kernel=rbf;, score=0.715 total time=   0.1s\n",
            "[CV 5/5] END ......C=10, gamma=0.01, kernel=rbf;, score=0.733 total time=   0.1s\n",
            "[CV 1/5] END ...C=10, gamma=0.01, kernel=linear;, score=0.752 total time=   2.1s\n",
            "[CV 2/5] END ...C=10, gamma=0.01, kernel=linear;, score=0.757 total time=   2.8s\n",
            "[CV 3/5] END ...C=10, gamma=0.01, kernel=linear;, score=0.744 total time=   2.5s\n",
            "[CV 4/5] END ...C=10, gamma=0.01, kernel=linear;, score=0.717 total time=   4.0s\n",
            "[CV 5/5] END ...C=10, gamma=0.01, kernel=linear;, score=0.730 total time=   5.4s\n",
            "[CV 1/5] END .....C=10, gamma=0.001, kernel=rbf;, score=0.728 total time=   0.1s\n",
            "[CV 2/5] END .....C=10, gamma=0.001, kernel=rbf;, score=0.726 total time=   0.1s\n",
            "[CV 3/5] END .....C=10, gamma=0.001, kernel=rbf;, score=0.671 total time=   0.1s\n",
            "[CV 4/5] END .....C=10, gamma=0.001, kernel=rbf;, score=0.723 total time=   0.1s\n",
            "[CV 5/5] END .....C=10, gamma=0.001, kernel=rbf;, score=0.694 total time=   0.1s\n",
            "[CV 1/5] END ..C=10, gamma=0.001, kernel=linear;, score=0.752 total time=   2.1s\n",
            "[CV 2/5] END ..C=10, gamma=0.001, kernel=linear;, score=0.757 total time=   2.8s\n",
            "[CV 3/5] END ..C=10, gamma=0.001, kernel=linear;, score=0.744 total time=   4.1s\n",
            "[CV 4/5] END ..C=10, gamma=0.001, kernel=linear;, score=0.717 total time=   2.6s\n",
            "[CV 5/5] END ..C=10, gamma=0.001, kernel=linear;, score=0.730 total time=   4.6s\n",
            "[CV 1/5] END ....C=10, gamma=0.0001, kernel=rbf;, score=0.666 total time=   0.1s\n",
            "[CV 2/5] END ....C=10, gamma=0.0001, kernel=rbf;, score=0.679 total time=   0.1s\n",
            "[CV 3/5] END ....C=10, gamma=0.0001, kernel=rbf;, score=0.627 total time=   0.1s\n",
            "[CV 4/5] END ....C=10, gamma=0.0001, kernel=rbf;, score=0.688 total time=   0.1s\n",
            "[CV 5/5] END ....C=10, gamma=0.0001, kernel=rbf;, score=0.691 total time=   0.1s\n",
            "[CV 1/5] END .C=10, gamma=0.0001, kernel=linear;, score=0.752 total time=   2.1s\n",
            "[CV 2/5] END .C=10, gamma=0.0001, kernel=linear;, score=0.757 total time=   4.4s\n",
            "[CV 3/5] END .C=10, gamma=0.0001, kernel=linear;, score=0.744 total time=   2.7s\n",
            "[CV 4/5] END .C=10, gamma=0.0001, kernel=linear;, score=0.717 total time=   2.6s\n",
            "[CV 5/5] END .C=10, gamma=0.0001, kernel=linear;, score=0.730 total time=   5.2s\n",
            "[CV 1/5] END ........C=100, gamma=1, kernel=rbf;, score=0.561 total time=   0.5s\n",
            "[CV 2/5] END ........C=100, gamma=1, kernel=rbf;, score=0.548 total time=   0.5s\n",
            "[CV 3/5] END ........C=100, gamma=1, kernel=rbf;, score=0.561 total time=   0.5s\n",
            "[CV 4/5] END ........C=100, gamma=1, kernel=rbf;, score=0.547 total time=   0.5s\n",
            "[CV 5/5] END ........C=100, gamma=1, kernel=rbf;, score=0.534 total time=   0.4s\n",
            "[CV 1/5] END .....C=100, gamma=1, kernel=linear;, score=0.747 total time=  24.3s\n",
            "[CV 2/5] END .....C=100, gamma=1, kernel=linear;, score=0.757 total time=  19.7s\n",
            "[CV 3/5] END .....C=100, gamma=1, kernel=linear;, score=0.742 total time=  24.2s\n",
            "[CV 4/5] END .....C=100, gamma=1, kernel=linear;, score=0.715 total time=  19.9s\n",
            "[CV 5/5] END .....C=100, gamma=1, kernel=linear;, score=0.725 total time=  32.4s\n",
            "[CV 1/5] END ......C=100, gamma=0.1, kernel=rbf;, score=0.666 total time=   0.3s\n",
            "[CV 2/5] END ......C=100, gamma=0.1, kernel=rbf;, score=0.676 total time=   0.3s\n",
            "[CV 3/5] END ......C=100, gamma=0.1, kernel=rbf;, score=0.674 total time=   0.3s\n",
            "[CV 4/5] END ......C=100, gamma=0.1, kernel=rbf;, score=0.647 total time=   0.3s\n",
            "[CV 5/5] END ......C=100, gamma=0.1, kernel=rbf;, score=0.644 total time=   0.3s\n",
            "[CV 1/5] END ...C=100, gamma=0.1, kernel=linear;, score=0.747 total time=  24.3s\n",
            "[CV 2/5] END ...C=100, gamma=0.1, kernel=linear;, score=0.757 total time=  19.8s\n",
            "[CV 3/5] END ...C=100, gamma=0.1, kernel=linear;, score=0.742 total time=  22.1s\n",
            "[CV 4/5] END ...C=100, gamma=0.1, kernel=linear;, score=0.715 total time=  20.5s\n",
            "[CV 5/5] END ...C=100, gamma=0.1, kernel=linear;, score=0.725 total time=  31.7s\n",
            "[CV 1/5] END .....C=100, gamma=0.01, kernel=rbf;, score=0.744 total time=   0.2s\n",
            "[CV 2/5] END .....C=100, gamma=0.01, kernel=rbf;, score=0.734 total time=   0.2s\n",
            "[CV 3/5] END .....C=100, gamma=0.01, kernel=rbf;, score=0.734 total time=   0.2s\n",
            "[CV 4/5] END .....C=100, gamma=0.01, kernel=rbf;, score=0.691 total time=   0.2s\n",
            "[CV 5/5] END .....C=100, gamma=0.01, kernel=rbf;, score=0.736 total time=   0.2s\n",
            "[CV 1/5] END ..C=100, gamma=0.01, kernel=linear;, score=0.747 total time=  24.9s\n",
            "[CV 2/5] END ..C=100, gamma=0.01, kernel=linear;, score=0.757 total time=  18.2s\n",
            "[CV 3/5] END ..C=100, gamma=0.01, kernel=linear;, score=0.742 total time=  23.7s\n",
            "[CV 4/5] END ..C=100, gamma=0.01, kernel=linear;, score=0.715 total time=  20.3s\n",
            "[CV 5/5] END ..C=100, gamma=0.01, kernel=linear;, score=0.725 total time=  32.2s\n",
            "[CV 1/5] END ....C=100, gamma=0.001, kernel=rbf;, score=0.752 total time=   0.1s\n",
            "[CV 2/5] END ....C=100, gamma=0.001, kernel=rbf;, score=0.762 total time=   0.1s\n",
            "[CV 3/5] END ....C=100, gamma=0.001, kernel=rbf;, score=0.721 total time=   0.1s\n",
            "[CV 4/5] END ....C=100, gamma=0.001, kernel=rbf;, score=0.749 total time=   0.1s\n",
            "[CV 5/5] END ....C=100, gamma=0.001, kernel=rbf;, score=0.730 total time=   0.1s\n",
            "[CV 1/5] END .C=100, gamma=0.001, kernel=linear;, score=0.747 total time=  25.0s\n",
            "[CV 2/5] END .C=100, gamma=0.001, kernel=linear;, score=0.757 total time=  18.3s\n",
            "[CV 3/5] END .C=100, gamma=0.001, kernel=linear;, score=0.742 total time=  23.7s\n",
            "[CV 4/5] END .C=100, gamma=0.001, kernel=linear;, score=0.715 total time=  18.9s\n",
            "[CV 5/5] END .C=100, gamma=0.001, kernel=linear;, score=0.725 total time=  33.4s\n",
            "[CV 1/5] END ...C=100, gamma=0.0001, kernel=rbf;, score=0.723 total time=   0.1s\n",
            "[CV 2/5] END ...C=100, gamma=0.0001, kernel=rbf;, score=0.744 total time=   0.1s\n",
            "[CV 3/5] END ...C=100, gamma=0.0001, kernel=rbf;, score=0.676 total time=   0.1s\n",
            "[CV 4/5] END ...C=100, gamma=0.0001, kernel=rbf;, score=0.717 total time=   0.1s\n",
            "[CV 5/5] END ...C=100, gamma=0.0001, kernel=rbf;, score=0.707 total time=   0.1s\n",
            "[CV 1/5] END C=100, gamma=0.0001, kernel=linear;, score=0.747 total time=  23.9s\n",
            "[CV 2/5] END C=100, gamma=0.0001, kernel=linear;, score=0.757 total time=  19.3s\n",
            "[CV 3/5] END C=100, gamma=0.0001, kernel=linear;, score=0.742 total time=  23.6s\n",
            "[CV 4/5] END C=100, gamma=0.0001, kernel=linear;, score=0.715 total time=  19.1s\n",
            "[CV 5/5] END C=100, gamma=0.0001, kernel=linear;, score=0.725 total time=  31.7s\n"
          ]
        },
        {
          "output_type": "execute_result",
          "data": {
            "text/plain": [
              "0.7411273486430062"
            ]
          },
          "metadata": {},
          "execution_count": 141
        }
      ]
    },
    {
      "cell_type": "code",
      "source": [
        "# print best parameter after tuning\n",
        "print(grid.best_params_)\n",
        "\n",
        "# print how our model looks after hyper-parameter tuning\n",
        "print(grid.best_estimator_)"
      ],
      "metadata": {
        "colab": {
          "base_uri": "https://localhost:8080/"
        },
        "id": "NKKmFz0Gb4Bl",
        "outputId": "939d0875-e1be-49b4-ffb6-d7ae24ecf4ed"
      },
      "execution_count": null,
      "outputs": [
        {
          "output_type": "stream",
          "name": "stdout",
          "text": [
            "{'C': 100, 'gamma': 0.001, 'kernel': 'rbf'}\n",
            "SVC(C=100, gamma=0.001)\n"
          ]
        }
      ]
    },
    {
      "cell_type": "code",
      "source": [
        "clf_svm_selected = SVC(kernel='rbf',C=100, gamma=0.001,random_state=42)\n",
        "clf_svm_selected.fit(X_train_selected, y_train)\n",
        "\n",
        "print(f\"Train mean accuracy: {clf_svm_selected.score(X_train_selected, y_train):.4f}\")\n",
        "print(f\"Test mean accuracy: {clf_svm_selected.score(X_test_selected, y_test):.4f}\")"
      ],
      "metadata": {
        "colab": {
          "base_uri": "https://localhost:8080/"
        },
        "id": "R9svhmmeewxb",
        "outputId": "526750e2-b0ab-449e-9414-5636ed8f8c17"
      },
      "execution_count": null,
      "outputs": [
        {
          "output_type": "stream",
          "name": "stdout",
          "text": [
            "Train mean accuracy: 0.7747\n",
            "Test mean accuracy: 0.7411\n"
          ]
        }
      ]
    },
    {
      "cell_type": "code",
      "source": [
        "# defining parameter range: toma 15-20 min en correr\n",
        "param_grid = {'C': [0.1, 1, 10, 100],\n",
        "              'gamma': [1, 0.1, 0.01, 0.001, 0.0001],\n",
        "              'kernel': ['rbf', 'linear']}\n",
        "\n",
        "grid = GridSearchCV(SVC(), param_grid, verbose = 3, scoring='balanced_accuracy')\n",
        "\n",
        "# fitting the model for grid search\n",
        "grid.fit(X_train_selected, y_train)\n",
        "grid.score(X_test_selected,y_test)"
      ],
      "metadata": {
        "id": "66H5mAwtj_dC"
      },
      "execution_count": null,
      "outputs": []
    },
    {
      "cell_type": "code",
      "source": [
        "# print best parameter after tuning\n",
        "print(grid.best_params_)\n",
        "\n",
        "# print how our model looks after hyper-parameter tuning\n",
        "print(grid.best_estimator_)"
      ],
      "metadata": {
        "colab": {
          "base_uri": "https://localhost:8080/"
        },
        "id": "KR3F4qREmmbG",
        "outputId": "74d6ed78-cccb-4dc2-d7a5-4de2ce72d4fc"
      },
      "execution_count": null,
      "outputs": [
        {
          "output_type": "stream",
          "name": "stdout",
          "text": [
            "{'C': 10, 'gamma': 0.01, 'kernel': 'rbf'}\n",
            "SVC(C=10, gamma=0.01)\n"
          ]
        }
      ]
    },
    {
      "cell_type": "code",
      "source": [
        "clf_svm_selected = SVC(kernel='rbf',C=10, gamma=0.01,random_state=42)\n",
        "clf_svm_selected.fit(X_train_selected, y_train)\n",
        "\n",
        "print(f\"Train mean accuracy: {clf_svm_selected.score(X_train_selected, y_train):.4f}\")\n",
        "print(f\"Test mean accuracy: {clf_svm_selected.score(X_test_selected, y_test):.4f}\")"
      ],
      "metadata": {
        "colab": {
          "base_uri": "https://localhost:8080/"
        },
        "id": "RNM7osLNnMdB",
        "outputId": "6eb29834-5ec6-4292-dfc4-ea52b1c84e78"
      },
      "execution_count": null,
      "outputs": [
        {
          "output_type": "stream",
          "name": "stdout",
          "text": [
            "Train mean accuracy: 0.7778\n",
            "Test mean accuracy: 0.7495\n"
          ]
        }
      ]
    },
    {
      "cell_type": "markdown",
      "source": [
        "**Conclusiones para SVM**\n"
      ],
      "metadata": {
        "id": "-aXTviLLWe-R"
      }
    },
    {
      "cell_type": "markdown",
      "source": [
        " El mejor modelo encontrado es para los parametros kernel='rbf',C=10, gamma=0.01, que tiene una accuracy de 74.95% para las mejores 14 features (SelectKBest)"
      ],
      "metadata": {
        "id": "T_HJKSrTW2o1"
      }
    },
    {
      "cell_type": "markdown",
      "source": [
        "### MLP"
      ],
      "metadata": {
        "id": "d7CJ431pSLb4"
      }
    },
    {
      "cell_type": "code",
      "source": [
        "# Transformar las etiquestas tanto de prueba como entrenamiento a variables binarias\n",
        "y_train_mlp = to_categorical(y_train,num_classes=5)\n",
        "y_test_mlp = to_categorical(y_test,num_classes=5)\n",
        "y_test_original = y_test.copy()"
      ],
      "metadata": {
        "id": "Lyyj5WclaDQ6"
      },
      "execution_count": null,
      "outputs": []
    },
    {
      "cell_type": "code",
      "source": [
        "# Convertir a arreglos numericos los conjuntos de prueba y entrenamiento\n",
        "X_train_mlp = np.asarray(X_train_selected).astype(np.float32)\n",
        "X_test_mlp = np.asarray(X_test_selected).astype(np.float32)"
      ],
      "metadata": {
        "id": "QXUnopgObXHn"
      },
      "execution_count": null,
      "outputs": []
    },
    {
      "cell_type": "code",
      "source": [
        "# Entreanamiento de una red MPL\n",
        "from keras.models import Sequential\n",
        "from keras.layers import Dense\n",
        "\n",
        "model = Sequential()\n",
        "model.add(Dense(16, activation='relu', input_dim=14)) #\n",
        "model.add(Dense(32, activation='relu'))\n",
        "model.add(Dense(5, activation='softmax'))  # Cuando se trata de tareas de clasificación multiclase, ponemos una activación softmax en la capa de salida"
      ],
      "metadata": {
        "id": "ilnVztFjSK09",
        "colab": {
          "base_uri": "https://localhost:8080/"
        },
        "outputId": "b1eb3ee8-7b81-4b81-ddc2-8c48bd7144c2"
      },
      "execution_count": null,
      "outputs": [
        {
          "output_type": "stream",
          "name": "stderr",
          "text": [
            "/usr/local/lib/python3.10/dist-packages/keras/src/layers/core/dense.py:87: UserWarning: Do not pass an `input_shape`/`input_dim` argument to a layer. When using Sequential models, prefer using an `Input(shape)` object as the first layer in the model instead.\n",
            "  super().__init__(activity_regularizer=activity_regularizer, **kwargs)\n"
          ]
        }
      ]
    },
    {
      "cell_type": "code",
      "source": [
        "model.summary()"
      ],
      "metadata": {
        "colab": {
          "base_uri": "https://localhost:8080/",
          "height": 234
        },
        "id": "mrXHgCdTU6WB",
        "outputId": "01bbb430-1d14-488d-f547-4fe0ae82b477"
      },
      "execution_count": null,
      "outputs": [
        {
          "output_type": "display_data",
          "data": {
            "text/plain": [
              "\u001b[1mModel: \"sequential_26\"\u001b[0m\n"
            ],
            "text/html": [
              "<pre style=\"white-space:pre;overflow-x:auto;line-height:normal;font-family:Menlo,'DejaVu Sans Mono',consolas,'Courier New',monospace\"><span style=\"font-weight: bold\">Model: \"sequential_26\"</span>\n",
              "</pre>\n"
            ]
          },
          "metadata": {}
        },
        {
          "output_type": "display_data",
          "data": {
            "text/plain": [
              "┏━━━━━━━━━━━━━━━━━━━━━━━━━━━━━━━━━━━━━━┳━━━━━━━━━━━━━━━━━━━━━━━━━━━━━┳━━━━━━━━━━━━━━━━━┓\n",
              "┃\u001b[1m \u001b[0m\u001b[1mLayer (type)                        \u001b[0m\u001b[1m \u001b[0m┃\u001b[1m \u001b[0m\u001b[1mOutput Shape               \u001b[0m\u001b[1m \u001b[0m┃\u001b[1m \u001b[0m\u001b[1m        Param #\u001b[0m\u001b[1m \u001b[0m┃\n",
              "┡━━━━━━━━━━━━━━━━━━━━━━━━━━━━━━━━━━━━━━╇━━━━━━━━━━━━━━━━━━━━━━━━━━━━━╇━━━━━━━━━━━━━━━━━┩\n",
              "│ dense_63 (\u001b[38;5;33mDense\u001b[0m)                     │ (\u001b[38;5;45mNone\u001b[0m, \u001b[38;5;34m16\u001b[0m)                  │             \u001b[38;5;34m240\u001b[0m │\n",
              "├──────────────────────────────────────┼─────────────────────────────┼─────────────────┤\n",
              "│ dense_64 (\u001b[38;5;33mDense\u001b[0m)                     │ (\u001b[38;5;45mNone\u001b[0m, \u001b[38;5;34m32\u001b[0m)                  │             \u001b[38;5;34m544\u001b[0m │\n",
              "├──────────────────────────────────────┼─────────────────────────────┼─────────────────┤\n",
              "│ dense_65 (\u001b[38;5;33mDense\u001b[0m)                     │ (\u001b[38;5;45mNone\u001b[0m, \u001b[38;5;34m5\u001b[0m)                   │             \u001b[38;5;34m165\u001b[0m │\n",
              "└──────────────────────────────────────┴─────────────────────────────┴─────────────────┘\n"
            ],
            "text/html": [
              "<pre style=\"white-space:pre;overflow-x:auto;line-height:normal;font-family:Menlo,'DejaVu Sans Mono',consolas,'Courier New',monospace\">┏━━━━━━━━━━━━━━━━━━━━━━━━━━━━━━━━━━━━━━┳━━━━━━━━━━━━━━━━━━━━━━━━━━━━━┳━━━━━━━━━━━━━━━━━┓\n",
              "┃<span style=\"font-weight: bold\"> Layer (type)                         </span>┃<span style=\"font-weight: bold\"> Output Shape                </span>┃<span style=\"font-weight: bold\">         Param # </span>┃\n",
              "┡━━━━━━━━━━━━━━━━━━━━━━━━━━━━━━━━━━━━━━╇━━━━━━━━━━━━━━━━━━━━━━━━━━━━━╇━━━━━━━━━━━━━━━━━┩\n",
              "│ dense_63 (<span style=\"color: #0087ff; text-decoration-color: #0087ff\">Dense</span>)                     │ (<span style=\"color: #00d7ff; text-decoration-color: #00d7ff\">None</span>, <span style=\"color: #00af00; text-decoration-color: #00af00\">16</span>)                  │             <span style=\"color: #00af00; text-decoration-color: #00af00\">240</span> │\n",
              "├──────────────────────────────────────┼─────────────────────────────┼─────────────────┤\n",
              "│ dense_64 (<span style=\"color: #0087ff; text-decoration-color: #0087ff\">Dense</span>)                     │ (<span style=\"color: #00d7ff; text-decoration-color: #00d7ff\">None</span>, <span style=\"color: #00af00; text-decoration-color: #00af00\">32</span>)                  │             <span style=\"color: #00af00; text-decoration-color: #00af00\">544</span> │\n",
              "├──────────────────────────────────────┼─────────────────────────────┼─────────────────┤\n",
              "│ dense_65 (<span style=\"color: #0087ff; text-decoration-color: #0087ff\">Dense</span>)                     │ (<span style=\"color: #00d7ff; text-decoration-color: #00d7ff\">None</span>, <span style=\"color: #00af00; text-decoration-color: #00af00\">5</span>)                   │             <span style=\"color: #00af00; text-decoration-color: #00af00\">165</span> │\n",
              "└──────────────────────────────────────┴─────────────────────────────┴─────────────────┘\n",
              "</pre>\n"
            ]
          },
          "metadata": {}
        },
        {
          "output_type": "display_data",
          "data": {
            "text/plain": [
              "\u001b[1m Total params: \u001b[0m\u001b[38;5;34m949\u001b[0m (3.71 KB)\n"
            ],
            "text/html": [
              "<pre style=\"white-space:pre;overflow-x:auto;line-height:normal;font-family:Menlo,'DejaVu Sans Mono',consolas,'Courier New',monospace\"><span style=\"font-weight: bold\"> Total params: </span><span style=\"color: #00af00; text-decoration-color: #00af00\">949</span> (3.71 KB)\n",
              "</pre>\n"
            ]
          },
          "metadata": {}
        },
        {
          "output_type": "display_data",
          "data": {
            "text/plain": [
              "\u001b[1m Trainable params: \u001b[0m\u001b[38;5;34m949\u001b[0m (3.71 KB)\n"
            ],
            "text/html": [
              "<pre style=\"white-space:pre;overflow-x:auto;line-height:normal;font-family:Menlo,'DejaVu Sans Mono',consolas,'Courier New',monospace\"><span style=\"font-weight: bold\"> Trainable params: </span><span style=\"color: #00af00; text-decoration-color: #00af00\">949</span> (3.71 KB)\n",
              "</pre>\n"
            ]
          },
          "metadata": {}
        },
        {
          "output_type": "display_data",
          "data": {
            "text/plain": [
              "\u001b[1m Non-trainable params: \u001b[0m\u001b[38;5;34m0\u001b[0m (0.00 B)\n"
            ],
            "text/html": [
              "<pre style=\"white-space:pre;overflow-x:auto;line-height:normal;font-family:Menlo,'DejaVu Sans Mono',consolas,'Courier New',monospace\"><span style=\"font-weight: bold\"> Non-trainable params: </span><span style=\"color: #00af00; text-decoration-color: #00af00\">0</span> (0.00 B)\n",
              "</pre>\n"
            ]
          },
          "metadata": {}
        }
      ]
    },
    {
      "cell_type": "code",
      "source": [
        "# Uso de MPL con optimizador Adan con tasa de apredizaje por defecto\n",
        "model.compile(loss='categorical_crossentropy',\n",
        "\t      optimizer='adam',\n",
        "\t      metrics=['acc']\n",
        "\t\t  )"
      ],
      "metadata": {
        "id": "j2NkfM4aU6-Z"
      },
      "execution_count": null,
      "outputs": []
    },
    {
      "cell_type": "code",
      "source": [
        "from tensorflow.keras.callbacks import EarlyStopping\n",
        "\n",
        "es = EarlyStopping(monitor='val_loss', mode='min', verbose=1, patience=3)"
      ],
      "metadata": {
        "id": "pwk5NOSvsVzX"
      },
      "execution_count": null,
      "outputs": []
    },
    {
      "cell_type": "code",
      "source": [
        "n_epocas = 64\n",
        "history = model.fit(X_train_mlp, y_train_mlp, epochs=n_epocas, callbacks=[es], validation_split=0.1)"
      ],
      "metadata": {
        "colab": {
          "base_uri": "https://localhost:8080/"
        },
        "id": "v1ZEajRLVGfl",
        "outputId": "7a8ed763-2c5c-4f1d-9852-78be78786723"
      },
      "execution_count": null,
      "outputs": [
        {
          "output_type": "stream",
          "name": "stdout",
          "text": [
            "Epoch 1/64\n",
            "\u001b[1m54/54\u001b[0m \u001b[32m━━━━━━━━━━━━━━━━━━━━\u001b[0m\u001b[37m\u001b[0m \u001b[1m6s\u001b[0m 50ms/step - acc: 0.5177 - loss: 1.5642 - val_acc: 0.4792 - val_loss: 1.1191\n",
            "Epoch 2/64\n",
            "\u001b[1m54/54\u001b[0m \u001b[32m━━━━━━━━━━━━━━━━━━━━\u001b[0m\u001b[37m\u001b[0m \u001b[1m1s\u001b[0m 2ms/step - acc: 0.5762 - loss: 0.9929 - val_acc: 0.6094 - val_loss: 1.0291\n",
            "Epoch 3/64\n",
            "\u001b[1m54/54\u001b[0m \u001b[32m━━━━━━━━━━━━━━━━━━━━\u001b[0m\u001b[37m\u001b[0m \u001b[1m0s\u001b[0m 2ms/step - acc: 0.6350 - loss: 0.9554 - val_acc: 0.6354 - val_loss: 0.9784\n",
            "Epoch 4/64\n",
            "\u001b[1m54/54\u001b[0m \u001b[32m━━━━━━━━━━━━━━━━━━━━\u001b[0m\u001b[37m\u001b[0m \u001b[1m0s\u001b[0m 2ms/step - acc: 0.6817 - loss: 0.8710 - val_acc: 0.6250 - val_loss: 0.9709\n",
            "Epoch 5/64\n",
            "\u001b[1m54/54\u001b[0m \u001b[32m━━━━━━━━━━━━━━━━━━━━\u001b[0m\u001b[37m\u001b[0m \u001b[1m0s\u001b[0m 2ms/step - acc: 0.6550 - loss: 0.8728 - val_acc: 0.6562 - val_loss: 0.9429\n",
            "Epoch 6/64\n",
            "\u001b[1m54/54\u001b[0m \u001b[32m━━━━━━━━━━━━━━━━━━━━\u001b[0m\u001b[37m\u001b[0m \u001b[1m0s\u001b[0m 2ms/step - acc: 0.6737 - loss: 0.8505 - val_acc: 0.6562 - val_loss: 0.9344\n",
            "Epoch 7/64\n",
            "\u001b[1m54/54\u001b[0m \u001b[32m━━━━━━━━━━━━━━━━━━━━\u001b[0m\u001b[37m\u001b[0m \u001b[1m0s\u001b[0m 3ms/step - acc: 0.6850 - loss: 0.8318 - val_acc: 0.6667 - val_loss: 0.9286\n",
            "Epoch 8/64\n",
            "\u001b[1m54/54\u001b[0m \u001b[32m━━━━━━━━━━━━━━━━━━━━\u001b[0m\u001b[37m\u001b[0m \u001b[1m0s\u001b[0m 2ms/step - acc: 0.6817 - loss: 0.8262 - val_acc: 0.6562 - val_loss: 0.9093\n",
            "Epoch 9/64\n",
            "\u001b[1m54/54\u001b[0m \u001b[32m━━━━━━━━━━━━━━━━━━━━\u001b[0m\u001b[37m\u001b[0m \u001b[1m0s\u001b[0m 2ms/step - acc: 0.7107 - loss: 0.7876 - val_acc: 0.6667 - val_loss: 0.9122\n",
            "Epoch 10/64\n",
            "\u001b[1m54/54\u001b[0m \u001b[32m━━━━━━━━━━━━━━━━━━━━\u001b[0m\u001b[37m\u001b[0m \u001b[1m0s\u001b[0m 2ms/step - acc: 0.7128 - loss: 0.7742 - val_acc: 0.6667 - val_loss: 0.9196\n",
            "Epoch 11/64\n",
            "\u001b[1m54/54\u001b[0m \u001b[32m━━━━━━━━━━━━━━━━━━━━\u001b[0m\u001b[37m\u001b[0m \u001b[1m0s\u001b[0m 2ms/step - acc: 0.6985 - loss: 0.8322 - val_acc: 0.6771 - val_loss: 0.9068\n",
            "Epoch 12/64\n",
            "\u001b[1m54/54\u001b[0m \u001b[32m━━━━━━━━━━━━━━━━━━━━\u001b[0m\u001b[37m\u001b[0m \u001b[1m0s\u001b[0m 2ms/step - acc: 0.7138 - loss: 0.7950 - val_acc: 0.6562 - val_loss: 0.8945\n",
            "Epoch 13/64\n",
            "\u001b[1m54/54\u001b[0m \u001b[32m━━━━━━━━━━━━━━━━━━━━\u001b[0m\u001b[37m\u001b[0m \u001b[1m0s\u001b[0m 3ms/step - acc: 0.7280 - loss: 0.7505 - val_acc: 0.6719 - val_loss: 0.8875\n",
            "Epoch 14/64\n",
            "\u001b[1m54/54\u001b[0m \u001b[32m━━━━━━━━━━━━━━━━━━━━\u001b[0m\u001b[37m\u001b[0m \u001b[1m0s\u001b[0m 2ms/step - acc: 0.7294 - loss: 0.7355 - val_acc: 0.6875 - val_loss: 0.8840\n",
            "Epoch 15/64\n",
            "\u001b[1m54/54\u001b[0m \u001b[32m━━━━━━━━━━━━━━━━━━━━\u001b[0m\u001b[37m\u001b[0m \u001b[1m0s\u001b[0m 2ms/step - acc: 0.7526 - loss: 0.7067 - val_acc: 0.6927 - val_loss: 0.9080\n",
            "Epoch 16/64\n",
            "\u001b[1m54/54\u001b[0m \u001b[32m━━━━━━━━━━━━━━━━━━━━\u001b[0m\u001b[37m\u001b[0m \u001b[1m0s\u001b[0m 2ms/step - acc: 0.7520 - loss: 0.7279 - val_acc: 0.6823 - val_loss: 0.8950\n",
            "Epoch 17/64\n",
            "\u001b[1m54/54\u001b[0m \u001b[32m━━━━━━━━━━━━━━━━━━━━\u001b[0m\u001b[37m\u001b[0m \u001b[1m0s\u001b[0m 2ms/step - acc: 0.7451 - loss: 0.7384 - val_acc: 0.7031 - val_loss: 0.8736\n",
            "Epoch 18/64\n",
            "\u001b[1m54/54\u001b[0m \u001b[32m━━━━━━━━━━━━━━━━━━━━\u001b[0m\u001b[37m\u001b[0m \u001b[1m0s\u001b[0m 2ms/step - acc: 0.7509 - loss: 0.7081 - val_acc: 0.7031 - val_loss: 0.8765\n",
            "Epoch 19/64\n",
            "\u001b[1m54/54\u001b[0m \u001b[32m━━━━━━━━━━━━━━━━━━━━\u001b[0m\u001b[37m\u001b[0m \u001b[1m0s\u001b[0m 2ms/step - acc: 0.7545 - loss: 0.7283 - val_acc: 0.6979 - val_loss: 0.8629\n",
            "Epoch 20/64\n",
            "\u001b[1m54/54\u001b[0m \u001b[32m━━━━━━━━━━━━━━━━━━━━\u001b[0m\u001b[37m\u001b[0m \u001b[1m0s\u001b[0m 2ms/step - acc: 0.7521 - loss: 0.7133 - val_acc: 0.7083 - val_loss: 0.8486\n",
            "Epoch 21/64\n",
            "\u001b[1m54/54\u001b[0m \u001b[32m━━━━━━━━━━━━━━━━━━━━\u001b[0m\u001b[37m\u001b[0m \u001b[1m0s\u001b[0m 2ms/step - acc: 0.7654 - loss: 0.6711 - val_acc: 0.7135 - val_loss: 0.8507\n",
            "Epoch 22/64\n",
            "\u001b[1m54/54\u001b[0m \u001b[32m━━━━━━━━━━━━━━━━━━━━\u001b[0m\u001b[37m\u001b[0m \u001b[1m0s\u001b[0m 2ms/step - acc: 0.7562 - loss: 0.7003 - val_acc: 0.6979 - val_loss: 0.8471\n",
            "Epoch 23/64\n",
            "\u001b[1m54/54\u001b[0m \u001b[32m━━━━━━━━━━━━━━━━━━━━\u001b[0m\u001b[37m\u001b[0m \u001b[1m0s\u001b[0m 2ms/step - acc: 0.7764 - loss: 0.6663 - val_acc: 0.7083 - val_loss: 0.8481\n",
            "Epoch 24/64\n",
            "\u001b[1m54/54\u001b[0m \u001b[32m━━━━━━━━━━━━━━━━━━━━\u001b[0m\u001b[37m\u001b[0m \u001b[1m0s\u001b[0m 2ms/step - acc: 0.7635 - loss: 0.6776 - val_acc: 0.6875 - val_loss: 0.8614\n",
            "Epoch 25/64\n",
            "\u001b[1m54/54\u001b[0m \u001b[32m━━━━━━━━━━━━━━━━━━━━\u001b[0m\u001b[37m\u001b[0m \u001b[1m0s\u001b[0m 3ms/step - acc: 0.7504 - loss: 0.6972 - val_acc: 0.7083 - val_loss: 0.8495\n",
            "Epoch 25: early stopping\n"
          ]
        }
      ]
    },
    {
      "cell_type": "code",
      "source": [
        "loss_train = history.history['loss']\n",
        "loss_val = history.history['val_loss']\n",
        "\n",
        "epochs = range(1,len(history.epoch)+1)\n",
        "\n",
        "plt.figure(figsize=(7,5))\n",
        "plt.plot(epochs, loss_train, 'g', label='Training loss')\n",
        "plt.plot(epochs, loss_val, 'b', label='validation loss')\n",
        "plt.title('Training and Validation loss',fontsize=15)\n",
        "plt.xlabel('Epochs',fontsize=14)\n",
        "plt.ylabel('Loss',fontsize=14)\n",
        "plt.legend()\n",
        "plt.ylim([0,None])\n",
        "plt.show()"
      ],
      "metadata": {
        "id": "ryCg_CNrVKJ6",
        "colab": {
          "base_uri": "https://localhost:8080/",
          "height": 494
        },
        "outputId": "a2f3f889-7b43-45e1-e217-7a9408d59973"
      },
      "execution_count": null,
      "outputs": [
        {
          "output_type": "display_data",
          "data": {
            "text/plain": [
              "<Figure size 700x500 with 1 Axes>"
            ],
            "image/png": "[encoded data removed]"
          },
          "metadata": {}
        }
      ]
    },
    {
      "cell_type": "code",
      "source": [
        "loss_train = history.history['acc']\n",
        "loss_val = history.history['val_acc']\n",
        "\n",
        "epochs = range(1,len(history.epoch)+1)\n",
        "\n",
        "plt.figure(figsize=(10,5))\n",
        "plt.plot(epochs, loss_train, 'g', label='Training Accuracy')\n",
        "plt.plot(epochs, loss_val, 'b', label='Validation Accuracy')\n",
        "plt.title('Training and Validation Accuracy',fontsize=15)\n",
        "plt.xlabel('Epochs',fontsize=14)\n",
        "plt.ylabel('Accuracy',fontsize=14)\n",
        "plt.xticks(epochs)\n",
        "plt.legend()\n",
        "plt.ylim([0,1.1])\n",
        "plt.show()"
      ],
      "metadata": {
        "id": "zkdH2E9iVNKL",
        "colab": {
          "base_uri": "https://localhost:8080/",
          "height": 494
        },
        "outputId": "3d19566b-4607-49e5-9bd0-1b69ca44de5d"
      },
      "execution_count": null,
      "outputs": [
        {
          "output_type": "display_data",
          "data": {
            "text/plain": [
              "<Figure size 1000x500 with 1 Axes>"
            ],
            "image/png": "[encoded data removed]"
          },
          "metadata": {}
        }
      ]
    },
    {
      "cell_type": "code",
      "source": [
        "predictions_matrix = model.predict(X_test_mlp)\n",
        "predictions = np.argmax(predictions_matrix, axis=1)  # Prueba a comentar esta línea y discutamos qué pasa"
      ],
      "metadata": {
        "colab": {
          "base_uri": "https://localhost:8080/"
        },
        "id": "kJbOsXusc48G",
        "outputId": "0f500314-8c32-47e4-d93a-1173f2457ad7"
      },
      "execution_count": null,
      "outputs": [
        {
          "output_type": "stream",
          "name": "stdout",
          "text": [
            "\u001b[1m15/15\u001b[0m \u001b[32m━━━━━━━━━━━━━━━━━━━━\u001b[0m\u001b[37m\u001b[0m \u001b[1m0s\u001b[0m 8ms/step\n"
          ]
        }
      ]
    },
    {
      "cell_type": "code",
      "source": [
        "from sklearn.metrics import accuracy_score, recall_score, precision_score\n",
        "\n",
        "print(f\"Test Accuracy: {accuracy_score(y_pred=predictions,y_true=y_test_original)}\")\n",
        "print(f\"Test Recall: {recall_score(y_pred=predictions,y_true=y_test_original,average='macro')}\")\n",
        "print(f\"Test Precision: {precision_score(y_pred=predictions,y_true=y_test_original,average='macro')}\")"
      ],
      "metadata": {
        "colab": {
          "base_uri": "https://localhost:8080/"
        },
        "id": "YcccYuHElLR_",
        "outputId": "0786ee12-5e73-43b0-9250-da712548172b"
      },
      "execution_count": null,
      "outputs": [
        {
          "output_type": "stream",
          "name": "stdout",
          "text": [
            "Test Accuracy: 0.7223382045929019\n",
            "Test Recall: 0.5340214745837235\n",
            "Test Precision: 0.5424198374970847\n"
          ]
        }
      ]
    },
    {
      "cell_type": "markdown",
      "source": [
        "**Conclusiones MPL**"
      ],
      "metadata": {
        "id": "DrPhOhWqs6YP"
      }
    },
    {
      "cell_type": "markdown",
      "source": [
        "Se puede ver que la accuracy es ligeramente inferior a SVM, Logistic Regression: 72.2% vs 74.95%, ambos utilizando las mejores 14 features de acuerdo a SelectKBest.\n",
        "Sin embardo, el modelo mas interpretable es el de Logistic Regression con una accuracy del 73.7%, ~2 pp menos que el modelo de SVM"
      ],
      "metadata": {
        "id": "17d_liTks-mR"
      }
    },
    {
      "cell_type": "code",
      "source": [],
      "metadata": {
        "id": "KdHkoSA6qV3-"
      },
      "execution_count": null,
      "outputs": []
    }
  ],
  "metadata": {
    "colab": {
      "provenance": [],
      "gpuType": "T4"
    },
    "kernelspec": {
      "display_name": "Python 3",
      "name": "python3"
    },
    "language_info": {
      "name": "python"
    },
    "accelerator": "GPU"
  },
  "nbformat": 4,
  "nbformat_minor": 0
}