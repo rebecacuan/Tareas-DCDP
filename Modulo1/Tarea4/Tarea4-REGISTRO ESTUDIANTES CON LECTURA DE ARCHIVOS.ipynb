{
  "nbformat": 4,
  "nbformat_minor": 0,
  "metadata": {
    "colab": {
      "provenance": []
    },
    "kernelspec": {
      "name": "python3",
      "display_name": "Python 3"
    },
    "language_info": {
      "name": "python"
    }
  },
  "cells": [
    {
      "cell_type": "markdown",
      "source": [
        "# Tarea 4"
      ],
      "metadata": {
        "id": "viV2E6DC3FgB"
      }
    },
    {
      "cell_type": "code",
      "execution_count": 1,
      "metadata": {
        "id": "4BlAKR2bc1G2"
      },
      "outputs": [],
      "source": [
        "# Clases definidas en la clase pasada\n",
        "from datetime import date\n",
        "\n",
        "class Persona:\n",
        "    def __init__(self, nombre = \"Sin nombre\", apellido = \"Sin apellido\", fecha_nacimiento = (1900, 1, 1)):\n",
        "        self.nombre = nombre\n",
        "        self.apellido = apellido\n",
        "        self.fecha_nacimiento = date(*fecha_nacimiento)\n",
        "\n",
        "    def saludos(self):\n",
        "        print(\"Saludos, soy\", self.nombre, self.apellido)\n",
        "\n",
        "    def calcula_edad(self):\n",
        "        today = date.today()\n",
        "        edad = int((today - self.fecha_nacimiento).days / 365)\n",
        "        return edad\n",
        "\n",
        "class Estudiante(Persona):\n",
        "    def __init__(self, nombre = \"Sin nombre\", apellido = \"Sin apellido\", fecha_nacimiento = (1900, 1, 1),\n",
        "                 semestre:int = 1):\n",
        "        super().__init__(nombre, apellido, fecha_nacimiento)\n",
        "        self.semestre = semestre\n",
        "        self.materias = []\n",
        "        self.calificaciones = {}\n",
        "        self.__meses__ = {1:\"Enero\",2:\"Febrero\",3:\"Marzo\",4:\"Abril\",5:\"Mayo\",\\\n",
        "                          6:\"Junio\",7:\"Julio\",8:\"Agosto\",9:\"Septiembre\",\\\n",
        "                            10:\"Octubre\",11:\"Noviembre\",12:\"Diciembre\"}\n",
        "\n",
        "    def setMatricula(self):\n",
        "        if self.fecha_nacimiento.year == 1900:\n",
        "            print(\"Error: Fecha de nacimiento inválida\")\n",
        "        else:\n",
        "            self.matricula = str(self.fecha_nacimiento.year) + self.nombre[:2] + self.apellido[:2]\n",
        "        return\n",
        "\n",
        "    def getMatricula(self):\n",
        "        return self.matricula\n",
        "\n",
        "    def setFechaIngreso(self,fecha:tuple):\n",
        "        self.fecha_ingreso = date(*fecha)\n",
        "        return\n",
        "\n",
        "    def setSemestre(self,semestre:int=1):\n",
        "        self.semestre = semestre\n",
        "        return\n",
        "\n",
        "    def getFechaIngreso(self):\n",
        "        anio = self.fecha_ingreso.year\n",
        "        mes = self.fecha_ingreso.month\n",
        "        dia = self.fecha_ingreso.day\n",
        "        print(f\"El estudiante {self.nombre} {self.apellido} ingresó el {dia} de {self.__meses__[mes]} de {anio}\")\n",
        "        return\n",
        "\n",
        "class Registro():\n",
        "    def __init__(self,*args:Estudiante,**kwargs):\n",
        "        # print('args =',args, 'kwargs =',kwargs, *kwargs.get(\"estudiante\"))\n",
        "        if kwargs.get(\"estudiante\") != None:\n",
        "            self.estudiante = Estudiante(*kwargs.get(\"estudiante\"))\n",
        "        else:\n",
        "            self.estudiante = args[0] # objeto de tipo Estudiante\n",
        "\n",
        "    def setCalificaciones(self,**kwargs):\n",
        "        if len(kwargs) ==0:\n",
        "            print(\"Error: Ningún registro de calificaciones proporcionado\")\n",
        "        else:\n",
        "            if kwargs.get('registros') != None:\n",
        "                if len(kwargs.get('registros')) == 0:\n",
        "                    print(\"Error: Ningún registro de calificaciones proporcionado\")\n",
        "                else:\n",
        "                    registros = kwargs.get('registros')\n",
        "                    for r in registros:\n",
        "                        self.estudiante.calificaciones[r[0]] = r[1]\n",
        "\n",
        "            elif kwargs.get('materias') != None and kwargs.get('calificaciones') != None:\n",
        "                materias = kwargs.get('materias')\n",
        "                califs = kwargs.get('calificaciones')\n",
        "                if len(materias) != len(califs):\n",
        "                    print(\"Error: no hay correspondencia entre el número de materias y el número de calificaciones\")\n",
        "                else:\n",
        "                    for m,c in zip(materias,califs):\n",
        "                        self.estudiante.calificaciones[m] = c\n",
        "        return\n",
        "\n",
        "    def printCalificaciones(self):\n",
        "        if len(self.estudiante.calificaciones) == 0:\n",
        "            print(\"Error: no se han capturado calificaciones\")\n",
        "        else:\n",
        "            for m in self.estudiante.calificaciones.keys():\n",
        "                print(f\"{m}: {self.estudiante.calificaciones[m]}\")\n",
        "        return\n",
        "\n",
        "    def printPromedioEstudiante(self):\n",
        "        if len(self.estudiante.calificaciones) == 0:\n",
        "            print(\"Error: no se han capturado calificaciones\")\n",
        "        else:\n",
        "            suma = 0\n",
        "            for m in self.estudiante.calificaciones.values():\n",
        "                suma = suma + float(m)\n",
        "            promedio = suma / len(self.estudiante.calificaciones.values())\n",
        "            print(f\"Promedio: {promedio}\")\n",
        "        return"
      ]
    },
    {
      "cell_type": "code",
      "source": [
        "import csv\n",
        "from urllib.request import urlopen\n",
        "# Funcion para leer cada unos de los archivos de los estudiantes en github\n",
        "def leer_csv_github(i):\n",
        "    url = 'https://raw.githubusercontent.com/DCDPUAEM/DCDP/main/01%20Programaci%C3%B3n%20en%20Python/notebooks/sample_data/' + 'c' + str(i) + '.csv'\n",
        "    respuesta = urlopen(url)\n",
        "    lineas = [line.decode('utf-8-sig') for line in respuesta.readlines()]\n",
        "    registros = csv.reader(lineas, delimiter=',',quotechar=',')\n",
        "    mat = []\n",
        "    cal = []\n",
        "    for r, j in enumerate(list(registros)):\n",
        "        if r == 0:\n",
        "            semestre = int(j[2])\n",
        "            nombre = j[0]\n",
        "        else:\n",
        "            mat.append(j[0])\n",
        "            cal.append(float(j[1]))\n",
        "    return mat, cal, semestre, nombre"
      ],
      "metadata": {
        "id": "LR7dQnF491S8"
      },
      "execution_count": 2,
      "outputs": []
    },
    {
      "cell_type": "code",
      "source": [
        "# Estructura de diccionario que contiene las materias, calificaciones y semetre por cada estudiante\n",
        "csv_cal = {}\n",
        "for i in range(1,13):\n",
        "    mat_i, cal_i, semestre_i, nombre_i = leer_csv_github(i)\n",
        "    csv_cal[nombre_i] = {\"cal\": cal_i, \"mat\": mat_i, \"semestre\": semestre_i}"
      ],
      "metadata": {
        "id": "Ei4gxmiKr8vM"
      },
      "execution_count": 3,
      "outputs": []
    },
    {
      "cell_type": "code",
      "source": [
        "# Leer archivo de estudiantes desde repositorio del curso\n",
        "import csv\n",
        "from urllib.request import urlopen\n",
        "\n",
        "url = 'https://raw.githubusercontent.com/DCDPUAEM/DCDP/main/01%20Programaci%C3%B3n%20en%20Python/notebooks/sample_data/estudiantes.csv'\n",
        "\n",
        "# registro de archivos en el mismo orden que estan en el archivo csv (estudiantes)\n",
        "archivo_estudiantes = [1, 2, 3, 6, 8, 9, 10, 11, 7, 5, 4, 12]\n",
        "registros = []\n",
        "respuesta = urlopen(url)\n",
        "lineas = [line.decode('utf-8-sig') for line in respuesta.readlines()]\n",
        "records = csv.reader(lineas, delimiter=',',quotechar=',')\n",
        "for k, r in enumerate(list(records)[1:]):\n",
        "    # leer las calificaciones\n",
        "    #i = archivo_estudiantes[k]\n",
        "    #mat, cal, semestre = leer_csv_github(i)\n",
        "    fecha_nac = (int(r[3][2:]),int(r[4]),int(r[5][:-2]))\n",
        "    nombre = r[1]\n",
        "    apellido = r[2]\n",
        "    nombre_completo = r[1] + \" \" + r[2]\n",
        "    semestre = csv_cal[nombre_completo]['semestre']\n",
        "    mat = csv_cal[nombre_completo]['mat']\n",
        "    cal = csv_cal[nombre_completo]['cal']\n",
        "    e = [nombre,apellido,fecha_nac] + [semestre]\n",
        "    registros.append(Registro(estudiante=e))\n",
        "    registros[k].setCalificaciones(materias=mat,calificaciones=cal)\n",
        "\n",
        "for j in registros:\n",
        "  print(j.estudiante.nombre, end=' ')"
      ],
      "metadata": {
        "colab": {
          "base_uri": "https://localhost:8080/"
        },
        "id": "WOSVHPL3xZ0N",
        "outputId": "8a0bd56d-ff36-45a6-ce3d-77d05914fd6b"
      },
      "execution_count": 4,
      "outputs": [
        {
          "output_type": "stream",
          "name": "stdout",
          "text": [
            "Juan Ana Luis Diana Lorena Jorge Gonzalo Rodrigo Carmela Veronica Antonio Luis "
          ]
        }
      ]
    },
    {
      "cell_type": "code",
      "source": [
        "# Funcion para identificar los semestres unicos\n",
        "def registro_semestres(registros):\n",
        "    s = [] # semestre\n",
        "    for i in range(len(registros)):\n",
        "        cal = registros[i].estudiante.semestre\n",
        "        if cal not in s:\n",
        "            s.append(cal)\n",
        "    return s"
      ],
      "metadata": {
        "id": "_kWbrfPiPgvQ"
      },
      "execution_count": 5,
      "outputs": []
    },
    {
      "cell_type": "code",
      "source": [
        "# Funcion para identificar el promedio de un semestre solicitado por un usuario para el registro de estudiantes\n",
        "def promedio_semestre(registros, semestre):\n",
        "    suma = 0\n",
        "    count = 0\n",
        "    for i in range(len(registros)):\n",
        "        if  registros[i].estudiante.semestre == semestre:\n",
        "            suma += sum(registros[i].estudiante.calificaciones.values())\n",
        "            count += len(registros[i].estudiante.calificaciones.values())\n",
        "        else:\n",
        "            count += 0\n",
        "    if count > 0:\n",
        "        promedio = round(suma / count,2)\n",
        "        print(f\"El promedio del semestre {semestre} es: {promedio}\")\n",
        "    else:\n",
        "        print(f\"No hay calificaciones para el semestre {semestre}\")\n"
      ],
      "metadata": {
        "id": "tYCHKRKRD1Bt"
      },
      "execution_count": 6,
      "outputs": []
    },
    {
      "cell_type": "code",
      "source": [
        "for i in registro_semestres(registros):\n",
        "    promedio_semestre(registros, i)"
      ],
      "metadata": {
        "colab": {
          "base_uri": "https://localhost:8080/"
        },
        "id": "95KrCR2JTAW8",
        "outputId": "ffbe5f6a-d952-4762-b2c5-922fd25b47d0"
      },
      "execution_count": 7,
      "outputs": [
        {
          "output_type": "stream",
          "name": "stdout",
          "text": [
            "El promedio del semestre 1 es: 7.6\n",
            "El promedio del semestre 2 es: 7.67\n",
            "El promedio del semestre 4 es: 7.13\n",
            "El promedio del semestre 7 es: 7.0\n"
          ]
        }
      ]
    },
    {
      "cell_type": "code",
      "source": [
        "for r in registros[:2]:\n",
        "    print(f\"Nombre: {r.estudiante.nombre} {r.estudiante.apellido}\")\n",
        "    print(f\"Semestre: {r.estudiante.semestre}\")\n",
        "    r.printCalificaciones()\n",
        "    r.printPromedioEstudiante()\n",
        "    print(\"--------------------\")"
      ],
      "metadata": {
        "id": "tELBBVnY_sk4",
        "colab": {
          "base_uri": "https://localhost:8080/"
        },
        "outputId": "c92924c0-e597-4646-9413-0213d10edbcd"
      },
      "execution_count": 8,
      "outputs": [
        {
          "output_type": "stream",
          "name": "stdout",
          "text": [
            "Nombre: Juan Perez\n",
            "Semestre: 1\n",
            "algebra moderna: 6.0\n",
            "calculo 1: 7.0\n",
            "lectura y redaccion: 9.0\n",
            "programacion 1: 8.0\n",
            "vida y sociedad: 10.0\n",
            "Promedio: 8.0\n",
            "--------------------\n",
            "Nombre: Ana Aranda\n",
            "Semestre: 2\n",
            "algebra lineal: 9.0\n",
            "calculo 2: 10.0\n",
            "programacion 2: 10.0\n",
            "fisica: 8.0\n",
            "historia y geografia: 10.0\n",
            "Promedio: 9.4\n",
            "--------------------\n"
          ]
        }
      ]
    },
    {
      "cell_type": "code",
      "source": [],
      "metadata": {
        "id": "GHUWKG0X1j2E"
      },
      "execution_count": null,
      "outputs": []
    }
  ]
}