{
  "nbformat": 4,
  "nbformat_minor": 0,
  "metadata": {
    "colab": {
      "provenance": []
    },
    "kernelspec": {
      "name": "python3",
      "display_name": "Python 3"
    },
    "language_info": {
      "name": "python"
    }
  },
  "cells": [
    {
      "cell_type": "markdown",
      "source": [
        "# Tarea 3"
      ],
      "metadata": {
        "id": "viV2E6DC3FgB"
      }
    },
    {
      "cell_type": "markdown",
      "source": [
        "Crear 5 archivos csv con datos de nombre de estudiante y calificaciones de al menos 5 materias, y completar la clase Registro con un método para calcular el promedio de calificaciones de un estudiante."
      ],
      "metadata": {
        "id": "z6CRpFh5pUAG"
      }
    },
    {
      "cell_type": "code",
      "execution_count": 1,
      "metadata": {
        "id": "4BlAKR2bc1G2"
      },
      "outputs": [],
      "source": [
        "# Clases definidas en la clase pasada\n",
        "from datetime import date\n",
        "\n",
        "class Persona:\n",
        "    def __init__(self, nombre = \"Sin nombre\", apellido = \"Sin apellido\", fecha_nacimiento = (1900, 1, 1)):\n",
        "        self.nombre = nombre\n",
        "        self.apellido = apellido\n",
        "        self.fecha_nacimiento = date(*fecha_nacimiento)\n",
        "\n",
        "    def saludos(self):\n",
        "        print(\"Saludos, soy\", self.nombre, self.apellido)\n",
        "\n",
        "    def calcula_edad(self):\n",
        "        today = date.today()\n",
        "        edad = int((today - self.fecha_nacimiento).days / 365)\n",
        "        return edad\n",
        "\n",
        "class Estudiante(Persona):\n",
        "    def __init__(self, nombre = \"Sin nombre\", apellido = \"Sin apellido\", fecha_nacimiento = (1900, 1, 1),\n",
        "                 semestre:int = 1):\n",
        "        super().__init__(nombre, apellido, fecha_nacimiento)\n",
        "        self.semestre = semestre\n",
        "        self.materias = []\n",
        "        self.calificaciones = {}\n",
        "        self.__meses__ = {1:\"Enero\",2:\"Febrero\",3:\"Marzo\",4:\"Abril\",5:\"Mayo\",\\\n",
        "                          6:\"Junio\",7:\"Julio\",8:\"Agosto\",9:\"Septiembre\",\\\n",
        "                            10:\"Octubre\",11:\"Noviembre\",12:\"Diciembre\"}\n",
        "\n",
        "    def setMatricula(self):\n",
        "        if self.fecha_nacimiento.year == 1900:\n",
        "            print(\"Error: Fecha de nacimiento inválida\")\n",
        "        else:\n",
        "            self.matricula = str(self.fecha_nacimiento.year) + self.nombre[:2] + self.apellido[:2]\n",
        "        return\n",
        "\n",
        "    def getMatricula(self):\n",
        "        return self.matricula\n",
        "\n",
        "    def setFechaIngreso(self,fecha:tuple):\n",
        "        self.fecha_ingreso = date(*fecha)\n",
        "        return\n",
        "\n",
        "    def setSemestre(self,semestre:int=1):\n",
        "        self.semestre = semestre\n",
        "        return\n",
        "\n",
        "    def getFechaIngreso(self):\n",
        "        anio = self.fecha_ingreso.year\n",
        "        mes = self.fecha_ingreso.month\n",
        "        dia = self.fecha_ingreso.day\n",
        "        print(f\"El estudiante {self.nombre} {self.apellido} ingresó el {dia} de {self.__meses__[mes]} de {anio}\")\n",
        "        return\n",
        "\n",
        "class Registro():\n",
        "    def __init__(self,*args:Estudiante,**kwargs):\n",
        "        # print('args =',args, 'kwargs =',kwargs, *kwargs.get(\"estudiante\"))\n",
        "        if kwargs.get(\"estudiante\") != None:\n",
        "            self.estudiante = Estudiante(*kwargs.get(\"estudiante\"))\n",
        "        else:\n",
        "            self.estudiante = args[0] # objeto de tipo Estudiante\n",
        "\n",
        "    def setCalificaciones(self,**kwargs):\n",
        "        if len(kwargs) ==0:\n",
        "            print(\"Error: Ningún registro de calificaciones proporcionado\")\n",
        "        else:\n",
        "            if kwargs.get('registros') != None:\n",
        "                if len(kwargs.get('registros')) == 0:\n",
        "                    print(\"Error: Ningún registro de calificaciones proporcionado\")\n",
        "                else:\n",
        "                    registros = kwargs.get('registros')\n",
        "                    for r in registros:\n",
        "                        self.estudiante.calificaciones[r[0]] = r[1]\n",
        "\n",
        "            elif kwargs.get('materias') != None and kwargs.get('calificaciones') != None:\n",
        "                materias = kwargs.get('materias')\n",
        "                califs = kwargs.get('calificaciones')\n",
        "                if len(materias) != len(califs):\n",
        "                    print(\"Error: no hay correspondencia entre el número de materias y el número de calificaciones\")\n",
        "                else:\n",
        "                    for m,c in zip(materias,califs):\n",
        "                        self.estudiante.calificaciones[m] = c\n",
        "        return\n",
        "\n",
        "    def printCalificaciones(self):\n",
        "        if len(self.estudiante.calificaciones) == 0:\n",
        "            print(\"Error: no se han capturado calificaciones\")\n",
        "        else:\n",
        "            for m in self.estudiante.calificaciones.keys():\n",
        "                print(f\"{m}: {self.estudiante.calificaciones[m]}\")\n",
        "        return\n",
        "\n",
        "    def printPromedio(self):\n",
        "        if len(self.estudiante.calificaciones) == 0:\n",
        "            print(\"Error: no se han capturado calificaciones\")\n",
        "        else:\n",
        "            suma = 0\n",
        "            for m in self.estudiante.calificaciones.values():\n",
        "                suma = suma + m\n",
        "            promedio = suma / len(self.estudiante.calificaciones.values())\n",
        "            print(f\"Promedio: {promedio}\")\n",
        "        return\n",
        "\n"
      ]
    },
    {
      "cell_type": "code",
      "source": [
        "# Cargar el modulo desde el repositorio de github\n",
        "!curl --remote-name \\\n",
        "     -H 'Accept: application/vnd.github.v3.raw' \\\n",
        "     --location https://raw.githubusercontent.com/DCDPUAEM/DCDP/main/01%20Programaci%C3%B3n%20en%20Python/notebooks/estudiantes.csv"
      ],
      "metadata": {
        "id": "E1RGmJdXiZcM"
      },
      "execution_count": null,
      "outputs": []
    },
    {
      "cell_type": "code",
      "source": [
        "# Lista de estudiantes creada a partir del csv de estudantes (en la clase pasada)\n",
        "import csv\n",
        "\n",
        "estudiantes = []\n",
        "with open(\"estudiantes.csv\") as archivo:\n",
        "    registros = csv.reader(archivo, delimiter=',',quotechar=',')\n",
        "    for r in list(registros)[1:]:\n",
        "        fecha_nac = (int(r[3][2:]),int(r[4]),int(r[5][:-2]))\n",
        "        estudiantes.append([r[1],r[2],fecha_nac,int(r[6])])\n",
        "\n",
        "print(estudiantes)"
      ],
      "metadata": {
        "id": "TCCVpUShihcH"
      },
      "execution_count": null,
      "outputs": []
    },
    {
      "cell_type": "code",
      "source": [
        "# Crear registros para cada estudiante (tomado de la notebook de la clase pasada)\n",
        "registros = []\n",
        "for e in estudiantes:\n",
        "  registros.append(Registro(estudiante=e))\n",
        "\n",
        "for r in registros:\n",
        "  print(r.estudiante.nombre, end=' ')"
      ],
      "metadata": {
        "id": "kbyjf5PE4bpo"
      },
      "execution_count": null,
      "outputs": []
    },
    {
      "cell_type": "code",
      "source": [
        "# descargar los archivos de calificaciones github\n",
        "from urllib.request import urlretrieve\n",
        "\n",
        "archivos = [\"ana_aranda\", \"diana_valenzo\", \"juan_perez\", \"lorenza_diaz\", \"luis_riojas\"]\n",
        "for i in archivos:\n",
        "    url = \"https://raw.githubusercontent.com/rebecacuan/Tareas-DCDP/main/Tarea3/calificaciones/\" + i + \".csv\"\n",
        "    urlretrieve(url, i)"
      ],
      "metadata": {
        "id": "79G8vRyldj-w"
      },
      "execution_count": 4,
      "outputs": []
    },
    {
      "cell_type": "code",
      "source": [
        "# funcion para leer las calificaciones de cada estudiante\n",
        "def leer_calif(nombre):\n",
        "    import csv\n",
        "    mat = []\n",
        "    cal = []\n",
        "    with open(nombre, 'r') as archivo:\n",
        "        calificaciones = csv.reader(archivo, delimiter=',')\n",
        "        for r in list(calificaciones)[1:]:\n",
        "            mat.append(r[0])\n",
        "            cal.append(float(r[1]))\n",
        "    return mat, cal"
      ],
      "metadata": {
        "id": "lPU-G2LhmmCZ"
      },
      "execution_count": 6,
      "outputs": []
    },
    {
      "cell_type": "code",
      "source": [
        "# Registro de calificaciones de cada estudiante. Los estudiantes estan listados en el mismo orden en el que estan aparecen en el archivo \"estudiantes.csv\"\n",
        "\n",
        "#Lista de estudiantes en el mismo orden en el que estan listados en el archivo \"estudiantes.csv\"\n",
        "nombres_estudiante = [\"juan_perez\", \"ana_aranda\", \"luis_riojas\", \"diana_valenzo\",  \"lorenza_diaz\"]\n",
        "for j in nombres_estudiante:\n",
        "    mat, cal = leer_calif(j)\n",
        "    registros[nombres_estudiante.index(j)].setCalificaciones(materias=mat,calificaciones=cal)"
      ],
      "metadata": {
        "id": "0IyD3Qd-kTD9"
      },
      "execution_count": 19,
      "outputs": []
    },
    {
      "cell_type": "code",
      "source": [
        "# test para revisar los 5 primeros registros, sus calificaciones y su promedio\n",
        "for r in registros[:5]:\n",
        "    print(r.estudiante.nombre, r.estudiante.apellido)\n",
        "    r.printCalificaciones()\n",
        "    r.printPromedio()\n",
        "    print(\"--------------------\")"
      ],
      "metadata": {
        "id": "N0k2a6Ip6bEK"
      },
      "execution_count": null,
      "outputs": []
    }
  ]
}