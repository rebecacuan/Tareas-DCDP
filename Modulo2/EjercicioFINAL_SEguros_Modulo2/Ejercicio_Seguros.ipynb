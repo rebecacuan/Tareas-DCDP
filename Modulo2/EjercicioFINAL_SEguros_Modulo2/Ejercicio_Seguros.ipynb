{
  "cells": [
    {
      "cell_type": "markdown",
      "metadata": {
        "id": "D3zCdnQfxYFn"
      },
      "source": [
        "# Proyecto: Generación de Datos Simulados para Seguros de Automóviles\n",
        "\n",
        "En esta tarea, se espera que apliquen los conocimientos adquiridos durante el curso para realizar un análisis completo de un conjunto de datos simulados de una aseguradora de coches enfocada en el servicio público, y posteriormente, desarrollen y desplieguen un modelo predictivo utilizando la plataforma Streamlit.\n"
      ]
    },
    {
      "cell_type": "markdown",
      "metadata": {
        "id": "TcwCaQ1Hxh6R"
      },
      "source": [
        "## Descripción del Proyecto:\n",
        "El proyecto se divide en dos partes principales:\n",
        "1.\tAnálisis de Datos:\n",
        "\n",
        "    * Generación de un conjunto de datos simulados que incluya información sobre pólizas de seguro, siniestros, tipo de cobertura, modelo del coche, entre otros.\n",
        "\n",
        "    * Exploración y análisis de los datos utilizando técnicas como visualizaciones, análisis estadístico y correlaciones.\n",
        "\n",
        "    * Aplicación de al menos seis análisis diferentes, incluyendo distribución de montos de reclamo, relación entre variables, análisis de tendencias y correlaciones.\n",
        "\n",
        "2.\tDesarrollo y Despliegue de Modelo Predictivo:\n",
        "    \n",
        "    * Selección de un modelo de Machine Learning adecuado para predecir alguna variable relevante basada en el conjunto de datos analizado.\n",
        "\n",
        "    * Entrenamiento del modelo seleccionado utilizando técnicas de validación cruzada y ajuste de hiperparámetros si es necesario.\n",
        "\n",
        "    * Desarrollo de una aplicación web utilizando Streamlit que permita a los usuarios introducir datos y obtener predicciones del modelo en tiempo real.\n",
        "\n",
        "    * Despliegue de la aplicación en un entorno accesible para su uso.\n"
      ]
    },
    {
      "cell_type": "markdown",
      "metadata": {
        "id": "aLFEf-zp3sb9"
      },
      "source": [
        "Variables Generadas:\n",
        "\n",
        "    Número de póliza: Se asigna un identificador único a cada póliza de seguro generado. El número de póliza sigue el formato \"PXXXXX\", donde \"XXXXX\" es un número único rellenado con ceros a la izquierda para mantener una longitud constante de cinco dígitos.\n",
        "\n",
        "    Fechas de inicio y vencimiento: Se generan fechas de inicio y vencimiento aleatorias dentro del rango de tiempo comprendido entre el 1 de enero de 2022 y el 31 de diciembre de 2025.\n",
        "\n",
        "    Tipo de cobertura: Se asigna aleatoriamente uno de los siguientes tipos de cobertura a cada póliza de seguro: responsabilidad civil, cobertura total, cobertura de colisión, cobertura amplia y cobertura de robo.\n",
        "\n",
        "    Modelo del coche: Se elige aleatoriamente un modelo de automóvil de una lista predefinida que incluye marcas como Toyota Corolla, Honda Civic, Ford Focus, Chevrolet Cruze y Nissan Sentra. Las probabilidades de selección están predefinidas para cada modelo.\n",
        "\n",
        "    Año del coche: Se genera aleatoriamente el año de fabricación del automóvil asegurado, variando entre 2010 y 2022.\n",
        "\n",
        "    Valor asegurado: Se asigna un valor asegurado aleatorio entre $10,000 y $50,000 para cada póliza de seguro.\n",
        "\n",
        "    Deducible: Se elige aleatoriamente un deducible de $500, $600 o $700 para cada póliza de seguro.\n",
        "\n",
        "    Estado del seguro: Se asigna aleatoriamente el estado del seguro como \"Al día\" o \"Vencido\" para cada póliza.\n",
        "\n",
        "    Gastos médicos y Daños a terceros: Se generan aleatoriamente valores binarios (0 o 1) para indicar la presencia o ausencia de siniestros relacionados con gastos médicos y daños a terceros, respectivamente."
      ]
    },
    {
      "cell_type": "markdown",
      "metadata": {
        "id": "Fat7liroyBQe"
      },
      "source": [
        "Pasos a Seguir:\n",
        "1.\tGeneración de Datos Simulados: Utilicen el siguiente código Python para generar un conjunto de datos simulados que represente la actividad de una aseguradora de coches:\n",
        "\n",
        "Asegúrense de incluir todas las variables solicitadas y generar al menos 10,000 casos diferentes."
      ]
    },
    {
      "cell_type": "code",
      "source": [
        "import pandas as pd\n",
        "def generate_random_date(start_date, end_date):\n",
        "    rng = np.random.default_rng()\n",
        "    days_difference = ( datetime.datetime.strptime(end_date, '%d/%m/%Y').date()  - datetime.datetime.strptime(start_date, '%d/%m/%Y').date() ).days\n",
        "    random_days = rng.integers(days_difference)\n",
        "    return datetime.datetime.strptime(start_date, '%d/%m/%Y').date() + datetime.timedelta(days=int(random_days))\n"
      ],
      "metadata": {
        "id": "i9bCmkZazH89"
      },
      "execution_count": null,
      "outputs": []
    },
    {
      "cell_type": "code",
      "source": [
        "import pandas as pd\n",
        "import numpy as np\n",
        "import datetime\n",
        "import random\n",
        "\n",
        "# Función para generar fechas aleatorias dentro de un rango\n",
        "def generate_random_date(start_date, end_date):\n",
        "    rng = np.random.default_rng()\n",
        "    days_difference = ( datetime.datetime.strptime(end_date, '%d/%m/%Y').date()  - datetime.datetime.strptime(start_date, '%d/%m/%Y').date() ).days\n",
        "    random_days = rng.integers(days_difference)\n",
        "    return datetime.datetime.strptime(start_date, '%d/%m/%Y').date() + datetime.timedelta(days=int(random_days))\n",
        "\n",
        "# Semilla para reproducibilidad\n",
        "np.random.seed(42)\n",
        "\n",
        "# Generar 10,000 casos simulados\n",
        "n_cases = 10000\n",
        "\n",
        "# Fechas de inicio y vencimiento de la cobertura desde 2022 a 2025\n",
        "start_date_coverage = '1/1/2022'\n",
        "end_date_coverage = '31/12/2025'\n",
        "\n",
        "# Tipos de cobertura\n",
        "coverage_types = ['Responsabilidad civil', 'Cobertura total', 'Cobertura de colisión', 'Cobertura amplia', 'Cobertura de robo']\n",
        "\n",
        "# Modelos de coches y probabilidades de ocurrencia\n",
        "car_models = ['Toyota Corolla', 'Honda Civic', 'Ford Focus', 'Chevrolet Cruze', 'Nissan Sentra',\n",
        "              'Hyundai Elantra', 'Volkswagen Jetta', 'Kia Forte', 'Mazda 3', 'Subaru Impreza']\n",
        "\n",
        "probabilities = [0.2, 0.15, 0.12, 0.1, 0.08, 0.1, 0.08, 0.07, 0.05, 0.05]\n",
        "\n",
        "# Generar datos simulados\n",
        "# Generar datos simulados\n",
        "data = {\n",
        "    'Número de póliza': ['P' + '0' * ( 5 - len(str(_) ) ) + str(_) for _ in range(1,n_cases+1)],\n",
        "    'Fecha de inicio': [generate_random_date(start_date_coverage, end_date_coverage) for _ in range(n_cases)],\n",
        "    'Tipo de cobertura': np.random.choice(coverage_types, n_cases),\n",
        "    'Modelo del coche': np.random.choice(car_models, n_cases, p=probabilities),\n",
        "    'Año del coche': np.random.choice(range(2010,2023), n_cases),\n",
        "    'Valor asegurado': np.random.randint(10000, 50000, n_cases),\n",
        "    'Deducible': np.random.choice([500, 600, 700], n_cases),\n",
        "    'Estado del seguro': np.random.choice([\"Al día\", \"Vencido\"], n_cases, p=[0.65, 0.35]),\n",
        "    'Gastos médicos': np.random.choice([0, 1], n_cases, p=[0.45, 0.55]),\n",
        "    'Daños a terceros': np.random.choice([0, 1], n_cases, p=[0.75, 0.25])\n",
        "}\n",
        "\n",
        "data['Fecha de vencimiento'] = [generate_random_date(data['Fecha de inicio'][_].strftime('%d/%m/%Y'), end_date_coverage) for _ in range(n_cases)]\n",
        "\n",
        "# Crear DataFrame\n",
        "df = pd.DataFrame(data)\n",
        "\n",
        "# Mostrar el DataFrame\n",
        "df.head(3)"
      ],
      "metadata": {
        "colab": {
          "base_uri": "https://localhost:8080/",
          "height": 212
        },
        "id": "nMfmlUde9pfF",
        "outputId": "f75b86e4-dfb6-4f8f-ee8a-043d81fef06d"
      },
      "execution_count": null,
      "outputs": [
        {
          "output_type": "execute_result",
          "data": {
            "text/plain": [
              "  Número de póliza Fecha de inicio      Tipo de cobertura Modelo del coche  \\\n",
              "0           P00001      2022-09-27       Cobertura amplia   Toyota Corolla   \n",
              "1           P00002      2024-08-16      Cobertura de robo        Kia Forte   \n",
              "2           P00003      2022-07-14  Cobertura de colisión      Honda Civic   \n",
              "\n",
              "   Año del coche  Valor asegurado  Deducible Estado del seguro  \\\n",
              "0           2016            30989        500            Al día   \n",
              "1           2019            13162        600           Vencido   \n",
              "2           2022            12752        600            Al día   \n",
              "\n",
              "   Gastos médicos  Daños a terceros Fecha de vencimiento  \n",
              "0               1                 0           2025-04-18  \n",
              "1               1                 0           2025-03-30  \n",
              "2               0                 1           2022-11-17  "
            ],
            "text/html": [
              "\n",
              "  <div id=\"df-8e2a10c9-3325-4659-873d-86a918880e05\" class=\"colab-df-container\">\n",
              "    <div>\n",
              "<style scoped>\n",
              "    .dataframe tbody tr th:only-of-type {\n",
              "        vertical-align: middle;\n",
              "    }\n",
              "\n",
              "    .dataframe tbody tr th {\n",
              "        vertical-align: top;\n",
              "    }\n",
              "\n",
              "    .dataframe thead th {\n",
              "        text-align: right;\n",
              "    }\n",
              "</style>\n",
              "<table border=\"1\" class=\"dataframe\">\n",
              "  <thead>\n",
              "    <tr style=\"text-align: right;\">\n",
              "      <th></th>\n",
              "      <th>Número de póliza</th>\n",
              "      <th>Fecha de inicio</th>\n",
              "      <th>Tipo de cobertura</th>\n",
              "      <th>Modelo del coche</th>\n",
              "      <th>Año del coche</th>\n",
              "      <th>Valor asegurado</th>\n",
              "      <th>Deducible</th>\n",
              "      <th>Estado del seguro</th>\n",
              "      <th>Gastos médicos</th>\n",
              "      <th>Daños a terceros</th>\n",
              "      <th>Fecha de vencimiento</th>\n",
              "    </tr>\n",
              "  </thead>\n",
              "  <tbody>\n",
              "    <tr>\n",
              "      <th>0</th>\n",
              "      <td>P00001</td>\n",
              "      <td>2022-09-27</td>\n",
              "      <td>Cobertura amplia</td>\n",
              "      <td>Toyota Corolla</td>\n",
              "      <td>2016</td>\n",
              "      <td>30989</td>\n",
              "      <td>500</td>\n",
              "      <td>Al día</td>\n",
              "      <td>1</td>\n",
              "      <td>0</td>\n",
              "      <td>2025-04-18</td>\n",
              "    </tr>\n",
              "    <tr>\n",
              "      <th>1</th>\n",
              "      <td>P00002</td>\n",
              "      <td>2024-08-16</td>\n",
              "      <td>Cobertura de robo</td>\n",
              "      <td>Kia Forte</td>\n",
              "      <td>2019</td>\n",
              "      <td>13162</td>\n",
              "      <td>600</td>\n",
              "      <td>Vencido</td>\n",
              "      <td>1</td>\n",
              "      <td>0</td>\n",
              "      <td>2025-03-30</td>\n",
              "    </tr>\n",
              "    <tr>\n",
              "      <th>2</th>\n",
              "      <td>P00003</td>\n",
              "      <td>2022-07-14</td>\n",
              "      <td>Cobertura de colisión</td>\n",
              "      <td>Honda Civic</td>\n",
              "      <td>2022</td>\n",
              "      <td>12752</td>\n",
              "      <td>600</td>\n",
              "      <td>Al día</td>\n",
              "      <td>0</td>\n",
              "      <td>1</td>\n",
              "      <td>2022-11-17</td>\n",
              "    </tr>\n",
              "  </tbody>\n",
              "</table>\n",
              "</div>\n",
              "    <div class=\"colab-df-buttons\">\n",
              "\n",
              "  <div class=\"colab-df-container\">\n",
              "    <button class=\"colab-df-convert\" onclick=\"convertToInteractive('df-8e2a10c9-3325-4659-873d-86a918880e05')\"\n",
              "            title=\"Convert this dataframe to an interactive table.\"\n",
              "            style=\"display:none;\">\n",
              "\n",
              "  <svg xmlns=\"http://www.w3.org/2000/svg\" height=\"24px\" viewBox=\"0 -960 960 960\">\n",
              "    <path d=\"M120-120v-720h720v720H120Zm60-500h600v-160H180v160Zm220 220h160v-160H400v160Zm0 220h160v-160H400v160ZM180-400h160v-160H180v160Zm440 0h160v-160H620v160ZM180-180h160v-160H180v160Zm440 0h160v-160H620v160Z\"/>\n",
              "  </svg>\n",
              "    </button>\n",
              "\n",
              "  <style>\n",
              "    .colab-df-container {\n",
              "      display:flex;\n",
              "      gap: 12px;\n",
              "    }\n",
              "\n",
              "    .colab-df-convert {\n",
              "      background-color: #E8F0FE;\n",
              "      border: none;\n",
              "      border-radius: 50%;\n",
              "      cursor: pointer;\n",
              "      display: none;\n",
              "      fill: #1967D2;\n",
              "      height: 32px;\n",
              "      padding: 0 0 0 0;\n",
              "      width: 32px;\n",
              "    }\n",
              "\n",
              "    .colab-df-convert:hover {\n",
              "      background-color: #E2EBFA;\n",
              "      box-shadow: 0px 1px 2px rgba(60, 64, 67, 0.3), 0px 1px 3px 1px rgba(60, 64, 67, 0.15);\n",
              "      fill: #174EA6;\n",
              "    }\n",
              "\n",
              "    .colab-df-buttons div {\n",
              "      margin-bottom: 4px;\n",
              "    }\n",
              "\n",
              "    [theme=dark] .colab-df-convert {\n",
              "      background-color: #3B4455;\n",
              "      fill: #D2E3FC;\n",
              "    }\n",
              "\n",
              "    [theme=dark] .colab-df-convert:hover {\n",
              "      background-color: #434B5C;\n",
              "      box-shadow: 0px 1px 3px 1px rgba(0, 0, 0, 0.15);\n",
              "      filter: drop-shadow(0px 1px 2px rgba(0, 0, 0, 0.3));\n",
              "      fill: #FFFFFF;\n",
              "    }\n",
              "  </style>\n",
              "\n",
              "    <script>\n",
              "      const buttonEl =\n",
              "        document.querySelector('#df-8e2a10c9-3325-4659-873d-86a918880e05 button.colab-df-convert');\n",
              "      buttonEl.style.display =\n",
              "        google.colab.kernel.accessAllowed ? 'block' : 'none';\n",
              "\n",
              "      async function convertToInteractive(key) {\n",
              "        const element = document.querySelector('#df-8e2a10c9-3325-4659-873d-86a918880e05');\n",
              "        const dataTable =\n",
              "          await google.colab.kernel.invokeFunction('convertToInteractive',\n",
              "                                                    [key], {});\n",
              "        if (!dataTable) return;\n",
              "\n",
              "        const docLinkHtml = 'Like what you see? Visit the ' +\n",
              "          '<a target=\"_blank\" href=https://colab.research.google.com/notebooks/data_table.ipynb>data table notebook</a>'\n",
              "          + ' to learn more about interactive tables.';\n",
              "        element.innerHTML = '';\n",
              "        dataTable['output_type'] = 'display_data';\n",
              "        await google.colab.output.renderOutput(dataTable, element);\n",
              "        const docLink = document.createElement('div');\n",
              "        docLink.innerHTML = docLinkHtml;\n",
              "        element.appendChild(docLink);\n",
              "      }\n",
              "    </script>\n",
              "  </div>\n",
              "\n",
              "\n",
              "<div id=\"df-a57ca1db-d104-4444-8a49-e4534f28392b\">\n",
              "  <button class=\"colab-df-quickchart\" onclick=\"quickchart('df-a57ca1db-d104-4444-8a49-e4534f28392b')\"\n",
              "            title=\"Suggest charts\"\n",
              "            style=\"display:none;\">\n",
              "\n",
              "<svg xmlns=\"http://www.w3.org/2000/svg\" height=\"24px\"viewBox=\"0 0 24 24\"\n",
              "     width=\"24px\">\n",
              "    <g>\n",
              "        <path d=\"M19 3H5c-1.1 0-2 .9-2 2v14c0 1.1.9 2 2 2h14c1.1 0 2-.9 2-2V5c0-1.1-.9-2-2-2zM9 17H7v-7h2v7zm4 0h-2V7h2v10zm4 0h-2v-4h2v4z\"/>\n",
              "    </g>\n",
              "</svg>\n",
              "  </button>\n",
              "\n",
              "<style>\n",
              "  .colab-df-quickchart {\n",
              "      --bg-color: #E8F0FE;\n",
              "      --fill-color: #1967D2;\n",
              "      --hover-bg-color: #E2EBFA;\n",
              "      --hover-fill-color: #174EA6;\n",
              "      --disabled-fill-color: #AAA;\n",
              "      --disabled-bg-color: #DDD;\n",
              "  }\n",
              "\n",
              "  [theme=dark] .colab-df-quickchart {\n",
              "      --bg-color: #3B4455;\n",
              "      --fill-color: #D2E3FC;\n",
              "      --hover-bg-color: #434B5C;\n",
              "      --hover-fill-color: #FFFFFF;\n",
              "      --disabled-bg-color: #3B4455;\n",
              "      --disabled-fill-color: #666;\n",
              "  }\n",
              "\n",
              "  .colab-df-quickchart {\n",
              "    background-color: var(--bg-color);\n",
              "    border: none;\n",
              "    border-radius: 50%;\n",
              "    cursor: pointer;\n",
              "    display: none;\n",
              "    fill: var(--fill-color);\n",
              "    height: 32px;\n",
              "    padding: 0;\n",
              "    width: 32px;\n",
              "  }\n",
              "\n",
              "  .colab-df-quickchart:hover {\n",
              "    background-color: var(--hover-bg-color);\n",
              "    box-shadow: 0 1px 2px rgba(60, 64, 67, 0.3), 0 1px 3px 1px rgba(60, 64, 67, 0.15);\n",
              "    fill: var(--button-hover-fill-color);\n",
              "  }\n",
              "\n",
              "  .colab-df-quickchart-complete:disabled,\n",
              "  .colab-df-quickchart-complete:disabled:hover {\n",
              "    background-color: var(--disabled-bg-color);\n",
              "    fill: var(--disabled-fill-color);\n",
              "    box-shadow: none;\n",
              "  }\n",
              "\n",
              "  .colab-df-spinner {\n",
              "    border: 2px solid var(--fill-color);\n",
              "    border-color: transparent;\n",
              "    border-bottom-color: var(--fill-color);\n",
              "    animation:\n",
              "      spin 1s steps(1) infinite;\n",
              "  }\n",
              "\n",
              "  @keyframes spin {\n",
              "    0% {\n",
              "      border-color: transparent;\n",
              "      border-bottom-color: var(--fill-color);\n",
              "      border-left-color: var(--fill-color);\n",
              "    }\n",
              "    20% {\n",
              "      border-color: transparent;\n",
              "      border-left-color: var(--fill-color);\n",
              "      border-top-color: var(--fill-color);\n",
              "    }\n",
              "    30% {\n",
              "      border-color: transparent;\n",
              "      border-left-color: var(--fill-color);\n",
              "      border-top-color: var(--fill-color);\n",
              "      border-right-color: var(--fill-color);\n",
              "    }\n",
              "    40% {\n",
              "      border-color: transparent;\n",
              "      border-right-color: var(--fill-color);\n",
              "      border-top-color: var(--fill-color);\n",
              "    }\n",
              "    60% {\n",
              "      border-color: transparent;\n",
              "      border-right-color: var(--fill-color);\n",
              "    }\n",
              "    80% {\n",
              "      border-color: transparent;\n",
              "      border-right-color: var(--fill-color);\n",
              "      border-bottom-color: var(--fill-color);\n",
              "    }\n",
              "    90% {\n",
              "      border-color: transparent;\n",
              "      border-bottom-color: var(--fill-color);\n",
              "    }\n",
              "  }\n",
              "</style>\n",
              "\n",
              "  <script>\n",
              "    async function quickchart(key) {\n",
              "      const quickchartButtonEl =\n",
              "        document.querySelector('#' + key + ' button');\n",
              "      quickchartButtonEl.disabled = true;  // To prevent multiple clicks.\n",
              "      quickchartButtonEl.classList.add('colab-df-spinner');\n",
              "      try {\n",
              "        const charts = await google.colab.kernel.invokeFunction(\n",
              "            'suggestCharts', [key], {});\n",
              "      } catch (error) {\n",
              "        console.error('Error during call to suggestCharts:', error);\n",
              "      }\n",
              "      quickchartButtonEl.classList.remove('colab-df-spinner');\n",
              "      quickchartButtonEl.classList.add('colab-df-quickchart-complete');\n",
              "    }\n",
              "    (() => {\n",
              "      let quickchartButtonEl =\n",
              "        document.querySelector('#df-a57ca1db-d104-4444-8a49-e4534f28392b button');\n",
              "      quickchartButtonEl.style.display =\n",
              "        google.colab.kernel.accessAllowed ? 'block' : 'none';\n",
              "    })();\n",
              "  </script>\n",
              "</div>\n",
              "\n",
              "    </div>\n",
              "  </div>\n"
            ],
            "application/vnd.google.colaboratory.intrinsic+json": {
              "type": "dataframe",
              "variable_name": "df",
              "summary": "{\n  \"name\": \"df\",\n  \"rows\": 10000,\n  \"fields\": [\n    {\n      \"column\": \"N\\u00famero de p\\u00f3liza\",\n      \"properties\": {\n        \"dtype\": \"string\",\n        \"num_unique_values\": 10000,\n        \"samples\": [\n          \"P06253\",\n          \"P04685\",\n          \"P01732\"\n        ],\n        \"semantic_type\": \"\",\n        \"description\": \"\"\n      }\n    },\n    {\n      \"column\": \"Fecha de inicio\",\n      \"properties\": {\n        \"dtype\": \"date\",\n        \"min\": \"2022-01-01\",\n        \"max\": \"2025-12-30\",\n        \"num_unique_values\": 1459,\n        \"samples\": [\n          \"2022-07-10\",\n          \"2025-04-12\",\n          \"2022-06-09\"\n        ],\n        \"semantic_type\": \"\",\n        \"description\": \"\"\n      }\n    },\n    {\n      \"column\": \"Tipo de cobertura\",\n      \"properties\": {\n        \"dtype\": \"category\",\n        \"num_unique_values\": 5,\n        \"samples\": [\n          \"Cobertura de robo\",\n          \"Responsabilidad civil\",\n          \"Cobertura de colisi\\u00f3n\"\n        ],\n        \"semantic_type\": \"\",\n        \"description\": \"\"\n      }\n    },\n    {\n      \"column\": \"Modelo del coche\",\n      \"properties\": {\n        \"dtype\": \"category\",\n        \"num_unique_values\": 10,\n        \"samples\": [\n          \"Volkswagen Jetta\",\n          \"Kia Forte\",\n          \"Subaru Impreza\"\n        ],\n        \"semantic_type\": \"\",\n        \"description\": \"\"\n      }\n    },\n    {\n      \"column\": \"A\\u00f1o del coche\",\n      \"properties\": {\n        \"dtype\": \"number\",\n        \"std\": 3,\n        \"min\": 2010,\n        \"max\": 2022,\n        \"num_unique_values\": 13,\n        \"samples\": [\n          2017,\n          2020,\n          2016\n        ],\n        \"semantic_type\": \"\",\n        \"description\": \"\"\n      }\n    },\n    {\n      \"column\": \"Valor asegurado\",\n      \"properties\": {\n        \"dtype\": \"number\",\n        \"std\": 11450,\n        \"min\": 10001,\n        \"max\": 49998,\n        \"num_unique_values\": 8817,\n        \"samples\": [\n          23475,\n          12890,\n          26957\n        ],\n        \"semantic_type\": \"\",\n        \"description\": \"\"\n      }\n    },\n    {\n      \"column\": \"Deducible\",\n      \"properties\": {\n        \"dtype\": \"number\",\n        \"std\": 81,\n        \"min\": 500,\n        \"max\": 700,\n        \"num_unique_values\": 3,\n        \"samples\": [\n          500,\n          600,\n          700\n        ],\n        \"semantic_type\": \"\",\n        \"description\": \"\"\n      }\n    },\n    {\n      \"column\": \"Estado del seguro\",\n      \"properties\": {\n        \"dtype\": \"category\",\n        \"num_unique_values\": 2,\n        \"samples\": [\n          \"Vencido\",\n          \"Al d\\u00eda\"\n        ],\n        \"semantic_type\": \"\",\n        \"description\": \"\"\n      }\n    },\n    {\n      \"column\": \"Gastos m\\u00e9dicos\",\n      \"properties\": {\n        \"dtype\": \"number\",\n        \"std\": 0,\n        \"min\": 0,\n        \"max\": 1,\n        \"num_unique_values\": 2,\n        \"samples\": [\n          0,\n          1\n        ],\n        \"semantic_type\": \"\",\n        \"description\": \"\"\n      }\n    },\n    {\n      \"column\": \"Da\\u00f1os a terceros\",\n      \"properties\": {\n        \"dtype\": \"number\",\n        \"std\": 0,\n        \"min\": 0,\n        \"max\": 1,\n        \"num_unique_values\": 2,\n        \"samples\": [\n          1,\n          0\n        ],\n        \"semantic_type\": \"\",\n        \"description\": \"\"\n      }\n    },\n    {\n      \"column\": \"Fecha de vencimiento\",\n      \"properties\": {\n        \"dtype\": \"date\",\n        \"min\": \"2022-01-21\",\n        \"max\": \"2025-12-30\",\n        \"num_unique_values\": 1278,\n        \"samples\": [\n          \"2025-12-06\",\n          \"2025-04-09\"\n        ],\n        \"semantic_type\": \"\",\n        \"description\": \"\"\n      }\n    }\n  ]\n}"
            }
          },
          "metadata": {},
          "execution_count": 2
        }
      ]
    },
    {
      "cell_type": "markdown",
      "metadata": {
        "id": "NrOnINo3yFma"
      },
      "source": [
        "2. Análisis de Datos: Realicen al menos seis análisis diferentes utilizando técnicas de visualización y estadística descriptiva. Por ejemplo, pueden explorar la distribución de los montos de reclamo, la relación entre variables, la cantidad de siniestros por tipo de coche o mes, entre otros."
      ]
    },
    {
      "cell_type": "code",
      "source": [
        "df.info()"
      ],
      "metadata": {
        "colab": {
          "base_uri": "https://localhost:8080/"
        },
        "id": "bsLV1p4fMaD8",
        "outputId": "d527d5ae-31cf-448f-fd48-29a04792524f"
      },
      "execution_count": null,
      "outputs": [
        {
          "output_type": "stream",
          "name": "stdout",
          "text": [
            "<class 'pandas.core.frame.DataFrame'>\n",
            "RangeIndex: 10000 entries, 0 to 9999\n",
            "Data columns (total 11 columns):\n",
            " #   Column                Non-Null Count  Dtype \n",
            "---  ------                --------------  ----- \n",
            " 0   Número de póliza      10000 non-null  object\n",
            " 1   Fecha de inicio       10000 non-null  object\n",
            " 2   Tipo de cobertura     10000 non-null  object\n",
            " 3   Modelo del coche      10000 non-null  object\n",
            " 4   Año del coche         10000 non-null  int64 \n",
            " 5   Valor asegurado       10000 non-null  int64 \n",
            " 6   Deducible             10000 non-null  int64 \n",
            " 7   Estado del seguro     10000 non-null  object\n",
            " 8   Gastos médicos        10000 non-null  int64 \n",
            " 9   Daños a terceros      10000 non-null  int64 \n",
            " 10  Fecha de vencimiento  10000 non-null  object\n",
            "dtypes: int64(5), object(6)\n",
            "memory usage: 859.5+ KB\n"
          ]
        }
      ]
    },
    {
      "cell_type": "code",
      "source": [
        "import seaborn as sns\n",
        "import matplotlib.pyplot as plt\n",
        "\n",
        "# Análisis: Tipos de coches con más siniestros\n",
        "print('Tipos de coches con más siniestros')\n",
        "top_coches_siniestrados = df['Modelo del coche'].value_counts()\n",
        "print( top_coches_siniestrados )\n",
        "print( \"\" )\n",
        "# Gráfico: Tipos de coches con más siniestros\n",
        "top_coches_siniestrados.sort_values(ascending=True).plot(kind='barh', title='Tipos de coches con más siniestros', xlabel='Modelo del coche', ylabel='Numero de siniestros', width=0.8)\n",
        "plt.show()\n",
        "# Análisis: Fechas con más siniestros\n",
        "print('Fechas con más siniestros')\n",
        "df_copia = df.copy()\n",
        "df_copia['Mes de inicio'] = df_copia['Fecha de inicio'].apply(lambda x: int(x.strftime('%m')))\n",
        "top_fechas_siniestros = df_copia['Mes de inicio'].value_counts().sort_index()\n",
        "print( top_fechas_siniestros )\n",
        "print(\"\")\n",
        "\n",
        "# Gráfico: Fechas con más siniestros\n",
        "print('Fechas con más siniestros')\n",
        "top_fechas_siniestros.plot(kind='line', title='Tipos de coches con más siniestros', xlabel='Fechas con más siniestros', ylabel='Mes')\n",
        "plt.show()"
      ],
      "metadata": {
        "colab": {
          "base_uri": "https://localhost:8080/",
          "height": 1000
        },
        "id": "x0YXvJ8QJ31g",
        "outputId": "70cdcb27-5893-40e3-8557-04cdbfa962d3"
      },
      "execution_count": null,
      "outputs": [
        {
          "output_type": "stream",
          "name": "stdout",
          "text": [
            "Tipos de coches con más siniestros\n",
            "Modelo del coche\n",
            "Toyota Corolla      1971\n",
            "Honda Civic         1508\n",
            "Ford Focus          1223\n",
            "Chevrolet Cruze     1035\n",
            "Hyundai Elantra      969\n",
            "Volkswagen Jetta     803\n",
            "Nissan Sentra        778\n",
            "Kia Forte            724\n",
            "Mazda 3              501\n",
            "Subaru Impreza       488\n",
            "Name: count, dtype: int64\n",
            "\n"
          ]
        },
        {
          "output_type": "display_data",
          "data": {
            "text/plain": [
              "<Figure size 640x480 with 1 Axes>"
            ],
            "image/png": "[encoded data removed]"
          },
          "metadata": {}
        },
        {
          "output_type": "stream",
          "name": "stdout",
          "text": [
            "Fechas con más siniestros\n",
            "Mes de inicio\n",
            "1     875\n",
            "2     785\n",
            "3     852\n",
            "4     830\n",
            "5     878\n",
            "6     772\n",
            "7     833\n",
            "8     794\n",
            "9     855\n",
            "10    878\n",
            "11    782\n",
            "12    866\n",
            "Name: count, dtype: int64\n",
            "\n",
            "Fechas con más siniestros\n"
          ]
        },
        {
          "output_type": "display_data",
          "data": {
            "text/plain": [
              "<Figure size 640x480 with 1 Axes>"
            ],
            "image/png": "[encoded data removed]"
          },
          "metadata": {}
        }
      ]
    },
    {
      "cell_type": "markdown",
      "metadata": {
        "id": "X8kHj4MayPG5"
      },
      "source": [
        "3. Desarrollo del Modelo Predictivo: Elijan un modelo de Machine Learning adecuado para predecir alguna variable relevante en función del conjunto de datos generado. Por ejemplo, pueden predecir el monto del reclamo, el tipo de siniestro o la probabilidad de siniestros."
      ]
    },
    {
      "cell_type": "code",
      "source": [
        "from sklearn.model_selection import train_test_split\n",
        "from sklearn.ensemble import RandomForestClassifier\n",
        "from sklearn.metrics import accuracy_score\n",
        "\n",
        "# Codificación de variables categóricas\n",
        "df_encoded = pd.get_dummies(df.drop(['Número de póliza', 'Fecha de inicio', 'Fecha de vencimiento'], axis=1))\n",
        "\n",
        "# División de datos en entrenamiento y prueba\n",
        "X = df_encoded.drop('Gastos médicos', axis=1)\n",
        "y = df_encoded['Gastos médicos']\n",
        "X_train, X_test, y_train, y_test = train_test_split(X, y, test_size=0.2, random_state=42)\n",
        "\n",
        "# Entrenamiento del modelo\n",
        "model = RandomForestClassifier(n_estimators=100, random_state=42)\n",
        "model.fit(X_train, y_train)\n",
        "\n",
        "# Evaluación del modelo\n",
        "y_pred = model.predict(X_test)\n",
        "accuracy = accuracy_score(y_test, y_pred)\n",
        "print(f\"\\nPrecisión del modelo: {accuracy:.2f}\")"
      ],
      "metadata": {
        "colab": {
          "base_uri": "https://localhost:8080/"
        },
        "id": "v-aAgJw-UCtG",
        "outputId": "0d0884ad-40bd-4271-f0d1-74887e55fbf1"
      },
      "execution_count": null,
      "outputs": [
        {
          "output_type": "stream",
          "name": "stdout",
          "text": [
            "\n",
            "Precisión del modelo: 0.52\n"
          ]
        }
      ]
    },
    {
      "cell_type": "markdown",
      "metadata": {
        "id": "A7q3GL0ryTc3"
      },
      "source": [
        "4. Despliegue de la Aplicación en Streamlit: Desarrollen una aplicación web utilizando Streamlit que permita a los usuarios interactuar con el modelo predictivo y obtener predicciones en tiempo real. Asegúrense de que la aplicación sea intuitiva y fácil de usar."
      ]
    },
    {
      "cell_type": "markdown",
      "source": [],
      "metadata": {
        "id": "VxX4OZKQ-usb"
      }
    },
    {
      "cell_type": "markdown",
      "metadata": {
        "id": "DHEGRy_zyefY"
      },
      "source": [
        "# Entrega del Proyecto:\n",
        "\n",
        "La entrega del proyecto se realizará en dos etapas:\n",
        "1.\tInforme Escrito: Presenten un informe escrito que incluya una descripción detallada de cada paso realizado, los resultados obtenidos en el análisis de datos, la elección y evaluación del modelo predictivo, y una guía de usuario para la aplicación desarrollada en Streamlit.\n",
        "\n",
        "2.\tCódigo y Archivos de la Aplicación: Adjunten el código Python utilizado para generar los datos simulados, realizar el análisis de datos, entrenar el modelo predictivo y desarrollar la aplicación en Streamlit. Además, proporcionen los archivos necesarios para ejecutar la aplicación de manera local o el enlace al entorno en el que está desplegada.\n",
        "\n",
        "Fecha de Entrega: La fecha límite para la entrega del proyecto es el [28 de abril]. Por favor, asegúrense de cumplir con todos los requisitos y de proporcionar una presentación clara y organizada de su trabajo.\n",
        "\n",
        "Esperamos ver sus proyectos finales y estamos disponibles para cualquier pregunta o aclaración adicional que puedan necesitar.\n"
      ]
    }
  ],
  "metadata": {
    "colab": {
      "provenance": []
    },
    "kernelspec": {
      "display_name": "Python 3 (ipykernel)",
      "language": "python",
      "name": "python3"
    },
    "language_info": {
      "codemirror_mode": {
        "name": "ipython",
        "version": 3
      },
      "file_extension": ".py",
      "mimetype": "text/x-python",
      "name": "python",
      "nbconvert_exporter": "python",
      "pygments_lexer": "ipython3",
      "version": "3.11.5"
    }
  },
  "nbformat": 4,
  "nbformat_minor": 0
}