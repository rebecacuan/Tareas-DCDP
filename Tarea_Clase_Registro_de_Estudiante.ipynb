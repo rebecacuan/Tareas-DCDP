{
  "nbformat": 4,
  "nbformat_minor": 0,
  "metadata": {
    "colab": {
      "provenance": []
    },
    "kernelspec": {
      "name": "python3",
      "display_name": "Python 3"
    },
    "language_info": {
      "name": "python"
    }
  },
  "cells": [
    {
      "cell_type": "markdown",
      "source": [
        "### &#9998; Construye una clase \"Registro de estudiante\" que herede de la clase \"Persona\"\n",
        "\n",
        "<img src=\"https://drive.google.com/uc?id=1q4YFtlV75p1QLkYLXpvPCnyR10a4g_5d\" width=600>"
      ],
      "metadata": {
        "id": "ttrTg5LyoBY6"
      }
    },
    {
      "cell_type": "code",
      "source": [
        "# Clase Persona definida en la clase pasada\n",
        "\n",
        "from datetime import date\n",
        "class Persona:\n",
        "    def __init__(self, nombre = \"Sin nombre\", apellido = \"Sin apellido\", fecha_nacimiento = date(1970, 1, 1)):\n",
        "        self.nombre = nombre\n",
        "        self.apellido = apellido\n",
        "        self.fecha_nacimiento = fecha_nacimiento\n",
        "\n",
        "    def saludos(self):\n",
        "        print(\"Saludos, soy\", self.nombre, self.apellido)\n",
        "\n",
        "    def edad(self):\n",
        "        today = date.today()\n",
        "        edad = int((today - self.fecha_nacimiento).days / 365)\n",
        "        return edad"
      ],
      "metadata": {
        "id": "8nS816F1eyWP"
      },
      "execution_count": 26,
      "outputs": []
    },
    {
      "cell_type": "code",
      "source": [
        "# Clase Registro de Estudiante\n",
        "\n",
        "class RegistroEstudiante(Persona):\n",
        "    def __init__(self, nombre = \"Sin nombre\", apellido = \"Sin apellido\", fecha_nacimiento = date(1970, 1, 1), matricula = \"Sin Matricula\", fecha_ingreso = date(1990, 1, 1), semestre = 1, calificaciones = {\"Sin Materia\": 0}):\n",
        "        super().__init__(nombre, apellido, fecha_nacimiento)\n",
        "        self.matricula = matricula\n",
        "        self.fecha_ingreso = fecha_ingreso\n",
        "        self.semestre = semestre\n",
        "        self.calificaciones = calificaciones"
      ],
      "metadata": {
        "id": "LTh25KdmakDV"
      },
      "execution_count": 27,
      "outputs": []
    }
  ]
}