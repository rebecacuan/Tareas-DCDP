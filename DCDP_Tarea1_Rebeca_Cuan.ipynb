{
  "nbformat": 4,
  "nbformat_minor": 0,
  "metadata": {
    "colab": {
      "provenance": []
    },
    "kernelspec": {
      "name": "python3",
      "display_name": "Python 3"
    },
    "language_info": {
      "name": "python"
    }
  },
  "cells": [
    {
      "cell_type": "markdown",
      "source": [
        "<a href=\"https://colab.research.google.com/github/DCDPUAEM/DCDP/blob/main/01%20Programaci%C3%B3n%20en%20Python/notebooks/Las_bases_para_usar_Python.ipynb\" target=\"_parent\"><img src=\"https://colab.research.google.com/assets/colab-badge.svg\" alt=\"Open In Colab\"/></a>\n"
      ],
      "metadata": {
        "id": "7ZOIEKpTv1TC"
      }
    },
    {
      "cell_type": "markdown",
      "source": [
        "*Alumna: Rebeca Cuan*"
      ],
      "metadata": {
        "id": "8-mx0ip7wG-Z"
      }
    },
    {
      "cell_type": "markdown",
      "source": [
        "## &#9998; Ejercicio Fizz Buzz\n",
        "\n",
        "Fizz buzz es un juego de palabras grupal para enseñar a los niños la división [[1]](https://en.wikipedia.org/wiki/Fizz_buzz). Los jugadores se turnan para contar de forma incremental, reemplazando cualquier número divisible por tres con la palabra \"Fizz\" y cualquier número divisible por cinco con la palabra \"Buzz\"."
      ],
      "metadata": {
        "id": "gtAmp6PZpTH8"
      }
    },
    {
      "cell_type": "markdown",
      "source": [
        "Un ejemplo del juego sería el siguiente:\n",
        "\n",
        "1, 2, Fizz, 4, Buzz, Fizz, 7, 8, Fizz, Buzz, 11, Fizz, 13, 14, Fizz Buzz, 16, 17, Fizz, 19, Buzz, Fizz, 22, 23, Fizz, Buzz, 26, Fizz, 28, 29, Fizz Buzz, 31, 32, Fizz, 34, Buzz, Fizz, ...\n",
        "\n",
        "- Escribe un programa en Python que dados dos números de inicio y fin de una secuencia, recorra la secuencia y escriba el número o la cadena \"Fizz\", \"Buzz\" correspondiente.  \n",
        "- Por ejemplo. Si los números de entrada son 13 y 19, el programa deberá escribir:\n",
        "    \n",
        "    13, 14, Fizz Buzz,16,17,Fizz,19"
      ],
      "metadata": {
        "id": "dfLYxoBepa-g"
      }
    },
    {
      "cell_type": "code",
      "source": [
        "# LECTURA DE DATOS DE ENTRADA\n",
        "'''\n",
        "Escribe un programa que solicite dos numeros al usuario: n y m\n",
        "El programa debe garantizar lo siguiente:\n",
        "    1. que n y m son enteros\n",
        "    2. que n > 0 y m > 0\n",
        "    2. que n < m\n",
        "'''"
      ],
      "metadata": {
        "id": "Tot0WvSQvLPU"
      },
      "execution_count": null,
      "outputs": []
    },
    {
      "cell_type": "code",
      "source": [
        "# ingresar el número de inicio del juego\n",
        "numero_inicio = input('Ingresa un número entero mayor que cero de inicio del juego:\\n')\n",
        "while type(numero_inicio) is str:\n",
        "    try:\n",
        "        numero_inicio = int(numero_inicio) # Validar si es entero\n",
        "        if numero_inicio <= 0:\n",
        "            numero_inicio = input('¡Lo siento!. Debes ingresar un número entero mayor que cero de inicio del juego:\\n')\n",
        "    except:\n",
        "        numero_inicio = input('¡Lo siento! El número ingresado no es entero. Ingresa un número entero mayor que cero de inicio del juego:\\n')\n",
        "\n",
        "# ingresar el número de termino del juego\n",
        "numero_fin = input(f'Ingresa un número entero mayor que {numero_inicio} de término del juego: ')\n",
        "while type(numero_fin) is str:\n",
        "    try:\n",
        "        numero_fin = int(numero_fin) # validar que es entero\n",
        "        if numero_fin < numero_inicio:\n",
        "            numero_fin = input(f'¡Lo siento!. Debes Ingresar un número entero mayor que {numero_inicio} de termino del juego:\\n')\n",
        "    except:\n",
        "        numero_fin = input(f'¡Lo siento! El número ingresado no es entero. Ingresa un número entero mayor que {numero_inicio} de término del juego:')\n",
        "\n",
        "print(f'El número de inicio es: {numero_inicio}')\n",
        "print(f'El número de término es {numero_fin}\\n')\n",
        "\n",
        "# Crear la secuencia con los numero de inicio y término ingresados\n",
        "z = [] # lista vacia para almacenar la secuencia del juego\n",
        "for i in range(numero_inicio,numero_fin+1):\n",
        "    if i%3 == 0 and i%5 == 0:\n",
        "        z.append('FIZZ BUZZ')\n",
        "    elif i%3 == 0:\n",
        "        z.append('FIZZ')\n",
        "    elif i%5 == 0:\n",
        "        z.append('BUZZ')\n",
        "    else:\n",
        "       z.append(str(i))\n",
        "\n",
        "# Imprimir en la pantalla el la secuencia\n",
        "print('Tu secuencia para los múmeros ingresados es:\\n')\n",
        "print(', '.join(z)) # Imprimir el resultado como una cadena separada por comas"
      ],
      "metadata": {
        "id": "ywaGLm-PppF4"
      },
      "execution_count": null,
      "outputs": []
    },
    {
      "cell_type": "code",
      "source": [],
      "metadata": {
        "id": "TljVKVBJr6HK"
      },
      "execution_count": null,
      "outputs": []
    }
  ]
}